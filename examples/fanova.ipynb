{
 "cells": [
  {
   "cell_type": "code",
   "id": "initial_id",
   "metadata": {
    "collapsed": true,
    "ExecuteTime": {
     "end_time": "2025-01-28T20:31:14.198128Z",
     "start_time": "2025-01-28T20:25:57.846286Z"
    }
   },
   "source": [
    "from ConfigSpace.hyperparameters import IntegerHyperparameter\n",
    "import numpy as np\n",
    "from ConfigSpace import ConfigurationSpace, CategoricalHyperparameter\n",
    "from hypershap.base.benchmark.yahpogym import YahpoGymBenchmark\n",
    "\n",
    "from hypershap.baseline.original_fanova import fANOVA\n",
    "import json\n",
    "\n",
    "scenario = \"lcbench\"\n",
    "metric = \"val_accuracy\"\n",
    "instance_idx = 1\n",
    "samples = 1_000\n",
    "\n",
    "for instance_idx in range(34):\n",
    "    yahpo = YahpoGymBenchmark(scenario_name=scenario, metric=metric, instance_idx=instance_idx, yahpogym_folder=\"../data/yahpodata/\")\n",
    "    configs = yahpo.sample_configurations(n=samples, random_state=42)\n",
    "    \n",
    "    cs = yahpo.get_opt_space()\n",
    "    param_names = list()\n",
    "    param_types = list()\n",
    "    for hp in cs.get_hyperparameters():\n",
    "        if hp.name not in yahpo.get_list_of_tunable_hyperparameters():\n",
    "            continue\n",
    "        param_names.append(hp.name)\n",
    "        if isinstance(hp, CategoricalHyperparameter):\n",
    "            param_types.append(\"categorical\")\n",
    "        elif isinstance(hp, IntegerHyperparameter):\n",
    "            param_types.append(\"int\")\n",
    "        else:\n",
    "            param_types.append(\"float\")\n",
    "        \n",
    "    X = list()\n",
    "    y = list()\n",
    "    for config in configs:\n",
    "        cfg_array = list()\n",
    "        for i, p in enumerate(param_names):\n",
    "            if param_types[i] == \"float\":\n",
    "                cfg_array.append(float(config[p]))\n",
    "            elif param_types[i] == \"int\":\n",
    "                cfg_array.append(int(config[p]))\n",
    "            else:\n",
    "                cfg_array.append(config[p])\n",
    "        X.append(cfg_array)\n",
    "        y.append(float(yahpo.evaluate(config)))\n",
    "    X = np.array(X)\n",
    "    y = np.array(y)\n",
    "\n",
    "\n",
    "    cs = ConfigurationSpace()\n",
    "    dimensions = []\n",
    "    i = 0\n",
    "    param_names = []\n",
    "    for param in yahpo.get_opt_space().get_hyperparameters():\n",
    "        if param.name in yahpo.get_list_of_tunable_hyperparameters():\n",
    "            param_names = param_names + [param.name]\n",
    "            dimensions.append(i)\n",
    "            i += 1\n",
    "            cs.add_hyperparameter(param)\n",
    "            \n",
    "    \n",
    "    fanova = fANOVA(X=X, Y=y, config_space=cs)\n",
    "\n",
    "    param_importance_dict = dict()\n",
    "    for p in range(7):\n",
    "        dims = (p, )\n",
    "        res = fanova.quantify_importance(dims=dims)\n",
    "        param_importance_dict[param_names[p]] = list(res.values())[0][\"individual importance\"]\n",
    "        print(param_names[p], p, res)\n",
    "    \n",
    "    print(param_importance_dict)\n",
    "    json.dump(param_importance_dict, open(\"../res/fanova/fanova_\" + \"_\".join([scenario, metric, yahpo.benchmark.instances[instance_idx], str(samples)]) + \".json\", \"w\"))"
   ],
   "outputs": [
    {
     "name": "stdout",
     "output_type": "stream",
     "text": [
      "Please make sure to also cite:\n",
      "Zimmer, L., Lindauer, M., & Hutter, F. (2021). Auto-Pytorch: Multi-Fidelity Metalearning for Efficient and Robust AutoDL. IEEE Transactions on Pattern Analysis and Machine Intelligence, 43(9), 3079-3090.\n",
      "Zimmer, L. (2020). data_2k_lw.zip. figshare. Dataset. https://doi.org/10.6084/m9.figshare.11662422.v1, Apache License, Version 2.0.\n"
     ]
    },
    {
     "name": "stderr",
     "output_type": "stream",
     "text": [
      "WARNING:hypershap.baseline.original_fanova.fANOVA:Note that fANOVA expects data to be ordered like the return of ConfigSpace's 'get_hyperparameters'-method. We recommend to use labeled pandas dataframes to avoid any problems.\n"
     ]
    },
    {
     "name": "stdout",
     "output_type": "stream",
     "text": [
      "CP1\n",
      "CP2\n",
      "CP3\n",
      "CP4\n",
      "CP5\n",
      "CP6\n",
      "CP7\n"
     ]
    },
    {
     "name": "stderr",
     "output_type": "stream",
     "text": [
      "100%|██████████| 16/16 [00:00<00:00, 27492.37it/s]\n"
     ]
    },
    {
     "name": "stdout",
     "output_type": "stream",
     "text": [
      "CP8\n",
      "compute marginals\n",
      "compute marginals iterating over trees\n"
     ]
    },
    {
     "name": "stderr",
     "output_type": "stream",
     "text": [
      "100%|██████████| 16/16 [00:00<00:00, 125.42it/s]\n"
     ]
    },
    {
     "name": "stdout",
     "output_type": "stream",
     "text": [
      "compute marginals done\n"
     ]
    },
    {
     "name": "stderr",
     "output_type": "stream",
     "text": [
      "1it [00:00, 7194.35it/s]\n"
     ]
    },
    {
     "name": "stdout",
     "output_type": "stream",
     "text": [
      "batch_size 0 {(0,): {'individual importance': 0.0693013494909831, 'total importance': 0.0693013494909831, 'individual std': 0.04564752224118909, 'total std': 0.04564752224118909}}\n",
      "compute marginals\n",
      "compute marginals iterating over trees\n"
     ]
    },
    {
     "name": "stderr",
     "output_type": "stream",
     "text": [
      "100%|██████████| 16/16 [00:00<00:00, 75.72it/s]\n"
     ]
    },
    {
     "name": "stdout",
     "output_type": "stream",
     "text": [
      "compute marginals done\n"
     ]
    },
    {
     "name": "stderr",
     "output_type": "stream",
     "text": [
      "1it [00:00, 9362.29it/s]\n"
     ]
    },
    {
     "name": "stdout",
     "output_type": "stream",
     "text": [
      "learning_rate 1 {(1,): {'individual importance': 0.012948771380585745, 'total importance': 0.012948771380585745, 'individual std': 0.007609263497759755, 'total std': 0.007609263497759755}}\n",
      "compute marginals\n",
      "compute marginals iterating over trees\n"
     ]
    },
    {
     "name": "stderr",
     "output_type": "stream",
     "text": [
      "100%|██████████| 16/16 [00:00<00:00, 60.99it/s]\n"
     ]
    },
    {
     "name": "stdout",
     "output_type": "stream",
     "text": [
      "compute marginals done\n"
     ]
    },
    {
     "name": "stderr",
     "output_type": "stream",
     "text": [
      "1it [00:00, 9986.44it/s]\n"
     ]
    },
    {
     "name": "stdout",
     "output_type": "stream",
     "text": [
      "max_dropout 2 {(2,): {'individual importance': 0.016191606367877823, 'total importance': 0.016191606367877823, 'individual std': 0.018275796608565008, 'total std': 0.018275796608565008}}\n",
      "compute marginals\n",
      "compute marginals iterating over trees\n"
     ]
    },
    {
     "name": "stderr",
     "output_type": "stream",
     "text": [
      "100%|██████████| 16/16 [00:00<00:00, 64.13it/s]\n"
     ]
    },
    {
     "name": "stdout",
     "output_type": "stream",
     "text": [
      "compute marginals done\n"
     ]
    },
    {
     "name": "stderr",
     "output_type": "stream",
     "text": [
      "1it [00:00, 8924.05it/s]\n"
     ]
    },
    {
     "name": "stdout",
     "output_type": "stream",
     "text": [
      "max_units 3 {(3,): {'individual importance': 0.03419796702958773, 'total importance': 0.03419796702958773, 'individual std': 0.047036997703832385, 'total std': 0.047036997703832385}}\n",
      "compute marginals\n",
      "compute marginals iterating over trees\n"
     ]
    },
    {
     "name": "stderr",
     "output_type": "stream",
     "text": [
      "100%|██████████| 16/16 [00:00<00:00, 60.59it/s]\n"
     ]
    },
    {
     "name": "stdout",
     "output_type": "stream",
     "text": [
      "compute marginals done\n"
     ]
    },
    {
     "name": "stderr",
     "output_type": "stream",
     "text": [
      "1it [00:00, 9619.96it/s]\n"
     ]
    },
    {
     "name": "stdout",
     "output_type": "stream",
     "text": [
      "momentum 4 {(4,): {'individual importance': 0.02444314540756847, 'total importance': 0.02444314540756847, 'individual std': 0.034992023961407936, 'total std': 0.034992023961407936}}\n",
      "compute marginals\n",
      "compute marginals iterating over trees\n"
     ]
    },
    {
     "name": "stderr",
     "output_type": "stream",
     "text": [
      "100%|██████████| 16/16 [00:00<00:00, 989.86it/s]\n"
     ]
    },
    {
     "name": "stdout",
     "output_type": "stream",
     "text": [
      "compute marginals done\n"
     ]
    },
    {
     "name": "stderr",
     "output_type": "stream",
     "text": [
      "1it [00:00, 9510.89it/s]\n"
     ]
    },
    {
     "name": "stdout",
     "output_type": "stream",
     "text": [
      "num_layers 5 {(5,): {'individual importance': 0.28658580140187995, 'total importance': 0.28658580140187995, 'individual std': 0.11169832830223225, 'total std': 0.11169832830223225}}\n",
      "compute marginals\n",
      "compute marginals iterating over trees\n"
     ]
    },
    {
     "name": "stderr",
     "output_type": "stream",
     "text": [
      "100%|██████████| 16/16 [00:00<00:00, 62.01it/s]\n"
     ]
    },
    {
     "name": "stdout",
     "output_type": "stream",
     "text": [
      "compute marginals done\n"
     ]
    },
    {
     "name": "stderr",
     "output_type": "stream",
     "text": [
      "1it [00:00, 9177.91it/s]\n"
     ]
    },
    {
     "name": "stdout",
     "output_type": "stream",
     "text": [
      "weight_decay 6 {(6,): {'individual importance': 0.0203455827829345, 'total importance': 0.0203455827829345, 'individual std': 0.01963181646141737, 'total std': 0.01963181646141737}}\n",
      "{'batch_size': 0.0693013494909831, 'learning_rate': 0.012948771380585745, 'max_dropout': 0.016191606367877823, 'max_units': 0.03419796702958773, 'momentum': 0.02444314540756847, 'num_layers': 0.28658580140187995, 'weight_decay': 0.0203455827829345}\n",
      "Please make sure to also cite:\n",
      "Zimmer, L., Lindauer, M., & Hutter, F. (2021). Auto-Pytorch: Multi-Fidelity Metalearning for Efficient and Robust AutoDL. IEEE Transactions on Pattern Analysis and Machine Intelligence, 43(9), 3079-3090.\n",
      "Zimmer, L. (2020). data_2k_lw.zip. figshare. Dataset. https://doi.org/10.6084/m9.figshare.11662422.v1, Apache License, Version 2.0.\n"
     ]
    },
    {
     "name": "stderr",
     "output_type": "stream",
     "text": [
      "WARNING:hypershap.baseline.original_fanova.fANOVA:Note that fANOVA expects data to be ordered like the return of ConfigSpace's 'get_hyperparameters'-method. We recommend to use labeled pandas dataframes to avoid any problems.\n"
     ]
    },
    {
     "name": "stdout",
     "output_type": "stream",
     "text": [
      "CP1\n",
      "CP2\n",
      "CP3\n",
      "CP4\n",
      "CP5\n",
      "CP6\n",
      "CP7\n"
     ]
    },
    {
     "name": "stderr",
     "output_type": "stream",
     "text": [
      "100%|██████████| 16/16 [00:00<00:00, 28617.85it/s]\n"
     ]
    },
    {
     "name": "stdout",
     "output_type": "stream",
     "text": [
      "CP8\n",
      "compute marginals\n",
      "compute marginals iterating over trees\n"
     ]
    },
    {
     "name": "stderr",
     "output_type": "stream",
     "text": [
      "100%|██████████| 16/16 [00:00<00:00, 113.96it/s]\n"
     ]
    },
    {
     "name": "stdout",
     "output_type": "stream",
     "text": [
      "compute marginals done\n"
     ]
    },
    {
     "name": "stderr",
     "output_type": "stream",
     "text": [
      "1it [00:00, 8943.08it/s]\n"
     ]
    },
    {
     "name": "stdout",
     "output_type": "stream",
     "text": [
      "batch_size 0 {(0,): {'individual importance': 0.06818563393850018, 'total importance': 0.06818563393850018, 'individual std': 0.04342451984581278, 'total std': 0.04342451984581278}}\n",
      "compute marginals\n",
      "compute marginals iterating over trees\n"
     ]
    },
    {
     "name": "stderr",
     "output_type": "stream",
     "text": [
      "100%|██████████| 16/16 [00:00<00:00, 76.88it/s]\n"
     ]
    },
    {
     "name": "stdout",
     "output_type": "stream",
     "text": [
      "compute marginals done\n"
     ]
    },
    {
     "name": "stderr",
     "output_type": "stream",
     "text": [
      "1it [00:00, 6026.30it/s]\n"
     ]
    },
    {
     "name": "stdout",
     "output_type": "stream",
     "text": [
      "learning_rate 1 {(1,): {'individual importance': 0.006418025674910231, 'total importance': 0.006418025674910231, 'individual std': 0.004179367284299594, 'total std': 0.004179367284299594}}\n",
      "compute marginals\n",
      "compute marginals iterating over trees\n"
     ]
    },
    {
     "name": "stderr",
     "output_type": "stream",
     "text": [
      "100%|██████████| 16/16 [00:00<00:00, 73.64it/s]\n"
     ]
    },
    {
     "name": "stdout",
     "output_type": "stream",
     "text": [
      "compute marginals done\n"
     ]
    },
    {
     "name": "stderr",
     "output_type": "stream",
     "text": [
      "1it [00:00, 7869.24it/s]\n"
     ]
    },
    {
     "name": "stdout",
     "output_type": "stream",
     "text": [
      "max_dropout 2 {(2,): {'individual importance': 0.021696854523398965, 'total importance': 0.021696854523398965, 'individual std': 0.016150094119920702, 'total std': 0.016150094119920702}}\n",
      "compute marginals\n",
      "compute marginals iterating over trees\n"
     ]
    },
    {
     "name": "stderr",
     "output_type": "stream",
     "text": [
      "100%|██████████| 16/16 [00:00<00:00, 65.01it/s]\n"
     ]
    },
    {
     "name": "stdout",
     "output_type": "stream",
     "text": [
      "compute marginals done\n"
     ]
    },
    {
     "name": "stderr",
     "output_type": "stream",
     "text": [
      "1it [00:00, 10205.12it/s]\n"
     ]
    },
    {
     "name": "stdout",
     "output_type": "stream",
     "text": [
      "max_units 3 {(3,): {'individual importance': 0.013410855172973468, 'total importance': 0.013410855172973468, 'individual std': 0.010981713060376826, 'total std': 0.010981713060376826}}\n",
      "compute marginals\n",
      "compute marginals iterating over trees\n"
     ]
    },
    {
     "name": "stderr",
     "output_type": "stream",
     "text": [
      "100%|██████████| 16/16 [00:00<00:00, 64.42it/s]\n"
     ]
    },
    {
     "name": "stdout",
     "output_type": "stream",
     "text": [
      "compute marginals done\n"
     ]
    },
    {
     "name": "stderr",
     "output_type": "stream",
     "text": [
      "1it [00:00, 9425.40it/s]\n"
     ]
    },
    {
     "name": "stdout",
     "output_type": "stream",
     "text": [
      "momentum 4 {(4,): {'individual importance': 0.010334906616743402, 'total importance': 0.010334906616743402, 'individual std': 0.012363548574860259, 'total std': 0.012363548574860259}}\n",
      "compute marginals\n",
      "compute marginals iterating over trees\n"
     ]
    },
    {
     "name": "stderr",
     "output_type": "stream",
     "text": [
      "100%|██████████| 16/16 [00:00<00:00, 301.38it/s]\n"
     ]
    },
    {
     "name": "stdout",
     "output_type": "stream",
     "text": [
      "compute marginals done\n"
     ]
    },
    {
     "name": "stderr",
     "output_type": "stream",
     "text": [
      "1it [00:00, 11915.64it/s]\n"
     ]
    },
    {
     "name": "stdout",
     "output_type": "stream",
     "text": [
      "num_layers 5 {(5,): {'individual importance': 0.09596850745770322, 'total importance': 0.09596850745770322, 'individual std': 0.029216431672249805, 'total std': 0.029216431672249805}}\n",
      "compute marginals\n",
      "compute marginals iterating over trees\n"
     ]
    },
    {
     "name": "stderr",
     "output_type": "stream",
     "text": [
      "100%|██████████| 16/16 [00:00<00:00, 120.20it/s]\n"
     ]
    },
    {
     "name": "stdout",
     "output_type": "stream",
     "text": [
      "compute marginals done\n"
     ]
    },
    {
     "name": "stderr",
     "output_type": "stream",
     "text": [
      "1it [00:00, 8473.34it/s]\n"
     ]
    },
    {
     "name": "stdout",
     "output_type": "stream",
     "text": [
      "weight_decay 6 {(6,): {'individual importance': 0.25303959381894553, 'total importance': 0.25303959381894553, 'individual std': 0.07837520409337431, 'total std': 0.07837520409337431}}\n",
      "{'batch_size': 0.06818563393850018, 'learning_rate': 0.006418025674910231, 'max_dropout': 0.021696854523398965, 'max_units': 0.013410855172973468, 'momentum': 0.010334906616743402, 'num_layers': 0.09596850745770322, 'weight_decay': 0.25303959381894553}\n",
      "Please make sure to also cite:\n",
      "Zimmer, L., Lindauer, M., & Hutter, F. (2021). Auto-Pytorch: Multi-Fidelity Metalearning for Efficient and Robust AutoDL. IEEE Transactions on Pattern Analysis and Machine Intelligence, 43(9), 3079-3090.\n",
      "Zimmer, L. (2020). data_2k_lw.zip. figshare. Dataset. https://doi.org/10.6084/m9.figshare.11662422.v1, Apache License, Version 2.0.\n"
     ]
    },
    {
     "name": "stderr",
     "output_type": "stream",
     "text": [
      "WARNING:hypershap.baseline.original_fanova.fANOVA:Note that fANOVA expects data to be ordered like the return of ConfigSpace's 'get_hyperparameters'-method. We recommend to use labeled pandas dataframes to avoid any problems.\n"
     ]
    },
    {
     "name": "stdout",
     "output_type": "stream",
     "text": [
      "CP1\n",
      "CP2\n",
      "CP3\n",
      "CP4\n",
      "CP5\n",
      "CP6\n",
      "CP7\n"
     ]
    },
    {
     "name": "stderr",
     "output_type": "stream",
     "text": [
      "100%|██████████| 16/16 [00:00<00:00, 28363.85it/s]\n"
     ]
    },
    {
     "name": "stdout",
     "output_type": "stream",
     "text": [
      "CP8\n",
      "compute marginals\n",
      "compute marginals iterating over trees\n"
     ]
    },
    {
     "name": "stderr",
     "output_type": "stream",
     "text": [
      "100%|██████████| 16/16 [00:00<00:00, 161.01it/s]\n"
     ]
    },
    {
     "name": "stdout",
     "output_type": "stream",
     "text": [
      "compute marginals done\n"
     ]
    },
    {
     "name": "stderr",
     "output_type": "stream",
     "text": [
      "1it [00:00, 9078.58it/s]\n"
     ]
    },
    {
     "name": "stdout",
     "output_type": "stream",
     "text": [
      "batch_size 0 {(0,): {'individual importance': 0.17309735981476482, 'total importance': 0.17309735981476482, 'individual std': 0.061541200831250295, 'total std': 0.061541200831250295}}\n",
      "compute marginals\n",
      "compute marginals iterating over trees\n"
     ]
    },
    {
     "name": "stderr",
     "output_type": "stream",
     "text": [
      "100%|██████████| 16/16 [00:00<00:00, 81.17it/s]\n"
     ]
    },
    {
     "name": "stdout",
     "output_type": "stream",
     "text": [
      "compute marginals done\n"
     ]
    },
    {
     "name": "stderr",
     "output_type": "stream",
     "text": [
      "1it [00:00, 9619.96it/s]\n"
     ]
    },
    {
     "name": "stdout",
     "output_type": "stream",
     "text": [
      "learning_rate 1 {(1,): {'individual importance': 0.026287819697607875, 'total importance': 0.026287819697607875, 'individual std': 0.009115013769081354, 'total std': 0.009115013769081354}}\n",
      "compute marginals\n",
      "compute marginals iterating over trees\n"
     ]
    },
    {
     "name": "stderr",
     "output_type": "stream",
     "text": [
      "100%|██████████| 16/16 [00:00<00:00, 58.14it/s]\n"
     ]
    },
    {
     "name": "stdout",
     "output_type": "stream",
     "text": [
      "compute marginals done\n"
     ]
    },
    {
     "name": "stderr",
     "output_type": "stream",
     "text": [
      "1it [00:00, 9157.87it/s]\n"
     ]
    },
    {
     "name": "stdout",
     "output_type": "stream",
     "text": [
      "max_dropout 2 {(2,): {'individual importance': 0.0029703474749921506, 'total importance': 0.0029703474749921506, 'individual std': 0.003032281642060712, 'total std': 0.003032281642060712}}\n",
      "compute marginals\n",
      "compute marginals iterating over trees\n"
     ]
    },
    {
     "name": "stderr",
     "output_type": "stream",
     "text": [
      "100%|██████████| 16/16 [00:00<00:00, 65.40it/s]\n"
     ]
    },
    {
     "name": "stdout",
     "output_type": "stream",
     "text": [
      "compute marginals done\n"
     ]
    },
    {
     "name": "stderr",
     "output_type": "stream",
     "text": [
      "1it [00:00, 9799.78it/s]\n"
     ]
    },
    {
     "name": "stdout",
     "output_type": "stream",
     "text": [
      "max_units 3 {(3,): {'individual importance': 0.0033099354492175065, 'total importance': 0.0033099354492175065, 'individual std': 0.004129513881860763, 'total std': 0.004129513881860763}}\n",
      "compute marginals\n",
      "compute marginals iterating over trees\n"
     ]
    },
    {
     "name": "stderr",
     "output_type": "stream",
     "text": [
      "100%|██████████| 16/16 [00:00<00:00, 62.42it/s]\n"
     ]
    },
    {
     "name": "stdout",
     "output_type": "stream",
     "text": [
      "compute marginals done\n"
     ]
    },
    {
     "name": "stderr",
     "output_type": "stream",
     "text": [
      "1it [00:00, 9619.96it/s]\n"
     ]
    },
    {
     "name": "stdout",
     "output_type": "stream",
     "text": [
      "momentum 4 {(4,): {'individual importance': 0.010599121789593737, 'total importance': 0.010599121789593737, 'individual std': 0.00897793556452924, 'total std': 0.00897793556452924}}\n",
      "compute marginals\n",
      "compute marginals iterating over trees\n"
     ]
    },
    {
     "name": "stderr",
     "output_type": "stream",
     "text": [
      "100%|██████████| 16/16 [00:00<00:00, 540.73it/s]\n"
     ]
    },
    {
     "name": "stdout",
     "output_type": "stream",
     "text": [
      "compute marginals done\n"
     ]
    },
    {
     "name": "stderr",
     "output_type": "stream",
     "text": [
      "1it [00:00, 9258.95it/s]\n"
     ]
    },
    {
     "name": "stdout",
     "output_type": "stream",
     "text": [
      "num_layers 5 {(5,): {'individual importance': 0.33761100547251466, 'total importance': 0.33761100547251466, 'individual std': 0.08713666585255245, 'total std': 0.08713666585255245}}\n",
      "compute marginals\n",
      "compute marginals iterating over trees\n"
     ]
    },
    {
     "name": "stderr",
     "output_type": "stream",
     "text": [
      "100%|██████████| 16/16 [00:00<00:00, 69.67it/s]\n"
     ]
    },
    {
     "name": "stdout",
     "output_type": "stream",
     "text": [
      "compute marginals done\n"
     ]
    },
    {
     "name": "stderr",
     "output_type": "stream",
     "text": [
      "1it [00:00, 8756.38it/s]\n"
     ]
    },
    {
     "name": "stdout",
     "output_type": "stream",
     "text": [
      "weight_decay 6 {(6,): {'individual importance': 0.047102482858075514, 'total importance': 0.047102482858075514, 'individual std': 0.034344018433499296, 'total std': 0.034344018433499296}}\n",
      "{'batch_size': 0.17309735981476482, 'learning_rate': 0.026287819697607875, 'max_dropout': 0.0029703474749921506, 'max_units': 0.0033099354492175065, 'momentum': 0.010599121789593737, 'num_layers': 0.33761100547251466, 'weight_decay': 0.047102482858075514}\n",
      "Please make sure to also cite:\n",
      "Zimmer, L., Lindauer, M., & Hutter, F. (2021). Auto-Pytorch: Multi-Fidelity Metalearning for Efficient and Robust AutoDL. IEEE Transactions on Pattern Analysis and Machine Intelligence, 43(9), 3079-3090.\n",
      "Zimmer, L. (2020). data_2k_lw.zip. figshare. Dataset. https://doi.org/10.6084/m9.figshare.11662422.v1, Apache License, Version 2.0.\n"
     ]
    },
    {
     "name": "stderr",
     "output_type": "stream",
     "text": [
      "WARNING:hypershap.baseline.original_fanova.fANOVA:Note that fANOVA expects data to be ordered like the return of ConfigSpace's 'get_hyperparameters'-method. We recommend to use labeled pandas dataframes to avoid any problems.\n"
     ]
    },
    {
     "name": "stdout",
     "output_type": "stream",
     "text": [
      "CP1\n",
      "CP2\n",
      "CP3\n",
      "CP4\n",
      "CP5\n",
      "CP6\n",
      "CP7\n"
     ]
    },
    {
     "name": "stderr",
     "output_type": "stream",
     "text": [
      "100%|██████████| 16/16 [00:00<00:00, 27582.76it/s]\n"
     ]
    },
    {
     "name": "stdout",
     "output_type": "stream",
     "text": [
      "CP8\n",
      "compute marginals\n",
      "compute marginals iterating over trees\n"
     ]
    },
    {
     "name": "stderr",
     "output_type": "stream",
     "text": [
      "100%|██████████| 16/16 [00:00<00:00, 118.31it/s]\n"
     ]
    },
    {
     "name": "stdout",
     "output_type": "stream",
     "text": [
      "compute marginals done\n"
     ]
    },
    {
     "name": "stderr",
     "output_type": "stream",
     "text": [
      "1it [00:00, 9619.96it/s]\n"
     ]
    },
    {
     "name": "stdout",
     "output_type": "stream",
     "text": [
      "batch_size 0 {(0,): {'individual importance': 0.03992056595313355, 'total importance': 0.03992056595313355, 'individual std': 0.04503892011499499, 'total std': 0.04503892011499499}}\n",
      "compute marginals\n",
      "compute marginals iterating over trees\n"
     ]
    },
    {
     "name": "stderr",
     "output_type": "stream",
     "text": [
      "100%|██████████| 16/16 [00:00<00:00, 95.46it/s]\n"
     ]
    },
    {
     "name": "stdout",
     "output_type": "stream",
     "text": [
      "compute marginals done\n"
     ]
    },
    {
     "name": "stderr",
     "output_type": "stream",
     "text": [
      "1it [00:00, 9078.58it/s]\n"
     ]
    },
    {
     "name": "stdout",
     "output_type": "stream",
     "text": [
      "learning_rate 1 {(1,): {'individual importance': 0.03326513939370242, 'total importance': 0.03326513939370242, 'individual std': 0.03246230269752569, 'total std': 0.03246230269752569}}\n",
      "compute marginals\n",
      "compute marginals iterating over trees\n"
     ]
    },
    {
     "name": "stderr",
     "output_type": "stream",
     "text": [
      "100%|██████████| 16/16 [00:00<00:00, 67.62it/s]\n"
     ]
    },
    {
     "name": "stdout",
     "output_type": "stream",
     "text": [
      "compute marginals done\n"
     ]
    },
    {
     "name": "stderr",
     "output_type": "stream",
     "text": [
      "1it [00:00, 9731.56it/s]\n"
     ]
    },
    {
     "name": "stdout",
     "output_type": "stream",
     "text": [
      "max_dropout 2 {(2,): {'individual importance': 0.03703227985409442, 'total importance': 0.03703227985409442, 'individual std': 0.0699235658715078, 'total std': 0.0699235658715078}}\n",
      "compute marginals\n",
      "compute marginals iterating over trees\n"
     ]
    },
    {
     "name": "stderr",
     "output_type": "stream",
     "text": [
      "100%|██████████| 16/16 [00:00<00:00, 65.57it/s]\n"
     ]
    },
    {
     "name": "stdout",
     "output_type": "stream",
     "text": [
      "compute marginals done\n"
     ]
    },
    {
     "name": "stderr",
     "output_type": "stream",
     "text": [
      "1it [00:00, 9098.27it/s]\n"
     ]
    },
    {
     "name": "stdout",
     "output_type": "stream",
     "text": [
      "max_units 3 {(3,): {'individual importance': 0.018244801991524257, 'total importance': 0.018244801991524257, 'individual std': 0.023676689320311858, 'total std': 0.023676689320311858}}\n",
      "compute marginals\n",
      "compute marginals iterating over trees\n"
     ]
    },
    {
     "name": "stderr",
     "output_type": "stream",
     "text": [
      "100%|██████████| 16/16 [00:00<00:00, 65.67it/s]\n"
     ]
    },
    {
     "name": "stdout",
     "output_type": "stream",
     "text": [
      "compute marginals done\n"
     ]
    },
    {
     "name": "stderr",
     "output_type": "stream",
     "text": [
      "1it [00:00, 10010.27it/s]\n"
     ]
    },
    {
     "name": "stdout",
     "output_type": "stream",
     "text": [
      "momentum 4 {(4,): {'individual importance': 0.032553087282433224, 'total importance': 0.032553087282433224, 'individual std': 0.030349889151995338, 'total std': 0.030349889151995338}}\n",
      "compute marginals\n",
      "compute marginals iterating over trees\n"
     ]
    },
    {
     "name": "stderr",
     "output_type": "stream",
     "text": [
      "100%|██████████| 16/16 [00:00<00:00, 291.37it/s]\n"
     ]
    },
    {
     "name": "stdout",
     "output_type": "stream",
     "text": [
      "compute marginals done\n"
     ]
    },
    {
     "name": "stderr",
     "output_type": "stream",
     "text": [
      "1it [00:00, 11618.57it/s]\n"
     ]
    },
    {
     "name": "stdout",
     "output_type": "stream",
     "text": [
      "num_layers 5 {(5,): {'individual importance': 0.021624150285510645, 'total importance': 0.021624150285510645, 'individual std': 0.028063663564905007, 'total std': 0.028063663564905007}}\n",
      "compute marginals\n",
      "compute marginals iterating over trees\n"
     ]
    },
    {
     "name": "stderr",
     "output_type": "stream",
     "text": [
      "100%|██████████| 16/16 [00:00<00:00, 75.02it/s]\n"
     ]
    },
    {
     "name": "stdout",
     "output_type": "stream",
     "text": [
      "compute marginals done\n"
     ]
    },
    {
     "name": "stderr",
     "output_type": "stream",
     "text": [
      "1it [00:00, 10106.76it/s]\n"
     ]
    },
    {
     "name": "stdout",
     "output_type": "stream",
     "text": [
      "weight_decay 6 {(6,): {'individual importance': 0.0670885560312281, 'total importance': 0.0670885560312281, 'individual std': 0.047907103586526105, 'total std': 0.047907103586526105}}\n",
      "{'batch_size': 0.03992056595313355, 'learning_rate': 0.03326513939370242, 'max_dropout': 0.03703227985409442, 'max_units': 0.018244801991524257, 'momentum': 0.032553087282433224, 'num_layers': 0.021624150285510645, 'weight_decay': 0.0670885560312281}\n",
      "Please make sure to also cite:\n",
      "Zimmer, L., Lindauer, M., & Hutter, F. (2021). Auto-Pytorch: Multi-Fidelity Metalearning for Efficient and Robust AutoDL. IEEE Transactions on Pattern Analysis and Machine Intelligence, 43(9), 3079-3090.\n",
      "Zimmer, L. (2020). data_2k_lw.zip. figshare. Dataset. https://doi.org/10.6084/m9.figshare.11662422.v1, Apache License, Version 2.0.\n"
     ]
    },
    {
     "name": "stderr",
     "output_type": "stream",
     "text": [
      "WARNING:hypershap.baseline.original_fanova.fANOVA:Note that fANOVA expects data to be ordered like the return of ConfigSpace's 'get_hyperparameters'-method. We recommend to use labeled pandas dataframes to avoid any problems.\n"
     ]
    },
    {
     "name": "stdout",
     "output_type": "stream",
     "text": [
      "CP1\n",
      "CP2\n",
      "CP3\n",
      "CP4\n",
      "CP5\n",
      "CP6\n",
      "CP7\n"
     ]
    },
    {
     "name": "stderr",
     "output_type": "stream",
     "text": [
      "100%|██████████| 16/16 [00:00<00:00, 28268.27it/s]\n"
     ]
    },
    {
     "name": "stdout",
     "output_type": "stream",
     "text": [
      "CP8\n",
      "compute marginals\n",
      "compute marginals iterating over trees\n"
     ]
    },
    {
     "name": "stderr",
     "output_type": "stream",
     "text": [
      "100%|██████████| 16/16 [00:00<00:00, 108.06it/s]\n"
     ]
    },
    {
     "name": "stdout",
     "output_type": "stream",
     "text": [
      "compute marginals done\n"
     ]
    },
    {
     "name": "stderr",
     "output_type": "stream",
     "text": [
      "1it [00:00, 8192.00it/s]\n"
     ]
    },
    {
     "name": "stdout",
     "output_type": "stream",
     "text": [
      "batch_size 0 {(0,): {'individual importance': 0.03725510508361625, 'total importance': 0.03725510508361625, 'individual std': 0.035889992856502816, 'total std': 0.035889992856502816}}\n",
      "compute marginals\n",
      "compute marginals iterating over trees\n"
     ]
    },
    {
     "name": "stderr",
     "output_type": "stream",
     "text": [
      "100%|██████████| 16/16 [00:00<00:00, 118.50it/s]\n"
     ]
    },
    {
     "name": "stdout",
     "output_type": "stream",
     "text": [
      "compute marginals done\n"
     ]
    },
    {
     "name": "stderr",
     "output_type": "stream",
     "text": [
      "1it [00:00, 8473.34it/s]\n"
     ]
    },
    {
     "name": "stdout",
     "output_type": "stream",
     "text": [
      "learning_rate 1 {(1,): {'individual importance': 0.06729292089990321, 'total importance': 0.06729292089990321, 'individual std': 0.04078362911579592, 'total std': 0.04078362911579592}}\n",
      "compute marginals\n",
      "compute marginals iterating over trees\n"
     ]
    },
    {
     "name": "stderr",
     "output_type": "stream",
     "text": [
      "100%|██████████| 16/16 [00:00<00:00, 64.34it/s]\n"
     ]
    },
    {
     "name": "stdout",
     "output_type": "stream",
     "text": [
      "compute marginals done\n"
     ]
    },
    {
     "name": "stderr",
     "output_type": "stream",
     "text": [
      "1it [00:00, 9619.96it/s]\n"
     ]
    },
    {
     "name": "stdout",
     "output_type": "stream",
     "text": [
      "max_dropout 2 {(2,): {'individual importance': 0.03477909561924043, 'total importance': 0.03477909561924043, 'individual std': 0.04952178305716016, 'total std': 0.04952178305716016}}\n",
      "compute marginals\n",
      "compute marginals iterating over trees\n"
     ]
    },
    {
     "name": "stderr",
     "output_type": "stream",
     "text": [
      "100%|██████████| 16/16 [00:00<00:00, 62.61it/s]\n"
     ]
    },
    {
     "name": "stdout",
     "output_type": "stream",
     "text": [
      "compute marginals done\n"
     ]
    },
    {
     "name": "stderr",
     "output_type": "stream",
     "text": [
      "1it [00:00, 10894.30it/s]\n"
     ]
    },
    {
     "name": "stdout",
     "output_type": "stream",
     "text": [
      "max_units 3 {(3,): {'individual importance': 0.003557266407331131, 'total importance': 0.003557266407331131, 'individual std': 0.005395545485922636, 'total std': 0.005395545485922636}}\n",
      "compute marginals\n",
      "compute marginals iterating over trees\n"
     ]
    },
    {
     "name": "stderr",
     "output_type": "stream",
     "text": [
      "100%|██████████| 16/16 [00:00<00:00, 67.24it/s]\n"
     ]
    },
    {
     "name": "stdout",
     "output_type": "stream",
     "text": [
      "compute marginals done\n"
     ]
    },
    {
     "name": "stderr",
     "output_type": "stream",
     "text": [
      "1it [00:00, 9177.91it/s]\n"
     ]
    },
    {
     "name": "stdout",
     "output_type": "stream",
     "text": [
      "momentum 4 {(4,): {'individual importance': 0.07022040763573942, 'total importance': 0.07022040763573942, 'individual std': 0.06421620632865699, 'total std': 0.06421620632865699}}\n",
      "compute marginals\n",
      "compute marginals iterating over trees\n"
     ]
    },
    {
     "name": "stderr",
     "output_type": "stream",
     "text": [
      "100%|██████████| 16/16 [00:00<00:00, 387.21it/s]\n"
     ]
    },
    {
     "name": "stdout",
     "output_type": "stream",
     "text": [
      "compute marginals done\n"
     ]
    },
    {
     "name": "stderr",
     "output_type": "stream",
     "text": [
      "1it [00:00, 10407.70it/s]\n"
     ]
    },
    {
     "name": "stdout",
     "output_type": "stream",
     "text": [
      "num_layers 5 {(5,): {'individual importance': 0.02157784681634317, 'total importance': 0.02157784681634317, 'individual std': 0.017430917499028375, 'total std': 0.017430917499028375}}\n",
      "compute marginals\n",
      "compute marginals iterating over trees\n"
     ]
    },
    {
     "name": "stderr",
     "output_type": "stream",
     "text": [
      "100%|██████████| 16/16 [00:00<00:00, 70.06it/s]\n"
     ]
    },
    {
     "name": "stdout",
     "output_type": "stream",
     "text": [
      "compute marginals done\n"
     ]
    },
    {
     "name": "stderr",
     "output_type": "stream",
     "text": [
      "1it [00:00, 9619.96it/s]\n"
     ]
    },
    {
     "name": "stdout",
     "output_type": "stream",
     "text": [
      "weight_decay 6 {(6,): {'individual importance': 0.015390289073336554, 'total importance': 0.015390289073336554, 'individual std': 0.01435163310417442, 'total std': 0.01435163310417442}}\n",
      "{'batch_size': 0.03725510508361625, 'learning_rate': 0.06729292089990321, 'max_dropout': 0.03477909561924043, 'max_units': 0.003557266407331131, 'momentum': 0.07022040763573942, 'num_layers': 0.02157784681634317, 'weight_decay': 0.015390289073336554}\n",
      "Please make sure to also cite:\n",
      "Zimmer, L., Lindauer, M., & Hutter, F. (2021). Auto-Pytorch: Multi-Fidelity Metalearning for Efficient and Robust AutoDL. IEEE Transactions on Pattern Analysis and Machine Intelligence, 43(9), 3079-3090.\n",
      "Zimmer, L. (2020). data_2k_lw.zip. figshare. Dataset. https://doi.org/10.6084/m9.figshare.11662422.v1, Apache License, Version 2.0.\n"
     ]
    },
    {
     "name": "stderr",
     "output_type": "stream",
     "text": [
      "WARNING:hypershap.baseline.original_fanova.fANOVA:Note that fANOVA expects data to be ordered like the return of ConfigSpace's 'get_hyperparameters'-method. We recommend to use labeled pandas dataframes to avoid any problems.\n"
     ]
    },
    {
     "name": "stdout",
     "output_type": "stream",
     "text": [
      "CP1\n",
      "CP2\n",
      "CP3\n",
      "CP4\n",
      "CP5\n",
      "CP6\n",
      "CP7\n"
     ]
    },
    {
     "name": "stderr",
     "output_type": "stream",
     "text": [
      "100%|██████████| 16/16 [00:00<00:00, 27788.35it/s]\n"
     ]
    },
    {
     "name": "stdout",
     "output_type": "stream",
     "text": [
      "CP8\n",
      "compute marginals\n",
      "compute marginals iterating over trees\n"
     ]
    },
    {
     "name": "stderr",
     "output_type": "stream",
     "text": [
      "100%|██████████| 16/16 [00:00<00:00, 129.21it/s]\n"
     ]
    },
    {
     "name": "stdout",
     "output_type": "stream",
     "text": [
      "compute marginals done\n"
     ]
    },
    {
     "name": "stderr",
     "output_type": "stream",
     "text": [
      "1it [00:00, 8355.19it/s]\n"
     ]
    },
    {
     "name": "stdout",
     "output_type": "stream",
     "text": [
      "batch_size 0 {(0,): {'individual importance': 0.07097304518114345, 'total importance': 0.07097304518114345, 'individual std': 0.07847871930666742, 'total std': 0.07847871930666742}}\n",
      "compute marginals\n",
      "compute marginals iterating over trees\n"
     ]
    },
    {
     "name": "stderr",
     "output_type": "stream",
     "text": [
      "100%|██████████| 16/16 [00:00<00:00, 98.13it/s]\n"
     ]
    },
    {
     "name": "stdout",
     "output_type": "stream",
     "text": [
      "compute marginals done\n"
     ]
    },
    {
     "name": "stderr",
     "output_type": "stream",
     "text": [
      "1it [00:00, 7463.17it/s]\n"
     ]
    },
    {
     "name": "stdout",
     "output_type": "stream",
     "text": [
      "learning_rate 1 {(1,): {'individual importance': 0.03670346657701393, 'total importance': 0.03670346657701393, 'individual std': 0.02318983494980761, 'total std': 0.02318983494980761}}\n",
      "compute marginals\n",
      "compute marginals iterating over trees\n"
     ]
    },
    {
     "name": "stderr",
     "output_type": "stream",
     "text": [
      "100%|██████████| 16/16 [00:00<00:00, 66.03it/s]\n"
     ]
    },
    {
     "name": "stdout",
     "output_type": "stream",
     "text": [
      "compute marginals done\n"
     ]
    },
    {
     "name": "stderr",
     "output_type": "stream",
     "text": [
      "1it [00:00, 8665.92it/s]\n"
     ]
    },
    {
     "name": "stdout",
     "output_type": "stream",
     "text": [
      "max_dropout 2 {(2,): {'individual importance': 0.030013344266259734, 'total importance': 0.030013344266259734, 'individual std': 0.04295021629123011, 'total std': 0.04295021629123011}}\n",
      "compute marginals\n",
      "compute marginals iterating over trees\n"
     ]
    },
    {
     "name": "stderr",
     "output_type": "stream",
     "text": [
      "100%|██████████| 16/16 [00:00<00:00, 67.89it/s]\n"
     ]
    },
    {
     "name": "stdout",
     "output_type": "stream",
     "text": [
      "compute marginals done\n"
     ]
    },
    {
     "name": "stderr",
     "output_type": "stream",
     "text": [
      "1it [00:00, 7869.24it/s]\n"
     ]
    },
    {
     "name": "stdout",
     "output_type": "stream",
     "text": [
      "max_units 3 {(3,): {'individual importance': 0.019479216859018867, 'total importance': 0.019479216859018867, 'individual std': 0.045474023203223225, 'total std': 0.045474023203223225}}\n",
      "compute marginals\n",
      "compute marginals iterating over trees\n"
     ]
    },
    {
     "name": "stderr",
     "output_type": "stream",
     "text": [
      "100%|██████████| 16/16 [00:00<00:00, 67.90it/s]\n"
     ]
    },
    {
     "name": "stdout",
     "output_type": "stream",
     "text": [
      "compute marginals done\n"
     ]
    },
    {
     "name": "stderr",
     "output_type": "stream",
     "text": [
      "1it [00:00, 10894.30it/s]\n"
     ]
    },
    {
     "name": "stdout",
     "output_type": "stream",
     "text": [
      "momentum 4 {(4,): {'individual importance': 0.04751670886254905, 'total importance': 0.04751670886254905, 'individual std': 0.05724959315507207, 'total std': 0.05724959315507207}}\n",
      "compute marginals\n",
      "compute marginals iterating over trees\n"
     ]
    },
    {
     "name": "stderr",
     "output_type": "stream",
     "text": [
      "100%|██████████| 16/16 [00:00<00:00, 294.65it/s]\n"
     ]
    },
    {
     "name": "stdout",
     "output_type": "stream",
     "text": [
      "compute marginals done\n"
     ]
    },
    {
     "name": "stderr",
     "output_type": "stream",
     "text": [
      "1it [00:00, 10305.42it/s]\n"
     ]
    },
    {
     "name": "stdout",
     "output_type": "stream",
     "text": [
      "num_layers 5 {(5,): {'individual importance': 0.04513845509020782, 'total importance': 0.04513845509020782, 'individual std': 0.04549920224379911, 'total std': 0.04549920224379911}}\n",
      "compute marginals\n",
      "compute marginals iterating over trees\n"
     ]
    },
    {
     "name": "stderr",
     "output_type": "stream",
     "text": [
      "100%|██████████| 16/16 [00:00<00:00, 64.26it/s]\n"
     ]
    },
    {
     "name": "stdout",
     "output_type": "stream",
     "text": [
      "compute marginals done\n"
     ]
    },
    {
     "name": "stderr",
     "output_type": "stream",
     "text": [
      "1it [00:00, 9619.96it/s]\n"
     ]
    },
    {
     "name": "stdout",
     "output_type": "stream",
     "text": [
      "weight_decay 6 {(6,): {'individual importance': 0.04432102064350894, 'total importance': 0.04432102064350894, 'individual std': 0.04633295591495286, 'total std': 0.04633295591495286}}\n",
      "{'batch_size': 0.07097304518114345, 'learning_rate': 0.03670346657701393, 'max_dropout': 0.030013344266259734, 'max_units': 0.019479216859018867, 'momentum': 0.04751670886254905, 'num_layers': 0.04513845509020782, 'weight_decay': 0.04432102064350894}\n",
      "Please make sure to also cite:\n",
      "Zimmer, L., Lindauer, M., & Hutter, F. (2021). Auto-Pytorch: Multi-Fidelity Metalearning for Efficient and Robust AutoDL. IEEE Transactions on Pattern Analysis and Machine Intelligence, 43(9), 3079-3090.\n",
      "Zimmer, L. (2020). data_2k_lw.zip. figshare. Dataset. https://doi.org/10.6084/m9.figshare.11662422.v1, Apache License, Version 2.0.\n"
     ]
    },
    {
     "name": "stderr",
     "output_type": "stream",
     "text": [
      "WARNING:hypershap.baseline.original_fanova.fANOVA:Note that fANOVA expects data to be ordered like the return of ConfigSpace's 'get_hyperparameters'-method. We recommend to use labeled pandas dataframes to avoid any problems.\n"
     ]
    },
    {
     "name": "stdout",
     "output_type": "stream",
     "text": [
      "CP1\n",
      "CP2\n",
      "CP3\n",
      "CP4\n",
      "CP5\n",
      "CP6\n",
      "CP7\n"
     ]
    },
    {
     "name": "stderr",
     "output_type": "stream",
     "text": [
      "100%|██████████| 16/16 [00:00<00:00, 28161.50it/s]\n"
     ]
    },
    {
     "name": "stdout",
     "output_type": "stream",
     "text": [
      "CP8\n",
      "compute marginals\n",
      "compute marginals iterating over trees\n"
     ]
    },
    {
     "name": "stderr",
     "output_type": "stream",
     "text": [
      "100%|██████████| 16/16 [00:00<00:00, 124.70it/s]\n"
     ]
    },
    {
     "name": "stdout",
     "output_type": "stream",
     "text": [
      "compute marginals done\n"
     ]
    },
    {
     "name": "stderr",
     "output_type": "stream",
     "text": [
      "1it [00:00, 7639.90it/s]\n"
     ]
    },
    {
     "name": "stdout",
     "output_type": "stream",
     "text": [
      "batch_size 0 {(0,): {'individual importance': 0.020853574206544254, 'total importance': 0.020853574206544254, 'individual std': 0.010969273336658746, 'total std': 0.010969273336658746}}\n",
      "compute marginals\n",
      "compute marginals iterating over trees\n"
     ]
    },
    {
     "name": "stderr",
     "output_type": "stream",
     "text": [
      "100%|██████████| 16/16 [00:00<00:00, 105.44it/s]\n"
     ]
    },
    {
     "name": "stdout",
     "output_type": "stream",
     "text": [
      "compute marginals done\n"
     ]
    },
    {
     "name": "stderr",
     "output_type": "stream",
     "text": [
      "1it [00:00, 9597.95it/s]\n"
     ]
    },
    {
     "name": "stdout",
     "output_type": "stream",
     "text": [
      "learning_rate 1 {(1,): {'individual importance': 0.06944078603285125, 'total importance': 0.06944078603285125, 'individual std': 0.04775390284075643, 'total std': 0.04775390284075643}}\n",
      "compute marginals\n",
      "compute marginals iterating over trees\n"
     ]
    },
    {
     "name": "stderr",
     "output_type": "stream",
     "text": [
      "100%|██████████| 16/16 [00:00<00:00, 85.02it/s]\n"
     ]
    },
    {
     "name": "stdout",
     "output_type": "stream",
     "text": [
      "compute marginals done\n"
     ]
    },
    {
     "name": "stderr",
     "output_type": "stream",
     "text": [
      "1it [00:00, 8473.34it/s]\n"
     ]
    },
    {
     "name": "stdout",
     "output_type": "stream",
     "text": [
      "max_dropout 2 {(2,): {'individual importance': 0.16236910973394178, 'total importance': 0.16236910973394178, 'individual std': 0.0732929269040656, 'total std': 0.0732929269040656}}\n",
      "compute marginals\n",
      "compute marginals iterating over trees\n"
     ]
    },
    {
     "name": "stderr",
     "output_type": "stream",
     "text": [
      "100%|██████████| 16/16 [00:00<00:00, 81.84it/s]\n"
     ]
    },
    {
     "name": "stdout",
     "output_type": "stream",
     "text": [
      "compute marginals done\n"
     ]
    },
    {
     "name": "stderr",
     "output_type": "stream",
     "text": [
      "1it [00:00, 10727.12it/s]\n"
     ]
    },
    {
     "name": "stdout",
     "output_type": "stream",
     "text": [
      "max_units 3 {(3,): {'individual importance': 0.02279059581624384, 'total importance': 0.02279059581624384, 'individual std': 0.030414035696019293, 'total std': 0.030414035696019293}}\n",
      "compute marginals\n",
      "compute marginals iterating over trees\n"
     ]
    },
    {
     "name": "stderr",
     "output_type": "stream",
     "text": [
      "100%|██████████| 16/16 [00:00<00:00, 66.16it/s]\n"
     ]
    },
    {
     "name": "stdout",
     "output_type": "stream",
     "text": [
      "compute marginals done\n"
     ]
    },
    {
     "name": "stderr",
     "output_type": "stream",
     "text": [
      "1it [00:00, 7397.36it/s]\n"
     ]
    },
    {
     "name": "stdout",
     "output_type": "stream",
     "text": [
      "momentum 4 {(4,): {'individual importance': 0.07393303938950302, 'total importance': 0.07393303938950302, 'individual std': 0.058428658233099985, 'total std': 0.058428658233099985}}\n",
      "compute marginals\n",
      "compute marginals iterating over trees\n"
     ]
    },
    {
     "name": "stderr",
     "output_type": "stream",
     "text": [
      "100%|██████████| 16/16 [00:00<00:00, 161.41it/s]\n"
     ]
    },
    {
     "name": "stdout",
     "output_type": "stream",
     "text": [
      "compute marginals done\n"
     ]
    },
    {
     "name": "stderr",
     "output_type": "stream",
     "text": [
      "1it [00:00, 8630.26it/s]\n"
     ]
    },
    {
     "name": "stdout",
     "output_type": "stream",
     "text": [
      "num_layers 5 {(5,): {'individual importance': 0.015191894735910889, 'total importance': 0.015191894735910889, 'individual std': 0.011469778822915158, 'total std': 0.011469778822915158}}\n",
      "compute marginals\n",
      "compute marginals iterating over trees\n"
     ]
    },
    {
     "name": "stderr",
     "output_type": "stream",
     "text": [
      "100%|██████████| 16/16 [00:00<00:00, 67.76it/s]\n"
     ]
    },
    {
     "name": "stdout",
     "output_type": "stream",
     "text": [
      "compute marginals done\n"
     ]
    },
    {
     "name": "stderr",
     "output_type": "stream",
     "text": [
      "1it [00:00, 8774.69it/s]\n"
     ]
    },
    {
     "name": "stdout",
     "output_type": "stream",
     "text": [
      "weight_decay 6 {(6,): {'individual importance': 0.011746978468136451, 'total importance': 0.011746978468136451, 'individual std': 0.011399117742099337, 'total std': 0.011399117742099337}}\n",
      "{'batch_size': 0.020853574206544254, 'learning_rate': 0.06944078603285125, 'max_dropout': 0.16236910973394178, 'max_units': 0.02279059581624384, 'momentum': 0.07393303938950302, 'num_layers': 0.015191894735910889, 'weight_decay': 0.011746978468136451}\n",
      "Please make sure to also cite:\n",
      "Zimmer, L., Lindauer, M., & Hutter, F. (2021). Auto-Pytorch: Multi-Fidelity Metalearning for Efficient and Robust AutoDL. IEEE Transactions on Pattern Analysis and Machine Intelligence, 43(9), 3079-3090.\n",
      "Zimmer, L. (2020). data_2k_lw.zip. figshare. Dataset. https://doi.org/10.6084/m9.figshare.11662422.v1, Apache License, Version 2.0.\n"
     ]
    },
    {
     "name": "stderr",
     "output_type": "stream",
     "text": [
      "WARNING:hypershap.baseline.original_fanova.fANOVA:Note that fANOVA expects data to be ordered like the return of ConfigSpace's 'get_hyperparameters'-method. We recommend to use labeled pandas dataframes to avoid any problems.\n"
     ]
    },
    {
     "name": "stdout",
     "output_type": "stream",
     "text": [
      "CP1\n",
      "CP2\n",
      "CP3\n",
      "CP4\n",
      "CP5\n",
      "CP6\n",
      "CP7\n"
     ]
    },
    {
     "name": "stderr",
     "output_type": "stream",
     "text": [
      "100%|██████████| 16/16 [00:00<00:00, 28826.83it/s]\n"
     ]
    },
    {
     "name": "stdout",
     "output_type": "stream",
     "text": [
      "CP8\n",
      "compute marginals\n",
      "compute marginals iterating over trees\n"
     ]
    },
    {
     "name": "stderr",
     "output_type": "stream",
     "text": [
      "100%|██████████| 16/16 [00:00<00:00, 110.10it/s]\n"
     ]
    },
    {
     "name": "stdout",
     "output_type": "stream",
     "text": [
      "compute marginals done\n"
     ]
    },
    {
     "name": "stderr",
     "output_type": "stream",
     "text": [
      "1it [00:00, 6413.31it/s]\n"
     ]
    },
    {
     "name": "stdout",
     "output_type": "stream",
     "text": [
      "batch_size 0 {(0,): {'individual importance': 0.08430749513143036, 'total importance': 0.08430749513143036, 'individual std': 0.07636334538873167, 'total std': 0.07636334538873167}}\n",
      "compute marginals\n",
      "compute marginals iterating over trees\n"
     ]
    },
    {
     "name": "stderr",
     "output_type": "stream",
     "text": [
      "100%|██████████| 16/16 [00:00<00:00, 171.66it/s]\n"
     ]
    },
    {
     "name": "stdout",
     "output_type": "stream",
     "text": [
      "compute marginals done\n"
     ]
    },
    {
     "name": "stderr",
     "output_type": "stream",
     "text": [
      "1it [00:00, 8542.37it/s]\n"
     ]
    },
    {
     "name": "stdout",
     "output_type": "stream",
     "text": [
      "learning_rate 1 {(1,): {'individual importance': 0.2533489582400549, 'total importance': 0.2533489582400549, 'individual std': 0.07764767302305327, 'total std': 0.07764767302305327}}\n",
      "compute marginals\n",
      "compute marginals iterating over trees\n"
     ]
    },
    {
     "name": "stderr",
     "output_type": "stream",
     "text": [
      "100%|██████████| 16/16 [00:00<00:00, 70.17it/s]\n"
     ]
    },
    {
     "name": "stdout",
     "output_type": "stream",
     "text": [
      "compute marginals done\n"
     ]
    },
    {
     "name": "stderr",
     "output_type": "stream",
     "text": [
      "1it [00:00, 9915.61it/s]\n"
     ]
    },
    {
     "name": "stdout",
     "output_type": "stream",
     "text": [
      "max_dropout 2 {(2,): {'individual importance': 0.021927755298092506, 'total importance': 0.021927755298092506, 'individual std': 0.01842084962186535, 'total std': 0.01842084962186535}}\n",
      "compute marginals\n",
      "compute marginals iterating over trees\n"
     ]
    },
    {
     "name": "stderr",
     "output_type": "stream",
     "text": [
      "100%|██████████| 16/16 [00:00<00:00, 79.28it/s]\n"
     ]
    },
    {
     "name": "stdout",
     "output_type": "stream",
     "text": [
      "compute marginals done\n"
     ]
    },
    {
     "name": "stderr",
     "output_type": "stream",
     "text": [
      "1it [00:00, 10010.27it/s]\n"
     ]
    },
    {
     "name": "stdout",
     "output_type": "stream",
     "text": [
      "max_units 3 {(3,): {'individual importance': 0.045225623613550495, 'total importance': 0.045225623613550495, 'individual std': 0.03640531566470051, 'total std': 0.03640531566470051}}\n",
      "compute marginals\n",
      "compute marginals iterating over trees\n"
     ]
    },
    {
     "name": "stderr",
     "output_type": "stream",
     "text": [
      "100%|██████████| 16/16 [00:00<00:00, 71.21it/s]\n"
     ]
    },
    {
     "name": "stdout",
     "output_type": "stream",
     "text": [
      "compute marginals done\n"
     ]
    },
    {
     "name": "stderr",
     "output_type": "stream",
     "text": [
      "1it [00:00, 9078.58it/s]\n"
     ]
    },
    {
     "name": "stdout",
     "output_type": "stream",
     "text": [
      "momentum 4 {(4,): {'individual importance': 0.05255035580957003, 'total importance': 0.05255035580957003, 'individual std': 0.06195369426859117, 'total std': 0.06195369426859117}}\n",
      "compute marginals\n",
      "compute marginals iterating over trees\n"
     ]
    },
    {
     "name": "stderr",
     "output_type": "stream",
     "text": [
      "100%|██████████| 16/16 [00:00<00:00, 213.75it/s]\n"
     ]
    },
    {
     "name": "stdout",
     "output_type": "stream",
     "text": [
      "compute marginals done\n"
     ]
    },
    {
     "name": "stderr",
     "output_type": "stream",
     "text": [
      "1it [00:00, 12157.40it/s]\n"
     ]
    },
    {
     "name": "stdout",
     "output_type": "stream",
     "text": [
      "num_layers 5 {(5,): {'individual importance': 0.025195932893287573, 'total importance': 0.025195932893287573, 'individual std': 0.028807746922347686, 'total std': 0.028807746922347686}}\n",
      "compute marginals\n",
      "compute marginals iterating over trees\n"
     ]
    },
    {
     "name": "stderr",
     "output_type": "stream",
     "text": [
      "100%|██████████| 16/16 [00:00<00:00, 64.65it/s]\n"
     ]
    },
    {
     "name": "stdout",
     "output_type": "stream",
     "text": [
      "compute marginals done\n"
     ]
    },
    {
     "name": "stderr",
     "output_type": "stream",
     "text": [
      "1it [00:00, 11397.57it/s]\n"
     ]
    },
    {
     "name": "stdout",
     "output_type": "stream",
     "text": [
      "weight_decay 6 {(6,): {'individual importance': 0.002766075638965944, 'total importance': 0.002766075638965944, 'individual std': 0.002686692262604158, 'total std': 0.002686692262604158}}\n",
      "{'batch_size': 0.08430749513143036, 'learning_rate': 0.2533489582400549, 'max_dropout': 0.021927755298092506, 'max_units': 0.045225623613550495, 'momentum': 0.05255035580957003, 'num_layers': 0.025195932893287573, 'weight_decay': 0.002766075638965944}\n",
      "Please make sure to also cite:\n",
      "Zimmer, L., Lindauer, M., & Hutter, F. (2021). Auto-Pytorch: Multi-Fidelity Metalearning for Efficient and Robust AutoDL. IEEE Transactions on Pattern Analysis and Machine Intelligence, 43(9), 3079-3090.\n",
      "Zimmer, L. (2020). data_2k_lw.zip. figshare. Dataset. https://doi.org/10.6084/m9.figshare.11662422.v1, Apache License, Version 2.0.\n"
     ]
    },
    {
     "name": "stderr",
     "output_type": "stream",
     "text": [
      "WARNING:hypershap.baseline.original_fanova.fANOVA:Note that fANOVA expects data to be ordered like the return of ConfigSpace's 'get_hyperparameters'-method. We recommend to use labeled pandas dataframes to avoid any problems.\n"
     ]
    },
    {
     "name": "stdout",
     "output_type": "stream",
     "text": [
      "CP1\n",
      "CP2\n",
      "CP3\n",
      "CP4\n",
      "CP5\n",
      "CP6\n",
      "CP7\n"
     ]
    },
    {
     "name": "stderr",
     "output_type": "stream",
     "text": [
      "100%|██████████| 16/16 [00:00<00:00, 28581.29it/s]\n"
     ]
    },
    {
     "name": "stdout",
     "output_type": "stream",
     "text": [
      "CP8\n",
      "compute marginals\n",
      "compute marginals iterating over trees\n"
     ]
    },
    {
     "name": "stderr",
     "output_type": "stream",
     "text": [
      "100%|██████████| 16/16 [00:00<00:00, 92.04it/s]\n"
     ]
    },
    {
     "name": "stdout",
     "output_type": "stream",
     "text": [
      "compute marginals done\n"
     ]
    },
    {
     "name": "stderr",
     "output_type": "stream",
     "text": [
      "1it [00:00, 6853.44it/s]\n"
     ]
    },
    {
     "name": "stdout",
     "output_type": "stream",
     "text": [
      "batch_size 0 {(0,): {'individual importance': 0.017918599090845207, 'total importance': 0.017918599090845207, 'individual std': 0.01511177558867811, 'total std': 0.01511177558867811}}\n",
      "compute marginals\n",
      "compute marginals iterating over trees\n"
     ]
    },
    {
     "name": "stderr",
     "output_type": "stream",
     "text": [
      "100%|██████████| 16/16 [00:00<00:00, 148.14it/s]\n"
     ]
    },
    {
     "name": "stdout",
     "output_type": "stream",
     "text": [
      "compute marginals done\n"
     ]
    },
    {
     "name": "stderr",
     "output_type": "stream",
     "text": [
      "1it [00:00, 9341.43it/s]\n"
     ]
    },
    {
     "name": "stdout",
     "output_type": "stream",
     "text": [
      "learning_rate 1 {(1,): {'individual importance': 0.12815485297960721, 'total importance': 0.12815485297960721, 'individual std': 0.05716641079122087, 'total std': 0.05716641079122087}}\n",
      "compute marginals\n",
      "compute marginals iterating over trees\n"
     ]
    },
    {
     "name": "stderr",
     "output_type": "stream",
     "text": [
      "100%|██████████| 16/16 [00:00<00:00, 65.37it/s]\n"
     ]
    },
    {
     "name": "stdout",
     "output_type": "stream",
     "text": [
      "compute marginals done\n"
     ]
    },
    {
     "name": "stderr",
     "output_type": "stream",
     "text": [
      "1it [00:00, 8905.10it/s]\n"
     ]
    },
    {
     "name": "stdout",
     "output_type": "stream",
     "text": [
      "max_dropout 2 {(2,): {'individual importance': 0.0389442050353247, 'total importance': 0.0389442050353247, 'individual std': 0.040015758745399435, 'total std': 0.040015758745399435}}\n",
      "compute marginals\n",
      "compute marginals iterating over trees\n"
     ]
    },
    {
     "name": "stderr",
     "output_type": "stream",
     "text": [
      "100%|██████████| 16/16 [00:00<00:00, 69.35it/s]\n"
     ]
    },
    {
     "name": "stdout",
     "output_type": "stream",
     "text": [
      "compute marginals done\n"
     ]
    },
    {
     "name": "stderr",
     "output_type": "stream",
     "text": [
      "1it [00:00, 8683.86it/s]\n"
     ]
    },
    {
     "name": "stdout",
     "output_type": "stream",
     "text": [
      "max_units 3 {(3,): {'individual importance': 0.05326151660357868, 'total importance': 0.05326151660357868, 'individual std': 0.03163466277516798, 'total std': 0.03163466277516798}}\n",
      "compute marginals\n",
      "compute marginals iterating over trees\n"
     ]
    },
    {
     "name": "stderr",
     "output_type": "stream",
     "text": [
      "100%|██████████| 16/16 [00:00<00:00, 73.71it/s]\n"
     ]
    },
    {
     "name": "stdout",
     "output_type": "stream",
     "text": [
      "compute marginals done\n"
     ]
    },
    {
     "name": "stderr",
     "output_type": "stream",
     "text": [
      "1it [00:00, 8128.50it/s]\n"
     ]
    },
    {
     "name": "stdout",
     "output_type": "stream",
     "text": [
      "momentum 4 {(4,): {'individual importance': 0.019943463091048406, 'total importance': 0.019943463091048406, 'individual std': 0.016725109174459355, 'total std': 0.016725109174459355}}\n",
      "compute marginals\n",
      "compute marginals iterating over trees\n"
     ]
    },
    {
     "name": "stderr",
     "output_type": "stream",
     "text": [
      "100%|██████████| 16/16 [00:00<00:00, 382.85it/s]\n"
     ]
    },
    {
     "name": "stdout",
     "output_type": "stream",
     "text": [
      "compute marginals done\n"
     ]
    },
    {
     "name": "stderr",
     "output_type": "stream",
     "text": [
      "1it [00:00, 9425.40it/s]\n"
     ]
    },
    {
     "name": "stdout",
     "output_type": "stream",
     "text": [
      "num_layers 5 {(5,): {'individual importance': 0.19402417180097334, 'total importance': 0.19402417180097334, 'individual std': 0.08214322406028621, 'total std': 0.08214322406028621}}\n",
      "compute marginals\n",
      "compute marginals iterating over trees\n"
     ]
    },
    {
     "name": "stderr",
     "output_type": "stream",
     "text": [
      "100%|██████████| 16/16 [00:00<00:00, 63.31it/s]\n"
     ]
    },
    {
     "name": "stdout",
     "output_type": "stream",
     "text": [
      "compute marginals done\n"
     ]
    },
    {
     "name": "stderr",
     "output_type": "stream",
     "text": [
      "1it [00:00, 8542.37it/s]\n"
     ]
    },
    {
     "name": "stdout",
     "output_type": "stream",
     "text": [
      "weight_decay 6 {(6,): {'individual importance': 0.026859589704504618, 'total importance': 0.026859589704504618, 'individual std': 0.01782650301332778, 'total std': 0.01782650301332778}}\n",
      "{'batch_size': 0.017918599090845207, 'learning_rate': 0.12815485297960721, 'max_dropout': 0.0389442050353247, 'max_units': 0.05326151660357868, 'momentum': 0.019943463091048406, 'num_layers': 0.19402417180097334, 'weight_decay': 0.026859589704504618}\n",
      "Please make sure to also cite:\n",
      "Zimmer, L., Lindauer, M., & Hutter, F. (2021). Auto-Pytorch: Multi-Fidelity Metalearning for Efficient and Robust AutoDL. IEEE Transactions on Pattern Analysis and Machine Intelligence, 43(9), 3079-3090.\n",
      "Zimmer, L. (2020). data_2k_lw.zip. figshare. Dataset. https://doi.org/10.6084/m9.figshare.11662422.v1, Apache License, Version 2.0.\n"
     ]
    },
    {
     "name": "stderr",
     "output_type": "stream",
     "text": [
      "WARNING:hypershap.baseline.original_fanova.fANOVA:Note that fANOVA expects data to be ordered like the return of ConfigSpace's 'get_hyperparameters'-method. We recommend to use labeled pandas dataframes to avoid any problems.\n"
     ]
    },
    {
     "name": "stdout",
     "output_type": "stream",
     "text": [
      "CP1\n",
      "CP2\n",
      "CP3\n",
      "CP4\n",
      "CP5\n",
      "CP6\n",
      "CP7\n"
     ]
    },
    {
     "name": "stderr",
     "output_type": "stream",
     "text": [
      "100%|██████████| 16/16 [00:00<00:00, 28472.15it/s]\n"
     ]
    },
    {
     "name": "stdout",
     "output_type": "stream",
     "text": [
      "CP8\n",
      "compute marginals\n",
      "compute marginals iterating over trees\n"
     ]
    },
    {
     "name": "stderr",
     "output_type": "stream",
     "text": [
      "100%|██████████| 16/16 [00:00<00:00, 92.84it/s]\n"
     ]
    },
    {
     "name": "stdout",
     "output_type": "stream",
     "text": [
      "compute marginals done\n"
     ]
    },
    {
     "name": "stderr",
     "output_type": "stream",
     "text": [
      "1it [00:00, 8256.50it/s]\n"
     ]
    },
    {
     "name": "stdout",
     "output_type": "stream",
     "text": [
      "batch_size 0 {(0,): {'individual importance': 0.04422594971600747, 'total importance': 0.04422594971600747, 'individual std': 0.0442193693546289, 'total std': 0.0442193693546289}}\n",
      "compute marginals\n",
      "compute marginals iterating over trees\n"
     ]
    },
    {
     "name": "stderr",
     "output_type": "stream",
     "text": [
      "100%|██████████| 16/16 [00:00<00:00, 136.44it/s]\n"
     ]
    },
    {
     "name": "stdout",
     "output_type": "stream",
     "text": [
      "compute marginals done\n"
     ]
    },
    {
     "name": "stderr",
     "output_type": "stream",
     "text": [
      "1it [00:00, 9078.58it/s]\n"
     ]
    },
    {
     "name": "stdout",
     "output_type": "stream",
     "text": [
      "learning_rate 1 {(1,): {'individual importance': 0.07142088350623788, 'total importance': 0.07142088350623788, 'individual std': 0.03131053284471863, 'total std': 0.03131053284471863}}\n",
      "compute marginals\n",
      "compute marginals iterating over trees\n"
     ]
    },
    {
     "name": "stderr",
     "output_type": "stream",
     "text": [
      "100%|██████████| 16/16 [00:00<00:00, 60.93it/s]\n"
     ]
    },
    {
     "name": "stdout",
     "output_type": "stream",
     "text": [
      "compute marginals done\n"
     ]
    },
    {
     "name": "stderr",
     "output_type": "stream",
     "text": [
      "1it [00:00, 8612.53it/s]\n"
     ]
    },
    {
     "name": "stdout",
     "output_type": "stream",
     "text": [
      "max_dropout 2 {(2,): {'individual importance': 0.024025266684116246, 'total importance': 0.024025266684116246, 'individual std': 0.02993664366378193, 'total std': 0.02993664366378193}}\n",
      "compute marginals\n",
      "compute marginals iterating over trees\n"
     ]
    },
    {
     "name": "stderr",
     "output_type": "stream",
     "text": [
      "100%|██████████| 16/16 [00:00<00:00, 64.72it/s]\n"
     ]
    },
    {
     "name": "stdout",
     "output_type": "stream",
     "text": [
      "compute marginals done\n"
     ]
    },
    {
     "name": "stderr",
     "output_type": "stream",
     "text": [
      "1it [00:00, 9341.43it/s]\n"
     ]
    },
    {
     "name": "stdout",
     "output_type": "stream",
     "text": [
      "max_units 3 {(3,): {'individual importance': 0.009897201763428402, 'total importance': 0.009897201763428402, 'individual std': 0.014783931296604763, 'total std': 0.014783931296604763}}\n",
      "compute marginals\n",
      "compute marginals iterating over trees\n"
     ]
    },
    {
     "name": "stderr",
     "output_type": "stream",
     "text": [
      "100%|██████████| 16/16 [00:00<00:00, 61.39it/s]\n"
     ]
    },
    {
     "name": "stdout",
     "output_type": "stream",
     "text": [
      "compute marginals done\n"
     ]
    },
    {
     "name": "stderr",
     "output_type": "stream",
     "text": [
      "1it [00:00, 9619.96it/s]\n"
     ]
    },
    {
     "name": "stdout",
     "output_type": "stream",
     "text": [
      "momentum 4 {(4,): {'individual importance': 0.025041401452751043, 'total importance': 0.025041401452751043, 'individual std': 0.0333745466036188, 'total std': 0.0333745466036188}}\n",
      "compute marginals\n",
      "compute marginals iterating over trees\n"
     ]
    },
    {
     "name": "stderr",
     "output_type": "stream",
     "text": [
      "100%|██████████| 16/16 [00:00<00:00, 661.32it/s]\n"
     ]
    },
    {
     "name": "stdout",
     "output_type": "stream",
     "text": [
      "compute marginals done\n"
     ]
    },
    {
     "name": "stderr",
     "output_type": "stream",
     "text": [
      "1it [00:00, 11008.67it/s]\n"
     ]
    },
    {
     "name": "stdout",
     "output_type": "stream",
     "text": [
      "num_layers 5 {(5,): {'individual importance': 0.37849736375934284, 'total importance': 0.37849736375934284, 'individual std': 0.11105924187302606, 'total std': 0.11105924187302606}}\n",
      "compute marginals\n",
      "compute marginals iterating over trees\n"
     ]
    },
    {
     "name": "stderr",
     "output_type": "stream",
     "text": [
      "100%|██████████| 16/16 [00:00<00:00, 62.64it/s]\n"
     ]
    },
    {
     "name": "stdout",
     "output_type": "stream",
     "text": [
      "compute marginals done\n"
     ]
    },
    {
     "name": "stderr",
     "output_type": "stream",
     "text": [
      "1it [00:00, 10305.42it/s]\n"
     ]
    },
    {
     "name": "stdout",
     "output_type": "stream",
     "text": [
      "weight_decay 6 {(6,): {'individual importance': 0.026728945019264504, 'total importance': 0.026728945019264504, 'individual std': 0.03481976211556665, 'total std': 0.03481976211556665}}\n",
      "{'batch_size': 0.04422594971600747, 'learning_rate': 0.07142088350623788, 'max_dropout': 0.024025266684116246, 'max_units': 0.009897201763428402, 'momentum': 0.025041401452751043, 'num_layers': 0.37849736375934284, 'weight_decay': 0.026728945019264504}\n",
      "Please make sure to also cite:\n",
      "Zimmer, L., Lindauer, M., & Hutter, F. (2021). Auto-Pytorch: Multi-Fidelity Metalearning for Efficient and Robust AutoDL. IEEE Transactions on Pattern Analysis and Machine Intelligence, 43(9), 3079-3090.\n",
      "Zimmer, L. (2020). data_2k_lw.zip. figshare. Dataset. https://doi.org/10.6084/m9.figshare.11662422.v1, Apache License, Version 2.0.\n"
     ]
    },
    {
     "name": "stderr",
     "output_type": "stream",
     "text": [
      "WARNING:hypershap.baseline.original_fanova.fANOVA:Note that fANOVA expects data to be ordered like the return of ConfigSpace's 'get_hyperparameters'-method. We recommend to use labeled pandas dataframes to avoid any problems.\n"
     ]
    },
    {
     "name": "stdout",
     "output_type": "stream",
     "text": [
      "CP1\n",
      "CP2\n",
      "CP3\n",
      "CP4\n",
      "CP5\n",
      "CP6\n",
      "CP7\n"
     ]
    },
    {
     "name": "stderr",
     "output_type": "stream",
     "text": [
      "100%|██████████| 16/16 [00:00<00:00, 28363.85it/s]\n"
     ]
    },
    {
     "name": "stdout",
     "output_type": "stream",
     "text": [
      "CP8\n",
      "compute marginals\n",
      "compute marginals iterating over trees\n"
     ]
    },
    {
     "name": "stderr",
     "output_type": "stream",
     "text": [
      "100%|██████████| 16/16 [00:00<00:00, 93.30it/s]\n"
     ]
    },
    {
     "name": "stdout",
     "output_type": "stream",
     "text": [
      "compute marginals done\n"
     ]
    },
    {
     "name": "stderr",
     "output_type": "stream",
     "text": [
      "1it [00:00, 7913.78it/s]\n"
     ]
    },
    {
     "name": "stdout",
     "output_type": "stream",
     "text": [
      "batch_size 0 {(0,): {'individual importance': 0.048382409353043505, 'total importance': 0.048382409353043505, 'individual std': 0.03813286756932091, 'total std': 0.03813286756932091}}\n",
      "compute marginals\n",
      "compute marginals iterating over trees\n"
     ]
    },
    {
     "name": "stderr",
     "output_type": "stream",
     "text": [
      "100%|██████████| 16/16 [00:00<00:00, 173.59it/s]\n"
     ]
    },
    {
     "name": "stdout",
     "output_type": "stream",
     "text": [
      "compute marginals done\n"
     ]
    },
    {
     "name": "stderr",
     "output_type": "stream",
     "text": [
      "1it [00:00, 9118.05it/s]\n"
     ]
    },
    {
     "name": "stdout",
     "output_type": "stream",
     "text": [
      "learning_rate 1 {(1,): {'individual importance': 0.20562591451991005, 'total importance': 0.20562591451991005, 'individual std': 0.04942728783494197, 'total std': 0.04942728783494197}}\n",
      "compute marginals\n",
      "compute marginals iterating over trees\n"
     ]
    },
    {
     "name": "stderr",
     "output_type": "stream",
     "text": [
      "100%|██████████| 16/16 [00:00<00:00, 62.42it/s]\n"
     ]
    },
    {
     "name": "stdout",
     "output_type": "stream",
     "text": [
      "compute marginals done\n"
     ]
    },
    {
     "name": "stderr",
     "output_type": "stream",
     "text": [
      "1it [00:00, 8774.69it/s]\n"
     ]
    },
    {
     "name": "stdout",
     "output_type": "stream",
     "text": [
      "max_dropout 2 {(2,): {'individual importance': 0.0779977576557902, 'total importance': 0.0779977576557902, 'individual std': 0.0604784387890875, 'total std': 0.0604784387890875}}\n",
      "compute marginals\n",
      "compute marginals iterating over trees\n"
     ]
    },
    {
     "name": "stderr",
     "output_type": "stream",
     "text": [
      "100%|██████████| 16/16 [00:00<00:00, 74.14it/s]\n"
     ]
    },
    {
     "name": "stdout",
     "output_type": "stream",
     "text": [
      "compute marginals done\n"
     ]
    },
    {
     "name": "stderr",
     "output_type": "stream",
     "text": [
      "1it [00:00, 7869.24it/s]\n"
     ]
    },
    {
     "name": "stdout",
     "output_type": "stream",
     "text": [
      "max_units 3 {(3,): {'individual importance': 0.04520647462438877, 'total importance': 0.04520647462438877, 'individual std': 0.027067573609839333, 'total std': 0.027067573609839333}}\n",
      "compute marginals\n",
      "compute marginals iterating over trees\n"
     ]
    },
    {
     "name": "stderr",
     "output_type": "stream",
     "text": [
      "100%|██████████| 16/16 [00:00<00:00, 60.28it/s]\n"
     ]
    },
    {
     "name": "stdout",
     "output_type": "stream",
     "text": [
      "compute marginals done\n"
     ]
    },
    {
     "name": "stderr",
     "output_type": "stream",
     "text": [
      "1it [00:00, 1799.36it/s]\n"
     ]
    },
    {
     "name": "stdout",
     "output_type": "stream",
     "text": [
      "momentum 4 {(4,): {'individual importance': 0.023330678464033555, 'total importance': 0.023330678464033555, 'individual std': 0.02942560921249579, 'total std': 0.02942560921249579}}\n",
      "compute marginals\n",
      "compute marginals iterating over trees\n"
     ]
    },
    {
     "name": "stderr",
     "output_type": "stream",
     "text": [
      "100%|██████████| 16/16 [00:00<00:00, 295.48it/s]\n"
     ]
    },
    {
     "name": "stdout",
     "output_type": "stream",
     "text": [
      "compute marginals done\n"
     ]
    },
    {
     "name": "stderr",
     "output_type": "stream",
     "text": [
      "1it [00:00, 7084.97it/s]\n"
     ]
    },
    {
     "name": "stdout",
     "output_type": "stream",
     "text": [
      "num_layers 5 {(5,): {'individual importance': 0.036944913046960765, 'total importance': 0.036944913046960765, 'individual std': 0.03726145896706179, 'total std': 0.03726145896706179}}\n",
      "compute marginals\n",
      "compute marginals iterating over trees\n"
     ]
    },
    {
     "name": "stderr",
     "output_type": "stream",
     "text": [
      "100%|██████████| 16/16 [00:00<00:00, 59.49it/s]\n"
     ]
    },
    {
     "name": "stdout",
     "output_type": "stream",
     "text": [
      "compute marginals done\n"
     ]
    },
    {
     "name": "stderr",
     "output_type": "stream",
     "text": [
      "1it [00:00, 7752.87it/s]\n"
     ]
    },
    {
     "name": "stdout",
     "output_type": "stream",
     "text": [
      "weight_decay 6 {(6,): {'individual importance': 0.008286112140917685, 'total importance': 0.008286112140917685, 'individual std': 0.008719938404888281, 'total std': 0.008719938404888281}}\n",
      "{'batch_size': 0.048382409353043505, 'learning_rate': 0.20562591451991005, 'max_dropout': 0.0779977576557902, 'max_units': 0.04520647462438877, 'momentum': 0.023330678464033555, 'num_layers': 0.036944913046960765, 'weight_decay': 0.008286112140917685}\n",
      "Please make sure to also cite:\n",
      "Zimmer, L., Lindauer, M., & Hutter, F. (2021). Auto-Pytorch: Multi-Fidelity Metalearning for Efficient and Robust AutoDL. IEEE Transactions on Pattern Analysis and Machine Intelligence, 43(9), 3079-3090.\n",
      "Zimmer, L. (2020). data_2k_lw.zip. figshare. Dataset. https://doi.org/10.6084/m9.figshare.11662422.v1, Apache License, Version 2.0.\n"
     ]
    },
    {
     "name": "stderr",
     "output_type": "stream",
     "text": [
      "WARNING:hypershap.baseline.original_fanova.fANOVA:Note that fANOVA expects data to be ordered like the return of ConfigSpace's 'get_hyperparameters'-method. We recommend to use labeled pandas dataframes to avoid any problems.\n"
     ]
    },
    {
     "name": "stdout",
     "output_type": "stream",
     "text": [
      "CP1\n",
      "CP2\n",
      "CP3\n",
      "CP4\n",
      "CP5\n",
      "CP6\n",
      "CP7\n"
     ]
    },
    {
     "name": "stderr",
     "output_type": "stream",
     "text": [
      "100%|██████████| 16/16 [00:00<00:00, 28630.06it/s]\n"
     ]
    },
    {
     "name": "stdout",
     "output_type": "stream",
     "text": [
      "CP8\n",
      "compute marginals\n",
      "compute marginals iterating over trees\n"
     ]
    },
    {
     "name": "stderr",
     "output_type": "stream",
     "text": [
      "100%|██████████| 16/16 [00:00<00:00, 82.43it/s]\n"
     ]
    },
    {
     "name": "stdout",
     "output_type": "stream",
     "text": [
      "compute marginals done\n"
     ]
    },
    {
     "name": "stderr",
     "output_type": "stream",
     "text": [
      "1it [00:00, 7281.78it/s]\n"
     ]
    },
    {
     "name": "stdout",
     "output_type": "stream",
     "text": [
      "batch_size 0 {(0,): {'individual importance': 0.021674778469500916, 'total importance': 0.021674778469500916, 'individual std': 0.017616483128354406, 'total std': 0.017616483128354406}}\n",
      "compute marginals\n",
      "compute marginals iterating over trees\n"
     ]
    },
    {
     "name": "stderr",
     "output_type": "stream",
     "text": [
      "100%|██████████| 16/16 [00:00<00:00, 164.30it/s]\n"
     ]
    },
    {
     "name": "stdout",
     "output_type": "stream",
     "text": [
      "compute marginals done\n"
     ]
    },
    {
     "name": "stderr",
     "output_type": "stream",
     "text": [
      "1it [00:00, 9078.58it/s]\n"
     ]
    },
    {
     "name": "stdout",
     "output_type": "stream",
     "text": [
      "learning_rate 1 {(1,): {'individual importance': 0.11625716541242517, 'total importance': 0.11625716541242517, 'individual std': 0.024184087458845295, 'total std': 0.024184087458845295}}\n",
      "compute marginals\n",
      "compute marginals iterating over trees\n"
     ]
    },
    {
     "name": "stderr",
     "output_type": "stream",
     "text": [
      "100%|██████████| 16/16 [00:00<00:00, 61.54it/s]\n"
     ]
    },
    {
     "name": "stdout",
     "output_type": "stream",
     "text": [
      "compute marginals done\n"
     ]
    },
    {
     "name": "stderr",
     "output_type": "stream",
     "text": [
      "1it [00:00, 8289.14it/s]\n"
     ]
    },
    {
     "name": "stdout",
     "output_type": "stream",
     "text": [
      "max_dropout 2 {(2,): {'individual importance': 0.012654751651144805, 'total importance': 0.012654751651144805, 'individual std': 0.011265875569396868, 'total std': 0.011265875569396868}}\n",
      "compute marginals\n",
      "compute marginals iterating over trees\n"
     ]
    },
    {
     "name": "stderr",
     "output_type": "stream",
     "text": [
      "100%|██████████| 16/16 [00:00<00:00, 72.99it/s]\n"
     ]
    },
    {
     "name": "stdout",
     "output_type": "stream",
     "text": [
      "compute marginals done\n"
     ]
    },
    {
     "name": "stderr",
     "output_type": "stream",
     "text": [
      "1it [00:00, 9362.29it/s]\n"
     ]
    },
    {
     "name": "stdout",
     "output_type": "stream",
     "text": [
      "max_units 3 {(3,): {'individual importance': 0.04958306665799079, 'total importance': 0.04958306665799079, 'individual std': 0.034077296475538005, 'total std': 0.034077296475538005}}\n",
      "compute marginals\n",
      "compute marginals iterating over trees\n"
     ]
    },
    {
     "name": "stderr",
     "output_type": "stream",
     "text": [
      "100%|██████████| 16/16 [00:00<00:00, 68.80it/s]\n"
     ]
    },
    {
     "name": "stdout",
     "output_type": "stream",
     "text": [
      "compute marginals done\n"
     ]
    },
    {
     "name": "stderr",
     "output_type": "stream",
     "text": [
      "1it [00:00, 8830.11it/s]\n"
     ]
    },
    {
     "name": "stdout",
     "output_type": "stream",
     "text": [
      "momentum 4 {(4,): {'individual importance': 0.012518297476648288, 'total importance': 0.012518297476648288, 'individual std': 0.009259316251419309, 'total std': 0.009259316251419309}}\n",
      "compute marginals\n",
      "compute marginals iterating over trees\n"
     ]
    },
    {
     "name": "stderr",
     "output_type": "stream",
     "text": [
      "100%|██████████| 16/16 [00:00<00:00, 563.54it/s]\n"
     ]
    },
    {
     "name": "stdout",
     "output_type": "stream",
     "text": [
      "compute marginals done\n"
     ]
    },
    {
     "name": "stderr",
     "output_type": "stream",
     "text": [
      "1it [00:00, 10512.04it/s]\n"
     ]
    },
    {
     "name": "stdout",
     "output_type": "stream",
     "text": [
      "num_layers 5 {(5,): {'individual importance': 0.4258885276274275, 'total importance': 0.4258885276274275, 'individual std': 0.09030892284168449, 'total std': 0.09030892284168449}}\n",
      "compute marginals\n",
      "compute marginals iterating over trees\n"
     ]
    },
    {
     "name": "stderr",
     "output_type": "stream",
     "text": [
      "100%|██████████| 16/16 [00:00<00:00, 64.44it/s]\n"
     ]
    },
    {
     "name": "stdout",
     "output_type": "stream",
     "text": [
      "compute marginals done\n"
     ]
    },
    {
     "name": "stderr",
     "output_type": "stream",
     "text": [
      "1it [00:00, 10407.70it/s]\n"
     ]
    },
    {
     "name": "stdout",
     "output_type": "stream",
     "text": [
      "weight_decay 6 {(6,): {'individual importance': 0.028282255864361137, 'total importance': 0.028282255864361137, 'individual std': 0.029627579593585165, 'total std': 0.029627579593585165}}\n",
      "{'batch_size': 0.021674778469500916, 'learning_rate': 0.11625716541242517, 'max_dropout': 0.012654751651144805, 'max_units': 0.04958306665799079, 'momentum': 0.012518297476648288, 'num_layers': 0.4258885276274275, 'weight_decay': 0.028282255864361137}\n",
      "Please make sure to also cite:\n",
      "Zimmer, L., Lindauer, M., & Hutter, F. (2021). Auto-Pytorch: Multi-Fidelity Metalearning for Efficient and Robust AutoDL. IEEE Transactions on Pattern Analysis and Machine Intelligence, 43(9), 3079-3090.\n",
      "Zimmer, L. (2020). data_2k_lw.zip. figshare. Dataset. https://doi.org/10.6084/m9.figshare.11662422.v1, Apache License, Version 2.0.\n"
     ]
    },
    {
     "name": "stderr",
     "output_type": "stream",
     "text": [
      "WARNING:hypershap.baseline.original_fanova.fANOVA:Note that fANOVA expects data to be ordered like the return of ConfigSpace's 'get_hyperparameters'-method. We recommend to use labeled pandas dataframes to avoid any problems.\n"
     ]
    },
    {
     "name": "stdout",
     "output_type": "stream",
     "text": [
      "CP1\n",
      "CP2\n",
      "CP3\n",
      "CP4\n",
      "CP5\n",
      "CP6\n",
      "CP7\n"
     ]
    },
    {
     "name": "stderr",
     "output_type": "stream",
     "text": [
      "100%|██████████| 16/16 [00:00<00:00, 28888.88it/s]\n"
     ]
    },
    {
     "name": "stdout",
     "output_type": "stream",
     "text": [
      "CP8\n",
      "compute marginals\n",
      "compute marginals iterating over trees\n"
     ]
    },
    {
     "name": "stderr",
     "output_type": "stream",
     "text": [
      "100%|██████████| 16/16 [00:00<00:00, 134.02it/s]\n"
     ]
    },
    {
     "name": "stdout",
     "output_type": "stream",
     "text": [
      "compute marginals done\n"
     ]
    },
    {
     "name": "stderr",
     "output_type": "stream",
     "text": [
      "1it [00:00, 8630.26it/s]\n"
     ]
    },
    {
     "name": "stdout",
     "output_type": "stream",
     "text": [
      "batch_size 0 {(0,): {'individual importance': 0.06373728825855164, 'total importance': 0.06373728825855164, 'individual std': 0.05477712258328124, 'total std': 0.05477712258328124}}\n",
      "compute marginals\n",
      "compute marginals iterating over trees\n"
     ]
    },
    {
     "name": "stderr",
     "output_type": "stream",
     "text": [
      "100%|██████████| 16/16 [00:00<00:00, 124.17it/s]\n"
     ]
    },
    {
     "name": "stdout",
     "output_type": "stream",
     "text": [
      "compute marginals done\n"
     ]
    },
    {
     "name": "stderr",
     "output_type": "stream",
     "text": [
      "1it [00:00, 6533.18it/s]\n"
     ]
    },
    {
     "name": "stdout",
     "output_type": "stream",
     "text": [
      "learning_rate 1 {(1,): {'individual importance': 0.06895339490069591, 'total importance': 0.06895339490069591, 'individual std': 0.032138189770993225, 'total std': 0.032138189770993225}}\n",
      "compute marginals\n",
      "compute marginals iterating over trees\n"
     ]
    },
    {
     "name": "stderr",
     "output_type": "stream",
     "text": [
      "100%|██████████| 16/16 [00:00<00:00, 66.72it/s]\n"
     ]
    },
    {
     "name": "stdout",
     "output_type": "stream",
     "text": [
      "compute marginals done\n"
     ]
    },
    {
     "name": "stderr",
     "output_type": "stream",
     "text": [
      "1it [00:00, 10727.12it/s]\n"
     ]
    },
    {
     "name": "stdout",
     "output_type": "stream",
     "text": [
      "max_dropout 2 {(2,): {'individual importance': 0.034600481507336085, 'total importance': 0.034600481507336085, 'individual std': 0.04105779256166089, 'total std': 0.04105779256166089}}\n",
      "compute marginals\n",
      "compute marginals iterating over trees\n"
     ]
    },
    {
     "name": "stderr",
     "output_type": "stream",
     "text": [
      "100%|██████████| 16/16 [00:00<00:00, 64.27it/s]\n"
     ]
    },
    {
     "name": "stdout",
     "output_type": "stream",
     "text": [
      "compute marginals done\n"
     ]
    },
    {
     "name": "stderr",
     "output_type": "stream",
     "text": [
      "1it [00:00, 6615.62it/s]\n"
     ]
    },
    {
     "name": "stdout",
     "output_type": "stream",
     "text": [
      "max_units 3 {(3,): {'individual importance': 0.012986806415988674, 'total importance': 0.012986806415988674, 'individual std': 0.023922513356780375, 'total std': 0.023922513356780375}}\n",
      "compute marginals\n",
      "compute marginals iterating over trees\n"
     ]
    },
    {
     "name": "stderr",
     "output_type": "stream",
     "text": [
      "100%|██████████| 16/16 [00:00<00:00, 69.95it/s]\n"
     ]
    },
    {
     "name": "stdout",
     "output_type": "stream",
     "text": [
      "compute marginals done\n"
     ]
    },
    {
     "name": "stderr",
     "output_type": "stream",
     "text": [
      "1it [00:00, 5652.70it/s]\n"
     ]
    },
    {
     "name": "stdout",
     "output_type": "stream",
     "text": [
      "momentum 4 {(4,): {'individual importance': 0.052852727833549724, 'total importance': 0.052852727833549724, 'individual std': 0.059013087273718325, 'total std': 0.059013087273718325}}\n",
      "compute marginals\n",
      "compute marginals iterating over trees\n"
     ]
    },
    {
     "name": "stderr",
     "output_type": "stream",
     "text": [
      "100%|██████████| 16/16 [00:00<00:00, 229.38it/s]\n"
     ]
    },
    {
     "name": "stdout",
     "output_type": "stream",
     "text": [
      "compute marginals done\n"
     ]
    },
    {
     "name": "stderr",
     "output_type": "stream",
     "text": [
      "1it [00:00, 7530.17it/s]\n"
     ]
    },
    {
     "name": "stdout",
     "output_type": "stream",
     "text": [
      "num_layers 5 {(5,): {'individual importance': 0.05656689268132046, 'total importance': 0.05656689268132046, 'individual std': 0.04870318034607672, 'total std': 0.04870318034607672}}\n",
      "compute marginals\n",
      "compute marginals iterating over trees\n"
     ]
    },
    {
     "name": "stderr",
     "output_type": "stream",
     "text": [
      "100%|██████████| 16/16 [00:00<00:00, 61.29it/s]\n"
     ]
    },
    {
     "name": "stdout",
     "output_type": "stream",
     "text": [
      "compute marginals done\n"
     ]
    },
    {
     "name": "stderr",
     "output_type": "stream",
     "text": [
      "1it [00:00, 8701.88it/s]\n"
     ]
    },
    {
     "name": "stdout",
     "output_type": "stream",
     "text": [
      "weight_decay 6 {(6,): {'individual importance': 0.03583103484108796, 'total importance': 0.03583103484108796, 'individual std': 0.02813693066717636, 'total std': 0.02813693066717636}}\n",
      "{'batch_size': 0.06373728825855164, 'learning_rate': 0.06895339490069591, 'max_dropout': 0.034600481507336085, 'max_units': 0.012986806415988674, 'momentum': 0.052852727833549724, 'num_layers': 0.05656689268132046, 'weight_decay': 0.03583103484108796}\n",
      "Please make sure to also cite:\n",
      "Zimmer, L., Lindauer, M., & Hutter, F. (2021). Auto-Pytorch: Multi-Fidelity Metalearning for Efficient and Robust AutoDL. IEEE Transactions on Pattern Analysis and Machine Intelligence, 43(9), 3079-3090.\n",
      "Zimmer, L. (2020). data_2k_lw.zip. figshare. Dataset. https://doi.org/10.6084/m9.figshare.11662422.v1, Apache License, Version 2.0.\n"
     ]
    },
    {
     "name": "stderr",
     "output_type": "stream",
     "text": [
      "WARNING:hypershap.baseline.original_fanova.fANOVA:Note that fANOVA expects data to be ordered like the return of ConfigSpace's 'get_hyperparameters'-method. We recommend to use labeled pandas dataframes to avoid any problems.\n"
     ]
    },
    {
     "name": "stdout",
     "output_type": "stream",
     "text": [
      "CP1\n",
      "CP2\n",
      "CP3\n",
      "CP4\n",
      "CP5\n",
      "CP6\n",
      "CP7\n"
     ]
    },
    {
     "name": "stderr",
     "output_type": "stream",
     "text": [
      "100%|██████████| 16/16 [00:00<00:00, 28617.85it/s]\n"
     ]
    },
    {
     "name": "stdout",
     "output_type": "stream",
     "text": [
      "CP8\n",
      "compute marginals\n",
      "compute marginals iterating over trees\n"
     ]
    },
    {
     "name": "stderr",
     "output_type": "stream",
     "text": [
      "100%|██████████| 16/16 [00:00<00:00, 90.45it/s]\n"
     ]
    },
    {
     "name": "stdout",
     "output_type": "stream",
     "text": [
      "compute marginals done\n"
     ]
    },
    {
     "name": "stderr",
     "output_type": "stream",
     "text": [
      "1it [00:00, 9709.04it/s]\n"
     ]
    },
    {
     "name": "stdout",
     "output_type": "stream",
     "text": [
      "batch_size 0 {(0,): {'individual importance': 0.08787174500625848, 'total importance': 0.08787174500625848, 'individual std': 0.06476656644254863, 'total std': 0.06476656644254863}}\n",
      "compute marginals\n",
      "compute marginals iterating over trees\n"
     ]
    },
    {
     "name": "stderr",
     "output_type": "stream",
     "text": [
      "100%|██████████| 16/16 [00:00<00:00, 119.47it/s]\n"
     ]
    },
    {
     "name": "stdout",
     "output_type": "stream",
     "text": [
      "compute marginals done\n"
     ]
    },
    {
     "name": "stderr",
     "output_type": "stream",
     "text": [
      "1it [00:00, 9510.89it/s]\n"
     ]
    },
    {
     "name": "stdout",
     "output_type": "stream",
     "text": [
      "learning_rate 1 {(1,): {'individual importance': 0.09704981488103104, 'total importance': 0.09704981488103104, 'individual std': 0.060406368872526414, 'total std': 0.060406368872526414}}\n",
      "compute marginals\n",
      "compute marginals iterating over trees\n"
     ]
    },
    {
     "name": "stderr",
     "output_type": "stream",
     "text": [
      "100%|██████████| 16/16 [00:00<00:00, 67.53it/s]\n"
     ]
    },
    {
     "name": "stdout",
     "output_type": "stream",
     "text": [
      "compute marginals done\n"
     ]
    },
    {
     "name": "stderr",
     "output_type": "stream",
     "text": [
      "1it [00:00, 10330.80it/s]\n"
     ]
    },
    {
     "name": "stdout",
     "output_type": "stream",
     "text": [
      "max_dropout 2 {(2,): {'individual importance': 0.03702086106083123, 'total importance': 0.03702086106083123, 'individual std': 0.025853215280728085, 'total std': 0.025853215280728085}}\n",
      "compute marginals\n",
      "compute marginals iterating over trees\n"
     ]
    },
    {
     "name": "stderr",
     "output_type": "stream",
     "text": [
      "100%|██████████| 16/16 [00:00<00:00, 72.95it/s]\n"
     ]
    },
    {
     "name": "stdout",
     "output_type": "stream",
     "text": [
      "compute marginals done\n"
     ]
    },
    {
     "name": "stderr",
     "output_type": "stream",
     "text": [
      "1it [00:00, 10837.99it/s]\n"
     ]
    },
    {
     "name": "stdout",
     "output_type": "stream",
     "text": [
      "max_units 3 {(3,): {'individual importance': 0.008869788705313809, 'total importance': 0.008869788705313809, 'individual std': 0.00810823327701503, 'total std': 0.00810823327701503}}\n",
      "compute marginals\n",
      "compute marginals iterating over trees\n"
     ]
    },
    {
     "name": "stderr",
     "output_type": "stream",
     "text": [
      "100%|██████████| 16/16 [00:00<00:00, 72.56it/s]\n"
     ]
    },
    {
     "name": "stdout",
     "output_type": "stream",
     "text": [
      "compute marginals done\n"
     ]
    },
    {
     "name": "stderr",
     "output_type": "stream",
     "text": [
      "1it [00:00, 12052.60it/s]\n"
     ]
    },
    {
     "name": "stdout",
     "output_type": "stream",
     "text": [
      "momentum 4 {(4,): {'individual importance': 0.026412620754736146, 'total importance': 0.026412620754736146, 'individual std': 0.02407505694005196, 'total std': 0.02407505694005196}}\n",
      "compute marginals\n",
      "compute marginals iterating over trees\n"
     ]
    },
    {
     "name": "stderr",
     "output_type": "stream",
     "text": [
      "100%|██████████| 16/16 [00:00<00:00, 410.16it/s]\n"
     ]
    },
    {
     "name": "stdout",
     "output_type": "stream",
     "text": [
      "compute marginals done\n"
     ]
    },
    {
     "name": "stderr",
     "output_type": "stream",
     "text": [
      "1it [00:00, 11366.68it/s]\n"
     ]
    },
    {
     "name": "stdout",
     "output_type": "stream",
     "text": [
      "num_layers 5 {(5,): {'individual importance': 0.22232993841804455, 'total importance': 0.22232993841804455, 'individual std': 0.11960361460358135, 'total std': 0.11960361460358135}}\n",
      "compute marginals\n",
      "compute marginals iterating over trees\n"
     ]
    },
    {
     "name": "stderr",
     "output_type": "stream",
     "text": [
      "100%|██████████| 16/16 [00:00<00:00, 66.16it/s]\n"
     ]
    },
    {
     "name": "stdout",
     "output_type": "stream",
     "text": [
      "compute marginals done\n"
     ]
    },
    {
     "name": "stderr",
     "output_type": "stream",
     "text": [
      "1it [00:00, 9776.93it/s]\n"
     ]
    },
    {
     "name": "stdout",
     "output_type": "stream",
     "text": [
      "weight_decay 6 {(6,): {'individual importance': 0.01156716256421252, 'total importance': 0.01156716256421252, 'individual std': 0.01165004473267438, 'total std': 0.01165004473267438}}\n",
      "{'batch_size': 0.08787174500625848, 'learning_rate': 0.09704981488103104, 'max_dropout': 0.03702086106083123, 'max_units': 0.008869788705313809, 'momentum': 0.026412620754736146, 'num_layers': 0.22232993841804455, 'weight_decay': 0.01156716256421252}\n",
      "Please make sure to also cite:\n",
      "Zimmer, L., Lindauer, M., & Hutter, F. (2021). Auto-Pytorch: Multi-Fidelity Metalearning for Efficient and Robust AutoDL. IEEE Transactions on Pattern Analysis and Machine Intelligence, 43(9), 3079-3090.\n",
      "Zimmer, L. (2020). data_2k_lw.zip. figshare. Dataset. https://doi.org/10.6084/m9.figshare.11662422.v1, Apache License, Version 2.0.\n"
     ]
    },
    {
     "name": "stderr",
     "output_type": "stream",
     "text": [
      "WARNING:hypershap.baseline.original_fanova.fANOVA:Note that fANOVA expects data to be ordered like the return of ConfigSpace's 'get_hyperparameters'-method. We recommend to use labeled pandas dataframes to avoid any problems.\n"
     ]
    },
    {
     "name": "stdout",
     "output_type": "stream",
     "text": [
      "CP1\n",
      "CP2\n",
      "CP3\n",
      "CP4\n",
      "CP5\n",
      "CP6\n",
      "CP7\n"
     ]
    },
    {
     "name": "stderr",
     "output_type": "stream",
     "text": [
      "100%|██████████| 16/16 [00:00<00:00, 28411.88it/s]\n"
     ]
    },
    {
     "name": "stdout",
     "output_type": "stream",
     "text": [
      "CP8\n",
      "compute marginals\n",
      "compute marginals iterating over trees\n"
     ]
    },
    {
     "name": "stderr",
     "output_type": "stream",
     "text": [
      "100%|██████████| 16/16 [00:00<00:00, 90.73it/s]\n"
     ]
    },
    {
     "name": "stdout",
     "output_type": "stream",
     "text": [
      "compute marginals done\n"
     ]
    },
    {
     "name": "stderr",
     "output_type": "stream",
     "text": [
      "1it [00:00, 8473.34it/s]\n"
     ]
    },
    {
     "name": "stdout",
     "output_type": "stream",
     "text": [
      "batch_size 0 {(0,): {'individual importance': 0.020015814682516925, 'total importance': 0.020015814682516925, 'individual std': 0.011647430320607631, 'total std': 0.011647430320607631}}\n",
      "compute marginals\n",
      "compute marginals iterating over trees\n"
     ]
    },
    {
     "name": "stderr",
     "output_type": "stream",
     "text": [
      "100%|██████████| 16/16 [00:00<00:00, 154.19it/s]\n"
     ]
    },
    {
     "name": "stdout",
     "output_type": "stream",
     "text": [
      "compute marginals done\n"
     ]
    },
    {
     "name": "stderr",
     "output_type": "stream",
     "text": [
      "1it [00:00, 9686.61it/s]\n"
     ]
    },
    {
     "name": "stdout",
     "output_type": "stream",
     "text": [
      "learning_rate 1 {(1,): {'individual importance': 0.08125251065957345, 'total importance': 0.08125251065957345, 'individual std': 0.03148092330250989, 'total std': 0.03148092330250989}}\n",
      "compute marginals\n",
      "compute marginals iterating over trees\n"
     ]
    },
    {
     "name": "stderr",
     "output_type": "stream",
     "text": [
      "100%|██████████| 16/16 [00:00<00:00, 61.52it/s]\n"
     ]
    },
    {
     "name": "stdout",
     "output_type": "stream",
     "text": [
      "compute marginals done\n"
     ]
    },
    {
     "name": "stderr",
     "output_type": "stream",
     "text": [
      "1it [00:00, 7884.03it/s]\n"
     ]
    },
    {
     "name": "stdout",
     "output_type": "stream",
     "text": [
      "max_dropout 2 {(2,): {'individual importance': 0.008123805119095915, 'total importance': 0.008123805119095915, 'individual std': 0.009133082079528444, 'total std': 0.009133082079528444}}\n",
      "compute marginals\n",
      "compute marginals iterating over trees\n"
     ]
    },
    {
     "name": "stderr",
     "output_type": "stream",
     "text": [
      "100%|██████████| 16/16 [00:00<00:00, 68.02it/s]\n"
     ]
    },
    {
     "name": "stdout",
     "output_type": "stream",
     "text": [
      "compute marginals done\n"
     ]
    },
    {
     "name": "stderr",
     "output_type": "stream",
     "text": [
      "1it [00:00, 8473.34it/s]\n"
     ]
    },
    {
     "name": "stdout",
     "output_type": "stream",
     "text": [
      "max_units 3 {(3,): {'individual importance': 0.001558493301339043, 'total importance': 0.001558493301339043, 'individual std': 0.001764951433920426, 'total std': 0.001764951433920426}}\n",
      "compute marginals\n",
      "compute marginals iterating over trees\n"
     ]
    },
    {
     "name": "stderr",
     "output_type": "stream",
     "text": [
      "100%|██████████| 16/16 [00:00<00:00, 67.54it/s]\n"
     ]
    },
    {
     "name": "stdout",
     "output_type": "stream",
     "text": [
      "compute marginals done\n"
     ]
    },
    {
     "name": "stderr",
     "output_type": "stream",
     "text": [
      "1it [00:00, 10106.76it/s]\n"
     ]
    },
    {
     "name": "stdout",
     "output_type": "stream",
     "text": [
      "momentum 4 {(4,): {'individual importance': 0.01375804503257101, 'total importance': 0.01375804503257101, 'individual std': 0.012787508016441526, 'total std': 0.012787508016441526}}\n",
      "compute marginals\n",
      "compute marginals iterating over trees\n"
     ]
    },
    {
     "name": "stderr",
     "output_type": "stream",
     "text": [
      "100%|██████████| 16/16 [00:00<00:00, 663.24it/s]\n"
     ]
    },
    {
     "name": "stdout",
     "output_type": "stream",
     "text": [
      "compute marginals done\n"
     ]
    },
    {
     "name": "stderr",
     "output_type": "stream",
     "text": [
      "1it [00:00, 10330.80it/s]\n"
     ]
    },
    {
     "name": "stdout",
     "output_type": "stream",
     "text": [
      "num_layers 5 {(5,): {'individual importance': 0.5571982718068109, 'total importance': 0.5571982718068109, 'individual std': 0.058536996422604085, 'total std': 0.058536996422604085}}\n",
      "compute marginals\n",
      "compute marginals iterating over trees\n"
     ]
    },
    {
     "name": "stderr",
     "output_type": "stream",
     "text": [
      "100%|██████████| 16/16 [00:00<00:00, 62.46it/s]\n"
     ]
    },
    {
     "name": "stdout",
     "output_type": "stream",
     "text": [
      "compute marginals done\n"
     ]
    },
    {
     "name": "stderr",
     "output_type": "stream",
     "text": [
      "1it [00:00, 9258.95it/s]\n"
     ]
    },
    {
     "name": "stdout",
     "output_type": "stream",
     "text": [
      "weight_decay 6 {(6,): {'individual importance': 0.020968354616737888, 'total importance': 0.020968354616737888, 'individual std': 0.011359625398547693, 'total std': 0.011359625398547693}}\n",
      "{'batch_size': 0.020015814682516925, 'learning_rate': 0.08125251065957345, 'max_dropout': 0.008123805119095915, 'max_units': 0.001558493301339043, 'momentum': 0.01375804503257101, 'num_layers': 0.5571982718068109, 'weight_decay': 0.020968354616737888}\n",
      "Please make sure to also cite:\n",
      "Zimmer, L., Lindauer, M., & Hutter, F. (2021). Auto-Pytorch: Multi-Fidelity Metalearning for Efficient and Robust AutoDL. IEEE Transactions on Pattern Analysis and Machine Intelligence, 43(9), 3079-3090.\n",
      "Zimmer, L. (2020). data_2k_lw.zip. figshare. Dataset. https://doi.org/10.6084/m9.figshare.11662422.v1, Apache License, Version 2.0.\n"
     ]
    },
    {
     "name": "stderr",
     "output_type": "stream",
     "text": [
      "WARNING:hypershap.baseline.original_fanova.fANOVA:Note that fANOVA expects data to be ordered like the return of ConfigSpace's 'get_hyperparameters'-method. We recommend to use labeled pandas dataframes to avoid any problems.\n"
     ]
    },
    {
     "name": "stdout",
     "output_type": "stream",
     "text": [
      "CP1\n",
      "CP2\n",
      "CP3\n",
      "CP4\n",
      "CP5\n",
      "CP6\n",
      "CP7\n"
     ]
    },
    {
     "name": "stderr",
     "output_type": "stream",
     "text": [
      "100%|██████████| 16/16 [00:00<00:00, 27730.94it/s]\n"
     ]
    },
    {
     "name": "stdout",
     "output_type": "stream",
     "text": [
      "CP8\n",
      "compute marginals\n",
      "compute marginals iterating over trees\n"
     ]
    },
    {
     "name": "stderr",
     "output_type": "stream",
     "text": [
      "100%|██████████| 16/16 [00:00<00:00, 113.96it/s]\n"
     ]
    },
    {
     "name": "stdout",
     "output_type": "stream",
     "text": [
      "compute marginals done\n"
     ]
    },
    {
     "name": "stderr",
     "output_type": "stream",
     "text": [
      "1it [00:00, 6278.90it/s]\n"
     ]
    },
    {
     "name": "stdout",
     "output_type": "stream",
     "text": [
      "batch_size 0 {(0,): {'individual importance': 0.07321703658269585, 'total importance': 0.07321703658269585, 'individual std': 0.08705615305051553, 'total std': 0.08705615305051553}}\n",
      "compute marginals\n",
      "compute marginals iterating over trees\n"
     ]
    },
    {
     "name": "stderr",
     "output_type": "stream",
     "text": [
      "100%|██████████| 16/16 [00:00<00:00, 116.61it/s]\n"
     ]
    },
    {
     "name": "stdout",
     "output_type": "stream",
     "text": [
      "compute marginals done\n"
     ]
    },
    {
     "name": "stderr",
     "output_type": "stream",
     "text": [
      "1it [00:00, 8542.37it/s]\n"
     ]
    },
    {
     "name": "stdout",
     "output_type": "stream",
     "text": [
      "learning_rate 1 {(1,): {'individual importance': 0.05857103744365373, 'total importance': 0.05857103744365373, 'individual std': 0.028512142632810922, 'total std': 0.028512142632810922}}\n",
      "compute marginals\n",
      "compute marginals iterating over trees\n"
     ]
    },
    {
     "name": "stderr",
     "output_type": "stream",
     "text": [
      "100%|██████████| 16/16 [00:00<00:00, 62.67it/s]\n"
     ]
    },
    {
     "name": "stdout",
     "output_type": "stream",
     "text": [
      "compute marginals done\n"
     ]
    },
    {
     "name": "stderr",
     "output_type": "stream",
     "text": [
      "1it [00:00, 7681.88it/s]\n"
     ]
    },
    {
     "name": "stdout",
     "output_type": "stream",
     "text": [
      "max_dropout 2 {(2,): {'individual importance': 0.02936916455073825, 'total importance': 0.02936916455073825, 'individual std': 0.03128912575800375, 'total std': 0.03128912575800375}}\n",
      "compute marginals\n",
      "compute marginals iterating over trees\n"
     ]
    },
    {
     "name": "stderr",
     "output_type": "stream",
     "text": [
      "100%|██████████| 16/16 [00:00<00:00, 65.18it/s]\n"
     ]
    },
    {
     "name": "stdout",
     "output_type": "stream",
     "text": [
      "compute marginals done\n"
     ]
    },
    {
     "name": "stderr",
     "output_type": "stream",
     "text": [
      "1it [00:00, 8830.11it/s]\n"
     ]
    },
    {
     "name": "stdout",
     "output_type": "stream",
     "text": [
      "max_units 3 {(3,): {'individual importance': 0.010619121915951388, 'total importance': 0.010619121915951388, 'individual std': 0.007724166433217742, 'total std': 0.007724166433217742}}\n",
      "compute marginals\n",
      "compute marginals iterating over trees\n"
     ]
    },
    {
     "name": "stderr",
     "output_type": "stream",
     "text": [
      "100%|██████████| 16/16 [00:00<00:00, 66.46it/s]\n"
     ]
    },
    {
     "name": "stdout",
     "output_type": "stream",
     "text": [
      "compute marginals done\n"
     ]
    },
    {
     "name": "stderr",
     "output_type": "stream",
     "text": [
      "1it [00:00, 8542.37it/s]\n"
     ]
    },
    {
     "name": "stdout",
     "output_type": "stream",
     "text": [
      "momentum 4 {(4,): {'individual importance': 0.0441969523039301, 'total importance': 0.0441969523039301, 'individual std': 0.05470549006788313, 'total std': 0.05470549006788313}}\n",
      "compute marginals\n",
      "compute marginals iterating over trees\n"
     ]
    },
    {
     "name": "stderr",
     "output_type": "stream",
     "text": [
      "100%|██████████| 16/16 [00:00<00:00, 256.66it/s]\n"
     ]
    },
    {
     "name": "stdout",
     "output_type": "stream",
     "text": [
      "compute marginals done\n"
     ]
    },
    {
     "name": "stderr",
     "output_type": "stream",
     "text": [
      "1it [00:00, 8144.28it/s]\n"
     ]
    },
    {
     "name": "stdout",
     "output_type": "stream",
     "text": [
      "num_layers 5 {(5,): {'individual importance': 0.021296216040314855, 'total importance': 0.021296216040314855, 'individual std': 0.015823207717509703, 'total std': 0.015823207717509703}}\n",
      "compute marginals\n",
      "compute marginals iterating over trees\n"
     ]
    },
    {
     "name": "stderr",
     "output_type": "stream",
     "text": [
      "100%|██████████| 16/16 [00:00<00:00, 61.50it/s]\n"
     ]
    },
    {
     "name": "stdout",
     "output_type": "stream",
     "text": [
      "compute marginals done\n"
     ]
    },
    {
     "name": "stderr",
     "output_type": "stream",
     "text": [
      "1it [00:00, 8774.69it/s]\n"
     ]
    },
    {
     "name": "stdout",
     "output_type": "stream",
     "text": [
      "weight_decay 6 {(6,): {'individual importance': 0.0524735187132862, 'total importance': 0.0524735187132862, 'individual std': 0.04748365047529103, 'total std': 0.04748365047529103}}\n",
      "{'batch_size': 0.07321703658269585, 'learning_rate': 0.05857103744365373, 'max_dropout': 0.02936916455073825, 'max_units': 0.010619121915951388, 'momentum': 0.0441969523039301, 'num_layers': 0.021296216040314855, 'weight_decay': 0.0524735187132862}\n",
      "Please make sure to also cite:\n",
      "Zimmer, L., Lindauer, M., & Hutter, F. (2021). Auto-Pytorch: Multi-Fidelity Metalearning for Efficient and Robust AutoDL. IEEE Transactions on Pattern Analysis and Machine Intelligence, 43(9), 3079-3090.\n",
      "Zimmer, L. (2020). data_2k_lw.zip. figshare. Dataset. https://doi.org/10.6084/m9.figshare.11662422.v1, Apache License, Version 2.0.\n"
     ]
    },
    {
     "name": "stderr",
     "output_type": "stream",
     "text": [
      "WARNING:hypershap.baseline.original_fanova.fANOVA:Note that fANOVA expects data to be ordered like the return of ConfigSpace's 'get_hyperparameters'-method. We recommend to use labeled pandas dataframes to avoid any problems.\n"
     ]
    },
    {
     "name": "stdout",
     "output_type": "stream",
     "text": [
      "CP1\n",
      "CP2\n",
      "CP3\n",
      "CP4\n",
      "CP5\n",
      "CP6\n",
      "CP7\n"
     ]
    },
    {
     "name": "stderr",
     "output_type": "stream",
     "text": [
      "100%|██████████| 16/16 [00:00<00:00, 27903.89it/s]\n"
     ]
    },
    {
     "name": "stdout",
     "output_type": "stream",
     "text": [
      "CP8\n",
      "compute marginals\n",
      "compute marginals iterating over trees\n"
     ]
    },
    {
     "name": "stderr",
     "output_type": "stream",
     "text": [
      "100%|██████████| 16/16 [00:00<00:00, 78.35it/s]\n"
     ]
    },
    {
     "name": "stdout",
     "output_type": "stream",
     "text": [
      "compute marginals done\n"
     ]
    },
    {
     "name": "stderr",
     "output_type": "stream",
     "text": [
      "1it [00:00, 9686.61it/s]\n"
     ]
    },
    {
     "name": "stdout",
     "output_type": "stream",
     "text": [
      "batch_size 0 {(0,): {'individual importance': 0.023763885288289315, 'total importance': 0.023763885288289315, 'individual std': 0.018530983607394302, 'total std': 0.018530983607394302}}\n",
      "compute marginals\n",
      "compute marginals iterating over trees\n"
     ]
    },
    {
     "name": "stderr",
     "output_type": "stream",
     "text": [
      "100%|██████████| 16/16 [00:00<00:00, 75.43it/s]\n"
     ]
    },
    {
     "name": "stdout",
     "output_type": "stream",
     "text": [
      "compute marginals done\n"
     ]
    },
    {
     "name": "stderr",
     "output_type": "stream",
     "text": [
      "1it [00:00, 8630.26it/s]\n"
     ]
    },
    {
     "name": "stdout",
     "output_type": "stream",
     "text": [
      "learning_rate 1 {(1,): {'individual importance': 0.00883689005518323, 'total importance': 0.00883689005518323, 'individual std': 0.003789758536862283, 'total std': 0.003789758536862283}}\n",
      "compute marginals\n",
      "compute marginals iterating over trees\n"
     ]
    },
    {
     "name": "stderr",
     "output_type": "stream",
     "text": [
      "100%|██████████| 16/16 [00:00<00:00, 75.72it/s]\n"
     ]
    },
    {
     "name": "stdout",
     "output_type": "stream",
     "text": [
      "compute marginals done\n"
     ]
    },
    {
     "name": "stderr",
     "output_type": "stream",
     "text": [
      "1it [00:00, 8338.58it/s]\n"
     ]
    },
    {
     "name": "stdout",
     "output_type": "stream",
     "text": [
      "max_dropout 2 {(2,): {'individual importance': 0.034401330653767895, 'total importance': 0.034401330653767895, 'individual std': 0.029266345522047092, 'total std': 0.029266345522047092}}\n",
      "compute marginals\n",
      "compute marginals iterating over trees\n"
     ]
    },
    {
     "name": "stderr",
     "output_type": "stream",
     "text": [
      "100%|██████████| 16/16 [00:00<00:00, 64.64it/s]\n"
     ]
    },
    {
     "name": "stdout",
     "output_type": "stream",
     "text": [
      "compute marginals done\n"
     ]
    },
    {
     "name": "stderr",
     "output_type": "stream",
     "text": [
      "1it [00:00, 8756.38it/s]\n"
     ]
    },
    {
     "name": "stdout",
     "output_type": "stream",
     "text": [
      "max_units 3 {(3,): {'individual importance': 0.0032145842915139384, 'total importance': 0.0032145842915139384, 'individual std': 0.002594818640042629, 'total std': 0.002594818640042629}}\n",
      "compute marginals\n",
      "compute marginals iterating over trees\n"
     ]
    },
    {
     "name": "stderr",
     "output_type": "stream",
     "text": [
      "100%|██████████| 16/16 [00:00<00:00, 64.23it/s]\n"
     ]
    },
    {
     "name": "stdout",
     "output_type": "stream",
     "text": [
      "compute marginals done\n"
     ]
    },
    {
     "name": "stderr",
     "output_type": "stream",
     "text": [
      "1it [00:00, 8701.88it/s]\n"
     ]
    },
    {
     "name": "stdout",
     "output_type": "stream",
     "text": [
      "momentum 4 {(4,): {'individual importance': 0.006127764800048621, 'total importance': 0.006127764800048621, 'individual std': 0.004073693083922142, 'total std': 0.004073693083922142}}\n",
      "compute marginals\n",
      "compute marginals iterating over trees\n"
     ]
    },
    {
     "name": "stderr",
     "output_type": "stream",
     "text": [
      "100%|██████████| 16/16 [00:00<00:00, 872.88it/s]\n"
     ]
    },
    {
     "name": "stdout",
     "output_type": "stream",
     "text": [
      "compute marginals done\n"
     ]
    },
    {
     "name": "stderr",
     "output_type": "stream",
     "text": [
      "1it [00:00, 7810.62it/s]\n"
     ]
    },
    {
     "name": "stdout",
     "output_type": "stream",
     "text": [
      "num_layers 5 {(5,): {'individual importance': 0.30132862247963355, 'total importance': 0.30132862247963355, 'individual std': 0.11165065095238527, 'total std': 0.11165065095238527}}\n",
      "compute marginals\n",
      "compute marginals iterating over trees\n"
     ]
    },
    {
     "name": "stderr",
     "output_type": "stream",
     "text": [
      "100%|██████████| 16/16 [00:00<00:00, 81.53it/s]\n"
     ]
    },
    {
     "name": "stdout",
     "output_type": "stream",
     "text": [
      "compute marginals done\n"
     ]
    },
    {
     "name": "stderr",
     "output_type": "stream",
     "text": [
      "1it [00:00, 8004.40it/s]\n"
     ]
    },
    {
     "name": "stdout",
     "output_type": "stream",
     "text": [
      "weight_decay 6 {(6,): {'individual importance': 0.11658934028065471, 'total importance': 0.11658934028065471, 'individual std': 0.046939429228179494, 'total std': 0.046939429228179494}}\n",
      "{'batch_size': 0.023763885288289315, 'learning_rate': 0.00883689005518323, 'max_dropout': 0.034401330653767895, 'max_units': 0.0032145842915139384, 'momentum': 0.006127764800048621, 'num_layers': 0.30132862247963355, 'weight_decay': 0.11658934028065471}\n",
      "Please make sure to also cite:\n",
      "Zimmer, L., Lindauer, M., & Hutter, F. (2021). Auto-Pytorch: Multi-Fidelity Metalearning for Efficient and Robust AutoDL. IEEE Transactions on Pattern Analysis and Machine Intelligence, 43(9), 3079-3090.\n",
      "Zimmer, L. (2020). data_2k_lw.zip. figshare. Dataset. https://doi.org/10.6084/m9.figshare.11662422.v1, Apache License, Version 2.0.\n"
     ]
    },
    {
     "name": "stderr",
     "output_type": "stream",
     "text": [
      "WARNING:hypershap.baseline.original_fanova.fANOVA:Note that fANOVA expects data to be ordered like the return of ConfigSpace's 'get_hyperparameters'-method. We recommend to use labeled pandas dataframes to avoid any problems.\n"
     ]
    },
    {
     "name": "stdout",
     "output_type": "stream",
     "text": [
      "CP1\n",
      "CP2\n",
      "CP3\n",
      "CP4\n",
      "CP5\n",
      "CP6\n",
      "CP7\n"
     ]
    },
    {
     "name": "stderr",
     "output_type": "stream",
     "text": [
      "100%|██████████| 16/16 [00:00<00:00, 27776.85it/s]\n"
     ]
    },
    {
     "name": "stdout",
     "output_type": "stream",
     "text": [
      "CP8\n",
      "compute marginals\n",
      "compute marginals iterating over trees\n"
     ]
    },
    {
     "name": "stderr",
     "output_type": "stream",
     "text": [
      "100%|██████████| 16/16 [00:00<00:00, 157.61it/s]\n"
     ]
    },
    {
     "name": "stdout",
     "output_type": "stream",
     "text": [
      "compute marginals done\n"
     ]
    },
    {
     "name": "stderr",
     "output_type": "stream",
     "text": [
      "1it [00:00, 9532.51it/s]\n"
     ]
    },
    {
     "name": "stdout",
     "output_type": "stream",
     "text": [
      "batch_size 0 {(0,): {'individual importance': 0.056201374682787825, 'total importance': 0.056201374682787825, 'individual std': 0.04385940216713937, 'total std': 0.04385940216713937}}\n",
      "compute marginals\n",
      "compute marginals iterating over trees\n"
     ]
    },
    {
     "name": "stderr",
     "output_type": "stream",
     "text": [
      "100%|██████████| 16/16 [00:00<00:00, 93.01it/s]\n"
     ]
    },
    {
     "name": "stdout",
     "output_type": "stream",
     "text": [
      "compute marginals done\n"
     ]
    },
    {
     "name": "stderr",
     "output_type": "stream",
     "text": [
      "1it [00:00, 9446.63it/s]\n"
     ]
    },
    {
     "name": "stdout",
     "output_type": "stream",
     "text": [
      "learning_rate 1 {(1,): {'individual importance': 0.04130326649004193, 'total importance': 0.04130326649004193, 'individual std': 0.022891577215707375, 'total std': 0.022891577215707375}}\n",
      "compute marginals\n",
      "compute marginals iterating over trees\n"
     ]
    },
    {
     "name": "stderr",
     "output_type": "stream",
     "text": [
      "100%|██████████| 16/16 [00:00<00:00, 63.93it/s]\n"
     ]
    },
    {
     "name": "stdout",
     "output_type": "stream",
     "text": [
      "compute marginals done\n"
     ]
    },
    {
     "name": "stderr",
     "output_type": "stream",
     "text": [
      "1it [00:00, 9000.65it/s]\n"
     ]
    },
    {
     "name": "stdout",
     "output_type": "stream",
     "text": [
      "max_dropout 2 {(2,): {'individual importance': 0.011004837020462673, 'total importance': 0.011004837020462673, 'individual std': 0.010636177508437305, 'total std': 0.010636177508437305}}\n",
      "compute marginals\n",
      "compute marginals iterating over trees\n"
     ]
    },
    {
     "name": "stderr",
     "output_type": "stream",
     "text": [
      "100%|██████████| 16/16 [00:00<00:00, 60.87it/s]\n"
     ]
    },
    {
     "name": "stdout",
     "output_type": "stream",
     "text": [
      "compute marginals done\n"
     ]
    },
    {
     "name": "stderr",
     "output_type": "stream",
     "text": [
      "1it [00:00, 9078.58it/s]\n"
     ]
    },
    {
     "name": "stdout",
     "output_type": "stream",
     "text": [
      "max_units 3 {(3,): {'individual importance': 0.011090639733057643, 'total importance': 0.011090639733057643, 'individual std': 0.010063911655744029, 'total std': 0.010063911655744029}}\n",
      "compute marginals\n",
      "compute marginals iterating over trees\n"
     ]
    },
    {
     "name": "stderr",
     "output_type": "stream",
     "text": [
      "100%|██████████| 16/16 [00:00<00:00, 70.60it/s]\n"
     ]
    },
    {
     "name": "stdout",
     "output_type": "stream",
     "text": [
      "compute marginals done\n"
     ]
    },
    {
     "name": "stderr",
     "output_type": "stream",
     "text": [
      "1it [00:00, 9341.43it/s]\n"
     ]
    },
    {
     "name": "stdout",
     "output_type": "stream",
     "text": [
      "momentum 4 {(4,): {'individual importance': 0.03707284631985358, 'total importance': 0.03707284631985358, 'individual std': 0.025460644213198567, 'total std': 0.025460644213198567}}\n",
      "compute marginals\n",
      "compute marginals iterating over trees\n"
     ]
    },
    {
     "name": "stderr",
     "output_type": "stream",
     "text": [
      "100%|██████████| 16/16 [00:00<00:00, 354.61it/s]\n"
     ]
    },
    {
     "name": "stdout",
     "output_type": "stream",
     "text": [
      "compute marginals done\n"
     ]
    },
    {
     "name": "stderr",
     "output_type": "stream",
     "text": [
      "1it [00:00, 9198.04it/s]\n"
     ]
    },
    {
     "name": "stdout",
     "output_type": "stream",
     "text": [
      "num_layers 5 {(5,): {'individual importance': 0.07330982848255377, 'total importance': 0.07330982848255377, 'individual std': 0.059279653292183675, 'total std': 0.059279653292183675}}\n",
      "compute marginals\n",
      "compute marginals iterating over trees\n"
     ]
    },
    {
     "name": "stderr",
     "output_type": "stream",
     "text": [
      "100%|██████████| 16/16 [00:00<00:00, 60.33it/s]\n"
     ]
    },
    {
     "name": "stdout",
     "output_type": "stream",
     "text": [
      "compute marginals done\n"
     ]
    },
    {
     "name": "stderr",
     "output_type": "stream",
     "text": [
      "1it [00:00, 8473.34it/s]\n"
     ]
    },
    {
     "name": "stdout",
     "output_type": "stream",
     "text": [
      "weight_decay 6 {(6,): {'individual importance': 0.05260273118584957, 'total importance': 0.05260273118584957, 'individual std': 0.043867347343167204, 'total std': 0.043867347343167204}}\n",
      "{'batch_size': 0.056201374682787825, 'learning_rate': 0.04130326649004193, 'max_dropout': 0.011004837020462673, 'max_units': 0.011090639733057643, 'momentum': 0.03707284631985358, 'num_layers': 0.07330982848255377, 'weight_decay': 0.05260273118584957}\n",
      "Please make sure to also cite:\n",
      "Zimmer, L., Lindauer, M., & Hutter, F. (2021). Auto-Pytorch: Multi-Fidelity Metalearning for Efficient and Robust AutoDL. IEEE Transactions on Pattern Analysis and Machine Intelligence, 43(9), 3079-3090.\n",
      "Zimmer, L. (2020). data_2k_lw.zip. figshare. Dataset. https://doi.org/10.6084/m9.figshare.11662422.v1, Apache License, Version 2.0.\n"
     ]
    },
    {
     "name": "stderr",
     "output_type": "stream",
     "text": [
      "WARNING:hypershap.baseline.original_fanova.fANOVA:Note that fANOVA expects data to be ordered like the return of ConfigSpace's 'get_hyperparameters'-method. We recommend to use labeled pandas dataframes to avoid any problems.\n"
     ]
    },
    {
     "name": "stdout",
     "output_type": "stream",
     "text": [
      "CP1\n",
      "CP2\n",
      "CP3\n",
      "CP4\n",
      "CP5\n",
      "CP6\n",
      "CP7\n"
     ]
    },
    {
     "name": "stderr",
     "output_type": "stream",
     "text": [
      "100%|██████████| 16/16 [00:00<00:00, 28315.98it/s]\n"
     ]
    },
    {
     "name": "stdout",
     "output_type": "stream",
     "text": [
      "CP8\n",
      "compute marginals\n",
      "compute marginals iterating over trees\n"
     ]
    },
    {
     "name": "stderr",
     "output_type": "stream",
     "text": [
      "100%|██████████| 16/16 [00:00<00:00, 88.63it/s]\n"
     ]
    },
    {
     "name": "stdout",
     "output_type": "stream",
     "text": [
      "compute marginals done\n"
     ]
    },
    {
     "name": "stderr",
     "output_type": "stream",
     "text": [
      "1it [00:00, 8473.34it/s]\n"
     ]
    },
    {
     "name": "stdout",
     "output_type": "stream",
     "text": [
      "batch_size 0 {(0,): {'individual importance': 0.00924584964980296, 'total importance': 0.00924584964980296, 'individual std': 0.015503182104287314, 'total std': 0.015503182104287314}}\n",
      "compute marginals\n",
      "compute marginals iterating over trees\n"
     ]
    },
    {
     "name": "stderr",
     "output_type": "stream",
     "text": [
      "100%|██████████| 16/16 [00:00<00:00, 79.24it/s]\n"
     ]
    },
    {
     "name": "stdout",
     "output_type": "stream",
     "text": [
      "compute marginals done\n"
     ]
    },
    {
     "name": "stderr",
     "output_type": "stream",
     "text": [
      "1it [00:00, 9078.58it/s]\n"
     ]
    },
    {
     "name": "stdout",
     "output_type": "stream",
     "text": [
      "learning_rate 1 {(1,): {'individual importance': 0.003443479584058969, 'total importance': 0.003443479584058969, 'individual std': 0.002127844836496403, 'total std': 0.002127844836496403}}\n",
      "compute marginals\n",
      "compute marginals iterating over trees\n"
     ]
    },
    {
     "name": "stderr",
     "output_type": "stream",
     "text": [
      "100%|██████████| 16/16 [00:00<00:00, 60.66it/s]\n"
     ]
    },
    {
     "name": "stdout",
     "output_type": "stream",
     "text": [
      "compute marginals done\n"
     ]
    },
    {
     "name": "stderr",
     "output_type": "stream",
     "text": [
      "1it [00:00, 10230.01it/s]\n"
     ]
    },
    {
     "name": "stdout",
     "output_type": "stream",
     "text": [
      "max_dropout 2 {(2,): {'individual importance': 0.00373330708700462, 'total importance': 0.00373330708700462, 'individual std': 0.00641593784328894, 'total std': 0.00641593784328894}}\n",
      "compute marginals\n",
      "compute marginals iterating over trees\n"
     ]
    },
    {
     "name": "stderr",
     "output_type": "stream",
     "text": [
      "100%|██████████| 16/16 [00:00<00:00, 74.36it/s]\n"
     ]
    },
    {
     "name": "stdout",
     "output_type": "stream",
     "text": [
      "compute marginals done\n"
     ]
    },
    {
     "name": "stderr",
     "output_type": "stream",
     "text": [
      "1it [00:00, 8128.50it/s]\n"
     ]
    },
    {
     "name": "stdout",
     "output_type": "stream",
     "text": [
      "max_units 3 {(3,): {'individual importance': 0.010080171687009809, 'total importance': 0.010080171687009809, 'individual std': 0.017335541299823645, 'total std': 0.017335541299823645}}\n",
      "compute marginals\n",
      "compute marginals iterating over trees\n"
     ]
    },
    {
     "name": "stderr",
     "output_type": "stream",
     "text": [
      "100%|██████████| 16/16 [00:00<00:00, 59.27it/s]\n"
     ]
    },
    {
     "name": "stdout",
     "output_type": "stream",
     "text": [
      "compute marginals done\n"
     ]
    },
    {
     "name": "stderr",
     "output_type": "stream",
     "text": [
      "1it [00:00, 9686.61it/s]\n"
     ]
    },
    {
     "name": "stdout",
     "output_type": "stream",
     "text": [
      "momentum 4 {(4,): {'individual importance': 0.004719137659911181, 'total importance': 0.004719137659911181, 'individual std': 0.006616852933742193, 'total std': 0.006616852933742193}}\n",
      "compute marginals\n",
      "compute marginals iterating over trees\n"
     ]
    },
    {
     "name": "stderr",
     "output_type": "stream",
     "text": [
      "100%|██████████| 16/16 [00:00<00:00, 1042.01it/s]\n"
     ]
    },
    {
     "name": "stdout",
     "output_type": "stream",
     "text": [
      "compute marginals done\n"
     ]
    },
    {
     "name": "stderr",
     "output_type": "stream",
     "text": [
      "1it [00:00, 9731.56it/s]\n"
     ]
    },
    {
     "name": "stdout",
     "output_type": "stream",
     "text": [
      "num_layers 5 {(5,): {'individual importance': 0.3052618169882147, 'total importance': 0.3052618169882147, 'individual std': 0.09737207116646557, 'total std': 0.09737207116646557}}\n",
      "compute marginals\n",
      "compute marginals iterating over trees\n"
     ]
    },
    {
     "name": "stderr",
     "output_type": "stream",
     "text": [
      "100%|██████████| 16/16 [00:00<00:00, 80.87it/s]\n"
     ]
    },
    {
     "name": "stdout",
     "output_type": "stream",
     "text": [
      "compute marginals done\n"
     ]
    },
    {
     "name": "stderr",
     "output_type": "stream",
     "text": [
      "1it [00:00, 8830.11it/s]\n"
     ]
    },
    {
     "name": "stdout",
     "output_type": "stream",
     "text": [
      "weight_decay 6 {(6,): {'individual importance': 0.3253931307785711, 'total importance': 0.3253931307785711, 'individual std': 0.06818806996258583, 'total std': 0.06818806996258583}}\n",
      "{'batch_size': 0.00924584964980296, 'learning_rate': 0.003443479584058969, 'max_dropout': 0.00373330708700462, 'max_units': 0.010080171687009809, 'momentum': 0.004719137659911181, 'num_layers': 0.3052618169882147, 'weight_decay': 0.3253931307785711}\n",
      "Please make sure to also cite:\n",
      "Zimmer, L., Lindauer, M., & Hutter, F. (2021). Auto-Pytorch: Multi-Fidelity Metalearning for Efficient and Robust AutoDL. IEEE Transactions on Pattern Analysis and Machine Intelligence, 43(9), 3079-3090.\n",
      "Zimmer, L. (2020). data_2k_lw.zip. figshare. Dataset. https://doi.org/10.6084/m9.figshare.11662422.v1, Apache License, Version 2.0.\n"
     ]
    },
    {
     "name": "stderr",
     "output_type": "stream",
     "text": [
      "WARNING:hypershap.baseline.original_fanova.fANOVA:Note that fANOVA expects data to be ordered like the return of ConfigSpace's 'get_hyperparameters'-method. We recommend to use labeled pandas dataframes to avoid any problems.\n"
     ]
    },
    {
     "name": "stdout",
     "output_type": "stream",
     "text": [
      "CP1\n",
      "CP2\n",
      "CP3\n",
      "CP4\n",
      "CP5\n",
      "CP6\n",
      "CP7\n"
     ]
    },
    {
     "name": "stderr",
     "output_type": "stream",
     "text": [
      "100%|██████████| 16/16 [00:00<00:00, 28826.83it/s]\n"
     ]
    },
    {
     "name": "stdout",
     "output_type": "stream",
     "text": [
      "CP8\n",
      "compute marginals\n",
      "compute marginals iterating over trees\n"
     ]
    },
    {
     "name": "stderr",
     "output_type": "stream",
     "text": [
      "100%|██████████| 16/16 [00:00<00:00, 113.12it/s]\n"
     ]
    },
    {
     "name": "stdout",
     "output_type": "stream",
     "text": [
      "compute marginals done\n"
     ]
    },
    {
     "name": "stderr",
     "output_type": "stream",
     "text": [
      "1it [00:00, 8848.74it/s]\n"
     ]
    },
    {
     "name": "stdout",
     "output_type": "stream",
     "text": [
      "batch_size 0 {(0,): {'individual importance': 0.039068810638049054, 'total importance': 0.039068810638049054, 'individual std': 0.024046937206251576, 'total std': 0.024046937206251576}}\n",
      "compute marginals\n",
      "compute marginals iterating over trees\n"
     ]
    },
    {
     "name": "stderr",
     "output_type": "stream",
     "text": [
      "100%|██████████| 16/16 [00:00<00:00, 74.38it/s]\n"
     ]
    },
    {
     "name": "stdout",
     "output_type": "stream",
     "text": [
      "compute marginals done\n"
     ]
    },
    {
     "name": "stderr",
     "output_type": "stream",
     "text": [
      "1it [00:00, 9425.40it/s]\n"
     ]
    },
    {
     "name": "stdout",
     "output_type": "stream",
     "text": [
      "learning_rate 1 {(1,): {'individual importance': 0.015934484589763084, 'total importance': 0.015934484589763084, 'individual std': 0.019035986950967174, 'total std': 0.019035986950967174}}\n",
      "compute marginals\n",
      "compute marginals iterating over trees\n"
     ]
    },
    {
     "name": "stderr",
     "output_type": "stream",
     "text": [
      "100%|██████████| 16/16 [00:00<00:00, 71.71it/s]\n"
     ]
    },
    {
     "name": "stdout",
     "output_type": "stream",
     "text": [
      "compute marginals done\n"
     ]
    },
    {
     "name": "stderr",
     "output_type": "stream",
     "text": [
      "1it [00:00, 8208.03it/s]\n"
     ]
    },
    {
     "name": "stdout",
     "output_type": "stream",
     "text": [
      "max_dropout 2 {(2,): {'individual importance': 0.05025837215608764, 'total importance': 0.05025837215608764, 'individual std': 0.023167535111270378, 'total std': 0.023167535111270378}}\n",
      "compute marginals\n",
      "compute marginals iterating over trees\n"
     ]
    },
    {
     "name": "stderr",
     "output_type": "stream",
     "text": [
      "100%|██████████| 16/16 [00:00<00:00, 74.24it/s]\n"
     ]
    },
    {
     "name": "stdout",
     "output_type": "stream",
     "text": [
      "compute marginals done\n"
     ]
    },
    {
     "name": "stderr",
     "output_type": "stream",
     "text": [
      "1it [00:00, 8701.88it/s]\n"
     ]
    },
    {
     "name": "stdout",
     "output_type": "stream",
     "text": [
      "max_units 3 {(3,): {'individual importance': 0.024774189092456052, 'total importance': 0.024774189092456052, 'individual std': 0.017782825627407583, 'total std': 0.017782825627407583}}\n",
      "compute marginals\n",
      "compute marginals iterating over trees\n"
     ]
    },
    {
     "name": "stderr",
     "output_type": "stream",
     "text": [
      "100%|██████████| 16/16 [00:00<00:00, 64.15it/s]\n"
     ]
    },
    {
     "name": "stdout",
     "output_type": "stream",
     "text": [
      "compute marginals done\n"
     ]
    },
    {
     "name": "stderr",
     "output_type": "stream",
     "text": [
      "1it [00:00, 9532.51it/s]\n"
     ]
    },
    {
     "name": "stdout",
     "output_type": "stream",
     "text": [
      "momentum 4 {(4,): {'individual importance': 0.011920540183070627, 'total importance': 0.011920540183070627, 'individual std': 0.010016521769517317, 'total std': 0.010016521769517317}}\n",
      "compute marginals\n",
      "compute marginals iterating over trees\n"
     ]
    },
    {
     "name": "stderr",
     "output_type": "stream",
     "text": [
      "100%|██████████| 16/16 [00:00<00:00, 478.09it/s]\n"
     ]
    },
    {
     "name": "stdout",
     "output_type": "stream",
     "text": [
      "compute marginals done\n"
     ]
    },
    {
     "name": "stderr",
     "output_type": "stream",
     "text": [
      "1it [00:00, 10407.70it/s]\n"
     ]
    },
    {
     "name": "stdout",
     "output_type": "stream",
     "text": [
      "num_layers 5 {(5,): {'individual importance': 0.09780237149101714, 'total importance': 0.09780237149101714, 'individual std': 0.04247101535015861, 'total std': 0.04247101535015861}}\n",
      "compute marginals\n",
      "compute marginals iterating over trees\n"
     ]
    },
    {
     "name": "stderr",
     "output_type": "stream",
     "text": [
      "100%|██████████| 16/16 [00:00<00:00, 79.61it/s]\n"
     ]
    },
    {
     "name": "stdout",
     "output_type": "stream",
     "text": [
      "compute marginals done\n"
     ]
    },
    {
     "name": "stderr",
     "output_type": "stream",
     "text": [
      "1it [00:00, 11008.67it/s]\n"
     ]
    },
    {
     "name": "stdout",
     "output_type": "stream",
     "text": [
      "weight_decay 6 {(6,): {'individual importance': 0.12732745430670073, 'total importance': 0.12732745430670073, 'individual std': 0.0388485163980914, 'total std': 0.0388485163980914}}\n",
      "{'batch_size': 0.039068810638049054, 'learning_rate': 0.015934484589763084, 'max_dropout': 0.05025837215608764, 'max_units': 0.024774189092456052, 'momentum': 0.011920540183070627, 'num_layers': 0.09780237149101714, 'weight_decay': 0.12732745430670073}\n",
      "Please make sure to also cite:\n",
      "Zimmer, L., Lindauer, M., & Hutter, F. (2021). Auto-Pytorch: Multi-Fidelity Metalearning for Efficient and Robust AutoDL. IEEE Transactions on Pattern Analysis and Machine Intelligence, 43(9), 3079-3090.\n",
      "Zimmer, L. (2020). data_2k_lw.zip. figshare. Dataset. https://doi.org/10.6084/m9.figshare.11662422.v1, Apache License, Version 2.0.\n"
     ]
    },
    {
     "name": "stderr",
     "output_type": "stream",
     "text": [
      "WARNING:hypershap.baseline.original_fanova.fANOVA:Note that fANOVA expects data to be ordered like the return of ConfigSpace's 'get_hyperparameters'-method. We recommend to use labeled pandas dataframes to avoid any problems.\n"
     ]
    },
    {
     "name": "stdout",
     "output_type": "stream",
     "text": [
      "CP1\n",
      "CP2\n",
      "CP3\n",
      "CP4\n",
      "CP5\n",
      "CP6\n",
      "CP7\n"
     ]
    },
    {
     "name": "stderr",
     "output_type": "stream",
     "text": [
      "100%|██████████| 16/16 [00:00<00:00, 28114.31it/s]\n"
     ]
    },
    {
     "name": "stdout",
     "output_type": "stream",
     "text": [
      "CP8\n",
      "compute marginals\n",
      "compute marginals iterating over trees\n"
     ]
    },
    {
     "name": "stderr",
     "output_type": "stream",
     "text": [
      "100%|██████████| 16/16 [00:00<00:00, 81.39it/s]\n"
     ]
    },
    {
     "name": "stdout",
     "output_type": "stream",
     "text": [
      "compute marginals done\n"
     ]
    },
    {
     "name": "stderr",
     "output_type": "stream",
     "text": [
      "1it [00:00, 7516.67it/s]\n"
     ]
    },
    {
     "name": "stdout",
     "output_type": "stream",
     "text": [
      "batch_size 0 {(0,): {'individual importance': 0.015194499442265497, 'total importance': 0.015194499442265497, 'individual std': 0.007970470069569857, 'total std': 0.007970470069569857}}\n",
      "compute marginals\n",
      "compute marginals iterating over trees\n"
     ]
    },
    {
     "name": "stderr",
     "output_type": "stream",
     "text": [
      "100%|██████████| 16/16 [00:00<00:00, 86.23it/s]\n"
     ]
    },
    {
     "name": "stdout",
     "output_type": "stream",
     "text": [
      "compute marginals done\n"
     ]
    },
    {
     "name": "stderr",
     "output_type": "stream",
     "text": [
      "1it [00:00, 9157.87it/s]\n"
     ]
    },
    {
     "name": "stdout",
     "output_type": "stream",
     "text": [
      "learning_rate 1 {(1,): {'individual importance': 0.010766073119523791, 'total importance': 0.010766073119523791, 'individual std': 0.004968805403140045, 'total std': 0.004968805403140045}}\n",
      "compute marginals\n",
      "compute marginals iterating over trees\n"
     ]
    },
    {
     "name": "stderr",
     "output_type": "stream",
     "text": [
      "100%|██████████| 16/16 [00:00<00:00, 62.57it/s]\n"
     ]
    },
    {
     "name": "stdout",
     "output_type": "stream",
     "text": [
      "compute marginals done\n"
     ]
    },
    {
     "name": "stderr",
     "output_type": "stream",
     "text": [
      "1it [00:00, 8774.69it/s]\n"
     ]
    },
    {
     "name": "stdout",
     "output_type": "stream",
     "text": [
      "max_dropout 2 {(2,): {'individual importance': 0.01037416801053751, 'total importance': 0.01037416801053751, 'individual std': 0.009640674271974667, 'total std': 0.009640674271974667}}\n",
      "compute marginals\n",
      "compute marginals iterating over trees\n"
     ]
    },
    {
     "name": "stderr",
     "output_type": "stream",
     "text": [
      "100%|██████████| 16/16 [00:00<00:00, 66.94it/s]\n"
     ]
    },
    {
     "name": "stdout",
     "output_type": "stream",
     "text": [
      "compute marginals done\n"
     ]
    },
    {
     "name": "stderr",
     "output_type": "stream",
     "text": [
      "1it [00:00, 7397.36it/s]\n"
     ]
    },
    {
     "name": "stdout",
     "output_type": "stream",
     "text": [
      "max_units 3 {(3,): {'individual importance': 0.007293334765269898, 'total importance': 0.007293334765269898, 'individual std': 0.003931665900621249, 'total std': 0.003931665900621249}}\n",
      "compute marginals\n",
      "compute marginals iterating over trees\n"
     ]
    },
    {
     "name": "stderr",
     "output_type": "stream",
     "text": [
      "100%|██████████| 16/16 [00:00<00:00, 67.14it/s]\n"
     ]
    },
    {
     "name": "stdout",
     "output_type": "stream",
     "text": [
      "compute marginals done\n"
     ]
    },
    {
     "name": "stderr",
     "output_type": "stream",
     "text": [
      "1it [00:00, 8388.61it/s]\n"
     ]
    },
    {
     "name": "stdout",
     "output_type": "stream",
     "text": [
      "momentum 4 {(4,): {'individual importance': 0.011216715755416797, 'total importance': 0.011216715755416797, 'individual std': 0.010804966485978302, 'total std': 0.010804966485978302}}\n",
      "compute marginals\n",
      "compute marginals iterating over trees\n"
     ]
    },
    {
     "name": "stderr",
     "output_type": "stream",
     "text": [
      "100%|██████████| 16/16 [00:00<00:00, 547.40it/s]\n"
     ]
    },
    {
     "name": "stdout",
     "output_type": "stream",
     "text": [
      "compute marginals done\n"
     ]
    },
    {
     "name": "stderr",
     "output_type": "stream",
     "text": [
      "1it [00:00, 9118.05it/s]\n"
     ]
    },
    {
     "name": "stdout",
     "output_type": "stream",
     "text": [
      "num_layers 5 {(5,): {'individual importance': 0.25146804433260794, 'total importance': 0.25146804433260794, 'individual std': 0.07314712350396409, 'total std': 0.07314712350396409}}\n",
      "compute marginals\n",
      "compute marginals iterating over trees\n"
     ]
    },
    {
     "name": "stderr",
     "output_type": "stream",
     "text": [
      "100%|██████████| 16/16 [00:00<00:00, 92.99it/s]\n"
     ]
    },
    {
     "name": "stdout",
     "output_type": "stream",
     "text": [
      "compute marginals done\n"
     ]
    },
    {
     "name": "stderr",
     "output_type": "stream",
     "text": [
      "1it [00:00, 8473.34it/s]\n"
     ]
    },
    {
     "name": "stdout",
     "output_type": "stream",
     "text": [
      "weight_decay 6 {(6,): {'individual importance': 0.22573537883592143, 'total importance': 0.22573537883592143, 'individual std': 0.06749919670774822, 'total std': 0.06749919670774822}}\n",
      "{'batch_size': 0.015194499442265497, 'learning_rate': 0.010766073119523791, 'max_dropout': 0.01037416801053751, 'max_units': 0.007293334765269898, 'momentum': 0.011216715755416797, 'num_layers': 0.25146804433260794, 'weight_decay': 0.22573537883592143}\n",
      "Please make sure to also cite:\n",
      "Zimmer, L., Lindauer, M., & Hutter, F. (2021). Auto-Pytorch: Multi-Fidelity Metalearning for Efficient and Robust AutoDL. IEEE Transactions on Pattern Analysis and Machine Intelligence, 43(9), 3079-3090.\n",
      "Zimmer, L. (2020). data_2k_lw.zip. figshare. Dataset. https://doi.org/10.6084/m9.figshare.11662422.v1, Apache License, Version 2.0.\n"
     ]
    },
    {
     "name": "stderr",
     "output_type": "stream",
     "text": [
      "WARNING:hypershap.baseline.original_fanova.fANOVA:Note that fANOVA expects data to be ordered like the return of ConfigSpace's 'get_hyperparameters'-method. We recommend to use labeled pandas dataframes to avoid any problems.\n"
     ]
    },
    {
     "name": "stdout",
     "output_type": "stream",
     "text": [
      "CP1\n",
      "CP2\n",
      "CP3\n",
      "CP4\n",
      "CP5\n",
      "CP6\n",
      "CP7\n"
     ]
    },
    {
     "name": "stderr",
     "output_type": "stream",
     "text": [
      "100%|██████████| 16/16 [00:00<00:00, 29038.89it/s]\n"
     ]
    },
    {
     "name": "stdout",
     "output_type": "stream",
     "text": [
      "CP8\n",
      "compute marginals\n",
      "compute marginals iterating over trees\n"
     ]
    },
    {
     "name": "stderr",
     "output_type": "stream",
     "text": [
      "100%|██████████| 16/16 [00:00<00:00, 98.17it/s]\n"
     ]
    },
    {
     "name": "stdout",
     "output_type": "stream",
     "text": [
      "compute marginals done\n"
     ]
    },
    {
     "name": "stderr",
     "output_type": "stream",
     "text": [
      "1it [00:00, 9915.61it/s]\n"
     ]
    },
    {
     "name": "stdout",
     "output_type": "stream",
     "text": [
      "batch_size 0 {(0,): {'individual importance': 0.02590814966749182, 'total importance': 0.02590814966749182, 'individual std': 0.02127193943469903, 'total std': 0.02127193943469903}}\n",
      "compute marginals\n",
      "compute marginals iterating over trees\n"
     ]
    },
    {
     "name": "stderr",
     "output_type": "stream",
     "text": [
      "100%|██████████| 16/16 [00:00<00:00, 85.35it/s]\n"
     ]
    },
    {
     "name": "stdout",
     "output_type": "stream",
     "text": [
      "compute marginals done\n"
     ]
    },
    {
     "name": "stderr",
     "output_type": "stream",
     "text": [
      "1it [00:00, 10645.44it/s]\n"
     ]
    },
    {
     "name": "stdout",
     "output_type": "stream",
     "text": [
      "learning_rate 1 {(1,): {'individual importance': 0.013717639146266655, 'total importance': 0.013717639146266655, 'individual std': 0.009291926317637563, 'total std': 0.009291926317637563}}\n",
      "compute marginals\n",
      "compute marginals iterating over trees\n"
     ]
    },
    {
     "name": "stderr",
     "output_type": "stream",
     "text": [
      "100%|██████████| 16/16 [00:00<00:00, 66.37it/s]\n"
     ]
    },
    {
     "name": "stdout",
     "output_type": "stream",
     "text": [
      "compute marginals done\n"
     ]
    },
    {
     "name": "stderr",
     "output_type": "stream",
     "text": [
      "1it [00:00, 7358.43it/s]\n"
     ]
    },
    {
     "name": "stdout",
     "output_type": "stream",
     "text": [
      "max_dropout 2 {(2,): {'individual importance': 0.021876157568780405, 'total importance': 0.021876157568780405, 'individual std': 0.0293990075354061, 'total std': 0.0293990075354061}}\n",
      "compute marginals\n",
      "compute marginals iterating over trees\n"
     ]
    },
    {
     "name": "stderr",
     "output_type": "stream",
     "text": [
      "100%|██████████| 16/16 [00:00<00:00, 68.14it/s]\n"
     ]
    },
    {
     "name": "stdout",
     "output_type": "stream",
     "text": [
      "compute marginals done\n"
     ]
    },
    {
     "name": "stderr",
     "output_type": "stream",
     "text": [
      "1it [00:00, 10407.70it/s]\n"
     ]
    },
    {
     "name": "stdout",
     "output_type": "stream",
     "text": [
      "max_units 3 {(3,): {'individual importance': 0.01324553868534995, 'total importance': 0.01324553868534995, 'individual std': 0.014310478930027298, 'total std': 0.014310478930027298}}\n",
      "compute marginals\n",
      "compute marginals iterating over trees\n"
     ]
    },
    {
     "name": "stderr",
     "output_type": "stream",
     "text": [
      "100%|██████████| 16/16 [00:00<00:00, 64.20it/s]\n"
     ]
    },
    {
     "name": "stdout",
     "output_type": "stream",
     "text": [
      "compute marginals done\n"
     ]
    },
    {
     "name": "stderr",
     "output_type": "stream",
     "text": [
      "1it [00:00, 8192.00it/s]\n"
     ]
    },
    {
     "name": "stdout",
     "output_type": "stream",
     "text": [
      "momentum 4 {(4,): {'individual importance': 0.020070428909111853, 'total importance': 0.020070428909111853, 'individual std': 0.025147086200283247, 'total std': 0.025147086200283247}}\n",
      "compute marginals\n",
      "compute marginals iterating over trees\n"
     ]
    },
    {
     "name": "stderr",
     "output_type": "stream",
     "text": [
      "100%|██████████| 16/16 [00:00<00:00, 291.51it/s]\n"
     ]
    },
    {
     "name": "stdout",
     "output_type": "stream",
     "text": [
      "compute marginals done\n"
     ]
    },
    {
     "name": "stderr",
     "output_type": "stream",
     "text": [
      "1it [00:00, 6898.53it/s]\n"
     ]
    },
    {
     "name": "stdout",
     "output_type": "stream",
     "text": [
      "num_layers 5 {(5,): {'individual importance': 0.04810278177918846, 'total importance': 0.04810278177918846, 'individual std': 0.05540758164545143, 'total std': 0.05540758164545143}}\n",
      "compute marginals\n",
      "compute marginals iterating over trees\n"
     ]
    },
    {
     "name": "stderr",
     "output_type": "stream",
     "text": [
      "100%|██████████| 16/16 [00:00<00:00, 128.49it/s]\n"
     ]
    },
    {
     "name": "stdout",
     "output_type": "stream",
     "text": [
      "compute marginals done\n"
     ]
    },
    {
     "name": "stderr",
     "output_type": "stream",
     "text": [
      "1it [00:00, 10010.27it/s]\n"
     ]
    },
    {
     "name": "stdout",
     "output_type": "stream",
     "text": [
      "weight_decay 6 {(6,): {'individual importance': 0.22694499268838506, 'total importance': 0.22694499268838506, 'individual std': 0.08683812938112971, 'total std': 0.08683812938112971}}\n",
      "{'batch_size': 0.02590814966749182, 'learning_rate': 0.013717639146266655, 'max_dropout': 0.021876157568780405, 'max_units': 0.01324553868534995, 'momentum': 0.020070428909111853, 'num_layers': 0.04810278177918846, 'weight_decay': 0.22694499268838506}\n",
      "Please make sure to also cite:\n",
      "Zimmer, L., Lindauer, M., & Hutter, F. (2021). Auto-Pytorch: Multi-Fidelity Metalearning for Efficient and Robust AutoDL. IEEE Transactions on Pattern Analysis and Machine Intelligence, 43(9), 3079-3090.\n",
      "Zimmer, L. (2020). data_2k_lw.zip. figshare. Dataset. https://doi.org/10.6084/m9.figshare.11662422.v1, Apache License, Version 2.0.\n"
     ]
    },
    {
     "name": "stderr",
     "output_type": "stream",
     "text": [
      "WARNING:hypershap.baseline.original_fanova.fANOVA:Note that fANOVA expects data to be ordered like the return of ConfigSpace's 'get_hyperparameters'-method. We recommend to use labeled pandas dataframes to avoid any problems.\n"
     ]
    },
    {
     "name": "stdout",
     "output_type": "stream",
     "text": [
      "CP1\n",
      "CP2\n",
      "CP3\n",
      "CP4\n",
      "CP5\n",
      "CP6\n",
      "CP7\n"
     ]
    },
    {
     "name": "stderr",
     "output_type": "stream",
     "text": [
      "100%|██████████| 16/16 [00:00<00:00, 28363.85it/s]\n"
     ]
    },
    {
     "name": "stdout",
     "output_type": "stream",
     "text": [
      "CP8\n",
      "compute marginals\n",
      "compute marginals iterating over trees\n"
     ]
    },
    {
     "name": "stderr",
     "output_type": "stream",
     "text": [
      "100%|██████████| 16/16 [00:00<00:00, 111.49it/s]\n"
     ]
    },
    {
     "name": "stdout",
     "output_type": "stream",
     "text": [
      "compute marginals done\n"
     ]
    },
    {
     "name": "stderr",
     "output_type": "stream",
     "text": [
      "1it [00:00, 10230.01it/s]\n"
     ]
    },
    {
     "name": "stdout",
     "output_type": "stream",
     "text": [
      "batch_size 0 {(0,): {'individual importance': 0.0326715470885031, 'total importance': 0.0326715470885031, 'individual std': 0.03628558685890355, 'total std': 0.03628558685890355}}\n",
      "compute marginals\n",
      "compute marginals iterating over trees\n"
     ]
    },
    {
     "name": "stderr",
     "output_type": "stream",
     "text": [
      "100%|██████████| 16/16 [00:00<00:00, 98.71it/s]\n"
     ]
    },
    {
     "name": "stdout",
     "output_type": "stream",
     "text": [
      "compute marginals done\n"
     ]
    },
    {
     "name": "stderr",
     "output_type": "stream",
     "text": [
      "1it [00:00, 8848.74it/s]\n"
     ]
    },
    {
     "name": "stdout",
     "output_type": "stream",
     "text": [
      "learning_rate 1 {(1,): {'individual importance': 0.08928476801455522, 'total importance': 0.08928476801455522, 'individual std': 0.125139233951577, 'total std': 0.125139233951577}}\n",
      "compute marginals\n",
      "compute marginals iterating over trees\n"
     ]
    },
    {
     "name": "stderr",
     "output_type": "stream",
     "text": [
      "100%|██████████| 16/16 [00:00<00:00, 69.43it/s]\n"
     ]
    },
    {
     "name": "stdout",
     "output_type": "stream",
     "text": [
      "compute marginals done\n"
     ]
    },
    {
     "name": "stderr",
     "output_type": "stream",
     "text": [
      "1it [00:00, 9686.61it/s]\n"
     ]
    },
    {
     "name": "stdout",
     "output_type": "stream",
     "text": [
      "max_dropout 2 {(2,): {'individual importance': 0.12079111249932421, 'total importance': 0.12079111249932421, 'individual std': 0.18334854935013745, 'total std': 0.18334854935013745}}\n",
      "compute marginals\n",
      "compute marginals iterating over trees\n"
     ]
    },
    {
     "name": "stderr",
     "output_type": "stream",
     "text": [
      "100%|██████████| 16/16 [00:00<00:00, 68.56it/s]\n"
     ]
    },
    {
     "name": "stdout",
     "output_type": "stream",
     "text": [
      "compute marginals done\n"
     ]
    },
    {
     "name": "stderr",
     "output_type": "stream",
     "text": [
      "1it [00:00, 9446.63it/s]\n"
     ]
    },
    {
     "name": "stdout",
     "output_type": "stream",
     "text": [
      "max_units 3 {(3,): {'individual importance': 0.017195467851061814, 'total importance': 0.017195467851061814, 'individual std': 0.04987875807753872, 'total std': 0.04987875807753872}}\n",
      "compute marginals\n",
      "compute marginals iterating over trees\n"
     ]
    },
    {
     "name": "stderr",
     "output_type": "stream",
     "text": [
      "100%|██████████| 16/16 [00:00<00:00, 68.90it/s]\n"
     ]
    },
    {
     "name": "stdout",
     "output_type": "stream",
     "text": [
      "compute marginals done\n"
     ]
    },
    {
     "name": "stderr",
     "output_type": "stream",
     "text": [
      "1it [00:00, 8542.37it/s]\n"
     ]
    },
    {
     "name": "stdout",
     "output_type": "stream",
     "text": [
      "momentum 4 {(4,): {'individual importance': 0.050766761025276205, 'total importance': 0.050766761025276205, 'individual std': 0.07184703033172128, 'total std': 0.07184703033172128}}\n",
      "compute marginals\n",
      "compute marginals iterating over trees\n"
     ]
    },
    {
     "name": "stderr",
     "output_type": "stream",
     "text": [
      "100%|██████████| 16/16 [00:00<00:00, 267.90it/s]\n"
     ]
    },
    {
     "name": "stdout",
     "output_type": "stream",
     "text": [
      "compute marginals done\n"
     ]
    },
    {
     "name": "stderr",
     "output_type": "stream",
     "text": [
      "1it [00:00, 10645.44it/s]\n"
     ]
    },
    {
     "name": "stdout",
     "output_type": "stream",
     "text": [
      "num_layers 5 {(5,): {'individual importance': 0.02756406416741937, 'total importance': 0.02756406416741937, 'individual std': 0.01850975464210602, 'total std': 0.01850975464210602}}\n",
      "compute marginals\n",
      "compute marginals iterating over trees\n"
     ]
    },
    {
     "name": "stderr",
     "output_type": "stream",
     "text": [
      "100%|██████████| 16/16 [00:00<00:00, 66.10it/s]\n"
     ]
    },
    {
     "name": "stdout",
     "output_type": "stream",
     "text": [
      "compute marginals done\n"
     ]
    },
    {
     "name": "stderr",
     "output_type": "stream",
     "text": [
      "1it [00:00, 10951.19it/s]\n"
     ]
    },
    {
     "name": "stdout",
     "output_type": "stream",
     "text": [
      "weight_decay 6 {(6,): {'individual importance': 0.05181980034617921, 'total importance': 0.05181980034617921, 'individual std': 0.08274483444973964, 'total std': 0.08274483444973964}}\n",
      "{'batch_size': 0.0326715470885031, 'learning_rate': 0.08928476801455522, 'max_dropout': 0.12079111249932421, 'max_units': 0.017195467851061814, 'momentum': 0.050766761025276205, 'num_layers': 0.02756406416741937, 'weight_decay': 0.05181980034617921}\n",
      "Please make sure to also cite:\n",
      "Zimmer, L., Lindauer, M., & Hutter, F. (2021). Auto-Pytorch: Multi-Fidelity Metalearning for Efficient and Robust AutoDL. IEEE Transactions on Pattern Analysis and Machine Intelligence, 43(9), 3079-3090.\n",
      "Zimmer, L. (2020). data_2k_lw.zip. figshare. Dataset. https://doi.org/10.6084/m9.figshare.11662422.v1, Apache License, Version 2.0.\n"
     ]
    },
    {
     "name": "stderr",
     "output_type": "stream",
     "text": [
      "WARNING:hypershap.baseline.original_fanova.fANOVA:Note that fANOVA expects data to be ordered like the return of ConfigSpace's 'get_hyperparameters'-method. We recommend to use labeled pandas dataframes to avoid any problems.\n"
     ]
    },
    {
     "name": "stdout",
     "output_type": "stream",
     "text": [
      "CP1\n",
      "CP2\n",
      "CP3\n",
      "CP4\n",
      "CP5\n",
      "CP6\n",
      "CP7\n"
     ]
    },
    {
     "name": "stderr",
     "output_type": "stream",
     "text": [
      "100%|██████████| 16/16 [00:00<00:00, 28988.71it/s]\n"
     ]
    },
    {
     "name": "stdout",
     "output_type": "stream",
     "text": [
      "CP8\n",
      "compute marginals\n",
      "compute marginals iterating over trees\n"
     ]
    },
    {
     "name": "stderr",
     "output_type": "stream",
     "text": [
      "100%|██████████| 16/16 [00:00<00:00, 92.02it/s]\n"
     ]
    },
    {
     "name": "stdout",
     "output_type": "stream",
     "text": [
      "compute marginals done\n"
     ]
    },
    {
     "name": "stderr",
     "output_type": "stream",
     "text": [
      "1it [00:00, 8943.08it/s]\n"
     ]
    },
    {
     "name": "stdout",
     "output_type": "stream",
     "text": [
      "batch_size 0 {(0,): {'individual importance': 0.05816543876707531, 'total importance': 0.05816543876707531, 'individual std': 0.08296604709125262, 'total std': 0.08296604709125262}}\n",
      "compute marginals\n",
      "compute marginals iterating over trees\n"
     ]
    },
    {
     "name": "stderr",
     "output_type": "stream",
     "text": [
      "100%|██████████| 16/16 [00:00<00:00, 101.53it/s]\n"
     ]
    },
    {
     "name": "stdout",
     "output_type": "stream",
     "text": [
      "compute marginals done\n"
     ]
    },
    {
     "name": "stderr",
     "output_type": "stream",
     "text": [
      "1it [00:00, 6326.25it/s]\n"
     ]
    },
    {
     "name": "stdout",
     "output_type": "stream",
     "text": [
      "learning_rate 1 {(1,): {'individual importance': 0.019765569181994187, 'total importance': 0.019765569181994187, 'individual std': 0.01447722831603685, 'total std': 0.01447722831603685}}\n",
      "compute marginals\n",
      "compute marginals iterating over trees\n"
     ]
    },
    {
     "name": "stderr",
     "output_type": "stream",
     "text": [
      "100%|██████████| 16/16 [00:00<00:00, 65.71it/s]\n"
     ]
    },
    {
     "name": "stdout",
     "output_type": "stream",
     "text": [
      "compute marginals done\n"
     ]
    },
    {
     "name": "stderr",
     "output_type": "stream",
     "text": [
      "1it [00:00, 10205.12it/s]\n"
     ]
    },
    {
     "name": "stdout",
     "output_type": "stream",
     "text": [
      "max_dropout 2 {(2,): {'individual importance': 0.02827989971857694, 'total importance': 0.02827989971857694, 'individual std': 0.028801449211035893, 'total std': 0.028801449211035893}}\n",
      "compute marginals\n",
      "compute marginals iterating over trees\n"
     ]
    },
    {
     "name": "stderr",
     "output_type": "stream",
     "text": [
      "100%|██████████| 16/16 [00:00<00:00, 63.09it/s]\n"
     ]
    },
    {
     "name": "stdout",
     "output_type": "stream",
     "text": [
      "compute marginals done\n"
     ]
    },
    {
     "name": "stderr",
     "output_type": "stream",
     "text": [
      "1it [00:00, 9258.95it/s]\n"
     ]
    },
    {
     "name": "stdout",
     "output_type": "stream",
     "text": [
      "max_units 3 {(3,): {'individual importance': 0.019112046983321675, 'total importance': 0.019112046983321675, 'individual std': 0.027221539888529718, 'total std': 0.027221539888529718}}\n",
      "compute marginals\n",
      "compute marginals iterating over trees\n"
     ]
    },
    {
     "name": "stderr",
     "output_type": "stream",
     "text": [
      "100%|██████████| 16/16 [00:00<00:00, 64.60it/s]\n"
     ]
    },
    {
     "name": "stdout",
     "output_type": "stream",
     "text": [
      "compute marginals done\n"
     ]
    },
    {
     "name": "stderr",
     "output_type": "stream",
     "text": [
      "1it [00:00, 10866.07it/s]\n"
     ]
    },
    {
     "name": "stdout",
     "output_type": "stream",
     "text": [
      "momentum 4 {(4,): {'individual importance': 0.05312152863694314, 'total importance': 0.05312152863694314, 'individual std': 0.06098864300029005, 'total std': 0.06098864300029005}}\n",
      "compute marginals\n",
      "compute marginals iterating over trees\n"
     ]
    },
    {
     "name": "stderr",
     "output_type": "stream",
     "text": [
      "100%|██████████| 16/16 [00:00<00:00, 596.74it/s]\n"
     ]
    },
    {
     "name": "stdout",
     "output_type": "stream",
     "text": [
      "compute marginals done\n"
     ]
    },
    {
     "name": "stderr",
     "output_type": "stream",
     "text": [
      "1it [00:00, 11618.57it/s]\n"
     ]
    },
    {
     "name": "stdout",
     "output_type": "stream",
     "text": [
      "num_layers 5 {(5,): {'individual importance': 0.14123488513274898, 'total importance': 0.14123488513274898, 'individual std': 0.07958485334727522, 'total std': 0.07958485334727522}}\n",
      "compute marginals\n",
      "compute marginals iterating over trees\n"
     ]
    },
    {
     "name": "stderr",
     "output_type": "stream",
     "text": [
      "100%|██████████| 16/16 [00:00<00:00, 68.28it/s]\n"
     ]
    },
    {
     "name": "stdout",
     "output_type": "stream",
     "text": [
      "compute marginals done\n"
     ]
    },
    {
     "name": "stderr",
     "output_type": "stream",
     "text": [
      "1it [00:00, 10512.04it/s]\n"
     ]
    },
    {
     "name": "stdout",
     "output_type": "stream",
     "text": [
      "weight_decay 6 {(6,): {'individual importance': 0.0373329942365252, 'total importance': 0.0373329942365252, 'individual std': 0.04457576409858003, 'total std': 0.04457576409858003}}\n",
      "{'batch_size': 0.05816543876707531, 'learning_rate': 0.019765569181994187, 'max_dropout': 0.02827989971857694, 'max_units': 0.019112046983321675, 'momentum': 0.05312152863694314, 'num_layers': 0.14123488513274898, 'weight_decay': 0.0373329942365252}\n",
      "Please make sure to also cite:\n",
      "Zimmer, L., Lindauer, M., & Hutter, F. (2021). Auto-Pytorch: Multi-Fidelity Metalearning for Efficient and Robust AutoDL. IEEE Transactions on Pattern Analysis and Machine Intelligence, 43(9), 3079-3090.\n",
      "Zimmer, L. (2020). data_2k_lw.zip. figshare. Dataset. https://doi.org/10.6084/m9.figshare.11662422.v1, Apache License, Version 2.0.\n"
     ]
    },
    {
     "name": "stderr",
     "output_type": "stream",
     "text": [
      "WARNING:hypershap.baseline.original_fanova.fANOVA:Note that fANOVA expects data to be ordered like the return of ConfigSpace's 'get_hyperparameters'-method. We recommend to use labeled pandas dataframes to avoid any problems.\n"
     ]
    },
    {
     "name": "stdout",
     "output_type": "stream",
     "text": [
      "CP1\n",
      "CP2\n",
      "CP3\n",
      "CP4\n",
      "CP5\n",
      "CP6\n",
      "CP7\n"
     ]
    },
    {
     "name": "stderr",
     "output_type": "stream",
     "text": [
      "100%|██████████| 16/16 [00:00<00:00, 28777.39it/s]\n"
     ]
    },
    {
     "name": "stdout",
     "output_type": "stream",
     "text": [
      "CP8\n",
      "compute marginals\n",
      "compute marginals iterating over trees\n"
     ]
    },
    {
     "name": "stderr",
     "output_type": "stream",
     "text": [
      "100%|██████████| 16/16 [00:00<00:00, 84.49it/s]\n"
     ]
    },
    {
     "name": "stdout",
     "output_type": "stream",
     "text": [
      "compute marginals done\n"
     ]
    },
    {
     "name": "stderr",
     "output_type": "stream",
     "text": [
      "1it [00:00, 9619.96it/s]\n"
     ]
    },
    {
     "name": "stdout",
     "output_type": "stream",
     "text": [
      "batch_size 0 {(0,): {'individual importance': 0.021555831274875564, 'total importance': 0.021555831274875564, 'individual std': 0.02965618374233202, 'total std': 0.02965618374233202}}\n",
      "compute marginals\n",
      "compute marginals iterating over trees\n"
     ]
    },
    {
     "name": "stderr",
     "output_type": "stream",
     "text": [
      "100%|██████████| 16/16 [00:00<00:00, 109.91it/s]\n"
     ]
    },
    {
     "name": "stdout",
     "output_type": "stream",
     "text": [
      "compute marginals done\n"
     ]
    },
    {
     "name": "stderr",
     "output_type": "stream",
     "text": [
      "1it [00:00, 8701.88it/s]\n"
     ]
    },
    {
     "name": "stdout",
     "output_type": "stream",
     "text": [
      "learning_rate 1 {(1,): {'individual importance': 0.031252207356604715, 'total importance': 0.031252207356604715, 'individual std': 0.012370453734357561, 'total std': 0.012370453734357561}}\n",
      "compute marginals\n",
      "compute marginals iterating over trees\n"
     ]
    },
    {
     "name": "stderr",
     "output_type": "stream",
     "text": [
      "100%|██████████| 16/16 [00:00<00:00, 59.08it/s]\n"
     ]
    },
    {
     "name": "stdout",
     "output_type": "stream",
     "text": [
      "compute marginals done\n"
     ]
    },
    {
     "name": "stderr",
     "output_type": "stream",
     "text": [
      "1it [00:00, 9258.95it/s]\n"
     ]
    },
    {
     "name": "stdout",
     "output_type": "stream",
     "text": [
      "max_dropout 2 {(2,): {'individual importance': 0.01194911446769783, 'total importance': 0.01194911446769783, 'individual std': 0.010016985457654566, 'total std': 0.010016985457654566}}\n",
      "compute marginals\n",
      "compute marginals iterating over trees\n"
     ]
    },
    {
     "name": "stderr",
     "output_type": "stream",
     "text": [
      "100%|██████████| 16/16 [00:00<00:00, 65.15it/s]\n"
     ]
    },
    {
     "name": "stdout",
     "output_type": "stream",
     "text": [
      "compute marginals done\n"
     ]
    },
    {
     "name": "stderr",
     "output_type": "stream",
     "text": [
      "1it [00:00, 9619.96it/s]\n"
     ]
    },
    {
     "name": "stdout",
     "output_type": "stream",
     "text": [
      "max_units 3 {(3,): {'individual importance': 0.0015545110012225175, 'total importance': 0.0015545110012225175, 'individual std': 0.0025899607271028936, 'total std': 0.0025899607271028936}}\n",
      "compute marginals\n",
      "compute marginals iterating over trees\n"
     ]
    },
    {
     "name": "stderr",
     "output_type": "stream",
     "text": [
      "100%|██████████| 16/16 [00:00<00:00, 70.71it/s]\n"
     ]
    },
    {
     "name": "stdout",
     "output_type": "stream",
     "text": [
      "compute marginals done\n"
     ]
    },
    {
     "name": "stderr",
     "output_type": "stream",
     "text": [
      "1it [00:00, 8542.37it/s]\n"
     ]
    },
    {
     "name": "stdout",
     "output_type": "stream",
     "text": [
      "momentum 4 {(4,): {'individual importance': 0.009570081093971613, 'total importance': 0.009570081093971613, 'individual std': 0.010315277250160963, 'total std': 0.010315277250160963}}\n",
      "compute marginals\n",
      "compute marginals iterating over trees\n"
     ]
    },
    {
     "name": "stderr",
     "output_type": "stream",
     "text": [
      "100%|██████████| 16/16 [00:00<00:00, 924.75it/s]\n"
     ]
    },
    {
     "name": "stdout",
     "output_type": "stream",
     "text": [
      "compute marginals done\n"
     ]
    },
    {
     "name": "stderr",
     "output_type": "stream",
     "text": [
      "1it [00:00, 10180.35it/s]\n"
     ]
    },
    {
     "name": "stdout",
     "output_type": "stream",
     "text": [
      "num_layers 5 {(5,): {'individual importance': 0.5777354485433728, 'total importance': 0.5777354485433728, 'individual std': 0.1284144759503848, 'total std': 0.1284144759503848}}\n",
      "compute marginals\n",
      "compute marginals iterating over trees\n"
     ]
    },
    {
     "name": "stderr",
     "output_type": "stream",
     "text": [
      "100%|██████████| 16/16 [00:00<00:00, 65.19it/s]\n"
     ]
    },
    {
     "name": "stdout",
     "output_type": "stream",
     "text": [
      "compute marginals done\n"
     ]
    },
    {
     "name": "stderr",
     "output_type": "stream",
     "text": [
      "1it [00:00, 9532.51it/s]\n"
     ]
    },
    {
     "name": "stdout",
     "output_type": "stream",
     "text": [
      "weight_decay 6 {(6,): {'individual importance': 0.04692864425594347, 'total importance': 0.04692864425594347, 'individual std': 0.04484030005599535, 'total std': 0.04484030005599535}}\n",
      "{'batch_size': 0.021555831274875564, 'learning_rate': 0.031252207356604715, 'max_dropout': 0.01194911446769783, 'max_units': 0.0015545110012225175, 'momentum': 0.009570081093971613, 'num_layers': 0.5777354485433728, 'weight_decay': 0.04692864425594347}\n",
      "Please make sure to also cite:\n",
      "Zimmer, L., Lindauer, M., & Hutter, F. (2021). Auto-Pytorch: Multi-Fidelity Metalearning for Efficient and Robust AutoDL. IEEE Transactions on Pattern Analysis and Machine Intelligence, 43(9), 3079-3090.\n",
      "Zimmer, L. (2020). data_2k_lw.zip. figshare. Dataset. https://doi.org/10.6084/m9.figshare.11662422.v1, Apache License, Version 2.0.\n"
     ]
    },
    {
     "name": "stderr",
     "output_type": "stream",
     "text": [
      "WARNING:hypershap.baseline.original_fanova.fANOVA:Note that fANOVA expects data to be ordered like the return of ConfigSpace's 'get_hyperparameters'-method. We recommend to use labeled pandas dataframes to avoid any problems.\n"
     ]
    },
    {
     "name": "stdout",
     "output_type": "stream",
     "text": [
      "CP1\n",
      "CP2\n",
      "CP3\n",
      "CP4\n",
      "CP5\n",
      "CP6\n",
      "CP7\n"
     ]
    },
    {
     "name": "stderr",
     "output_type": "stream",
     "text": [
      "100%|██████████| 16/16 [00:00<00:00, 27776.85it/s]\n"
     ]
    },
    {
     "name": "stdout",
     "output_type": "stream",
     "text": [
      "CP8\n",
      "compute marginals\n",
      "compute marginals iterating over trees\n"
     ]
    },
    {
     "name": "stderr",
     "output_type": "stream",
     "text": [
      "100%|██████████| 16/16 [00:00<00:00, 73.15it/s]\n"
     ]
    },
    {
     "name": "stdout",
     "output_type": "stream",
     "text": [
      "compute marginals done\n"
     ]
    },
    {
     "name": "stderr",
     "output_type": "stream",
     "text": [
      "1it [00:00, 8774.69it/s]\n"
     ]
    },
    {
     "name": "stdout",
     "output_type": "stream",
     "text": [
      "batch_size 0 {(0,): {'individual importance': 0.009158324837129249, 'total importance': 0.009158324837129249, 'individual std': 0.009130305937675966, 'total std': 0.009130305937675966}}\n",
      "compute marginals\n",
      "compute marginals iterating over trees\n"
     ]
    },
    {
     "name": "stderr",
     "output_type": "stream",
     "text": [
      "100%|██████████| 16/16 [00:00<00:00, 78.63it/s]\n"
     ]
    },
    {
     "name": "stdout",
     "output_type": "stream",
     "text": [
      "compute marginals done\n"
     ]
    },
    {
     "name": "stderr",
     "output_type": "stream",
     "text": [
      "1it [00:00, 9020.01it/s]\n"
     ]
    },
    {
     "name": "stdout",
     "output_type": "stream",
     "text": [
      "learning_rate 1 {(1,): {'individual importance': 0.013932165921110918, 'total importance': 0.013932165921110918, 'individual std': 0.009966606442079617, 'total std': 0.009966606442079617}}\n",
      "compute marginals\n",
      "compute marginals iterating over trees\n"
     ]
    },
    {
     "name": "stderr",
     "output_type": "stream",
     "text": [
      "100%|██████████| 16/16 [00:00<00:00, 63.49it/s]\n"
     ]
    },
    {
     "name": "stdout",
     "output_type": "stream",
     "text": [
      "compute marginals done\n"
     ]
    },
    {
     "name": "stderr",
     "output_type": "stream",
     "text": [
      "1it [00:00, 5614.86it/s]\n"
     ]
    },
    {
     "name": "stdout",
     "output_type": "stream",
     "text": [
      "max_dropout 2 {(2,): {'individual importance': 0.009448059230935897, 'total importance': 0.009448059230935897, 'individual std': 0.0057341496852052485, 'total std': 0.0057341496852052485}}\n",
      "compute marginals\n",
      "compute marginals iterating over trees\n"
     ]
    },
    {
     "name": "stderr",
     "output_type": "stream",
     "text": [
      "100%|██████████| 16/16 [00:00<00:00, 74.20it/s]\n"
     ]
    },
    {
     "name": "stdout",
     "output_type": "stream",
     "text": [
      "compute marginals done\n"
     ]
    },
    {
     "name": "stderr",
     "output_type": "stream",
     "text": [
      "1it [00:00, 10754.63it/s]\n"
     ]
    },
    {
     "name": "stdout",
     "output_type": "stream",
     "text": [
      "max_units 3 {(3,): {'individual importance': 0.028225062965822452, 'total importance': 0.028225062965822452, 'individual std': 0.02063166516595792, 'total std': 0.02063166516595792}}\n",
      "compute marginals\n",
      "compute marginals iterating over trees\n"
     ]
    },
    {
     "name": "stderr",
     "output_type": "stream",
     "text": [
      "100%|██████████| 16/16 [00:00<00:00, 63.71it/s]\n"
     ]
    },
    {
     "name": "stdout",
     "output_type": "stream",
     "text": [
      "compute marginals done\n"
     ]
    },
    {
     "name": "stderr",
     "output_type": "stream",
     "text": [
      "1it [00:00, 10754.63it/s]\n"
     ]
    },
    {
     "name": "stdout",
     "output_type": "stream",
     "text": [
      "momentum 4 {(4,): {'individual importance': 0.011789112802492884, 'total importance': 0.011789112802492884, 'individual std': 0.010037061954258809, 'total std': 0.010037061954258809}}\n",
      "compute marginals\n",
      "compute marginals iterating over trees\n"
     ]
    },
    {
     "name": "stderr",
     "output_type": "stream",
     "text": [
      "100%|██████████| 16/16 [00:00<00:00, 714.61it/s]\n"
     ]
    },
    {
     "name": "stdout",
     "output_type": "stream",
     "text": [
      "compute marginals done\n"
     ]
    },
    {
     "name": "stderr",
     "output_type": "stream",
     "text": [
      "1it [00:00, 10754.63it/s]\n"
     ]
    },
    {
     "name": "stdout",
     "output_type": "stream",
     "text": [
      "num_layers 5 {(5,): {'individual importance': 0.21937729841303327, 'total importance': 0.21937729841303327, 'individual std': 0.08164473058089952, 'total std': 0.08164473058089952}}\n",
      "compute marginals\n",
      "compute marginals iterating over trees\n"
     ]
    },
    {
     "name": "stderr",
     "output_type": "stream",
     "text": [
      "100%|██████████| 16/16 [00:00<00:00, 96.80it/s]\n"
     ]
    },
    {
     "name": "stdout",
     "output_type": "stream",
     "text": [
      "compute marginals done\n"
     ]
    },
    {
     "name": "stderr",
     "output_type": "stream",
     "text": [
      "1it [00:00, 11915.64it/s]\n"
     ]
    },
    {
     "name": "stdout",
     "output_type": "stream",
     "text": [
      "weight_decay 6 {(6,): {'individual importance': 0.14908726066573777, 'total importance': 0.14908726066573777, 'individual std': 0.06929653348395859, 'total std': 0.06929653348395859}}\n",
      "{'batch_size': 0.009158324837129249, 'learning_rate': 0.013932165921110918, 'max_dropout': 0.009448059230935897, 'max_units': 0.028225062965822452, 'momentum': 0.011789112802492884, 'num_layers': 0.21937729841303327, 'weight_decay': 0.14908726066573777}\n",
      "Please make sure to also cite:\n",
      "Zimmer, L., Lindauer, M., & Hutter, F. (2021). Auto-Pytorch: Multi-Fidelity Metalearning for Efficient and Robust AutoDL. IEEE Transactions on Pattern Analysis and Machine Intelligence, 43(9), 3079-3090.\n",
      "Zimmer, L. (2020). data_2k_lw.zip. figshare. Dataset. https://doi.org/10.6084/m9.figshare.11662422.v1, Apache License, Version 2.0.\n"
     ]
    },
    {
     "name": "stderr",
     "output_type": "stream",
     "text": [
      "WARNING:hypershap.baseline.original_fanova.fANOVA:Note that fANOVA expects data to be ordered like the return of ConfigSpace's 'get_hyperparameters'-method. We recommend to use labeled pandas dataframes to avoid any problems.\n"
     ]
    },
    {
     "name": "stdout",
     "output_type": "stream",
     "text": [
      "CP1\n",
      "CP2\n",
      "CP3\n",
      "CP4\n",
      "CP5\n",
      "CP6\n",
      "CP7\n"
     ]
    },
    {
     "name": "stderr",
     "output_type": "stream",
     "text": [
      "100%|██████████| 16/16 [00:00<00:00, 29292.39it/s]\n"
     ]
    },
    {
     "name": "stdout",
     "output_type": "stream",
     "text": [
      "CP8\n",
      "compute marginals\n",
      "compute marginals iterating over trees\n"
     ]
    },
    {
     "name": "stderr",
     "output_type": "stream",
     "text": [
      "100%|██████████| 16/16 [00:00<00:00, 121.01it/s]\n"
     ]
    },
    {
     "name": "stdout",
     "output_type": "stream",
     "text": [
      "compute marginals done\n"
     ]
    },
    {
     "name": "stderr",
     "output_type": "stream",
     "text": [
      "1it [00:00, 9446.63it/s]\n"
     ]
    },
    {
     "name": "stdout",
     "output_type": "stream",
     "text": [
      "batch_size 0 {(0,): {'individual importance': 0.06073572291639097, 'total importance': 0.06073572291639097, 'individual std': 0.06272865931369061, 'total std': 0.06272865931369061}}\n",
      "compute marginals\n",
      "compute marginals iterating over trees\n"
     ]
    },
    {
     "name": "stderr",
     "output_type": "stream",
     "text": [
      "100%|██████████| 16/16 [00:00<00:00, 136.29it/s]\n"
     ]
    },
    {
     "name": "stdout",
     "output_type": "stream",
     "text": [
      "compute marginals done\n"
     ]
    },
    {
     "name": "stderr",
     "output_type": "stream",
     "text": [
      "1it [00:00, 8793.09it/s]\n"
     ]
    },
    {
     "name": "stdout",
     "output_type": "stream",
     "text": [
      "learning_rate 1 {(1,): {'individual importance': 0.13898361408836846, 'total importance': 0.13898361408836846, 'individual std': 0.05783267601056161, 'total std': 0.05783267601056161}}\n",
      "compute marginals\n",
      "compute marginals iterating over trees\n"
     ]
    },
    {
     "name": "stderr",
     "output_type": "stream",
     "text": [
      "100%|██████████| 16/16 [00:00<00:00, 64.59it/s]\n"
     ]
    },
    {
     "name": "stdout",
     "output_type": "stream",
     "text": [
      "compute marginals done\n"
     ]
    },
    {
     "name": "stderr",
     "output_type": "stream",
     "text": [
      "1it [00:00, 9341.43it/s]\n"
     ]
    },
    {
     "name": "stdout",
     "output_type": "stream",
     "text": [
      "max_dropout 2 {(2,): {'individual importance': 0.02781084238101924, 'total importance': 0.02781084238101924, 'individual std': 0.03054671305990863, 'total std': 0.03054671305990863}}\n",
      "compute marginals\n",
      "compute marginals iterating over trees\n"
     ]
    },
    {
     "name": "stderr",
     "output_type": "stream",
     "text": [
      "100%|██████████| 16/16 [00:00<00:00, 66.24it/s]\n"
     ]
    },
    {
     "name": "stdout",
     "output_type": "stream",
     "text": [
      "compute marginals done\n"
     ]
    },
    {
     "name": "stderr",
     "output_type": "stream",
     "text": [
      "1it [00:00, 9822.73it/s]\n"
     ]
    },
    {
     "name": "stdout",
     "output_type": "stream",
     "text": [
      "max_units 3 {(3,): {'individual importance': 0.012722589534066379, 'total importance': 0.012722589534066379, 'individual std': 0.02099873480410871, 'total std': 0.02099873480410871}}\n",
      "compute marginals\n",
      "compute marginals iterating over trees\n"
     ]
    },
    {
     "name": "stderr",
     "output_type": "stream",
     "text": [
      "100%|██████████| 16/16 [00:00<00:00, 66.37it/s]\n"
     ]
    },
    {
     "name": "stdout",
     "output_type": "stream",
     "text": [
      "compute marginals done\n"
     ]
    },
    {
     "name": "stderr",
     "output_type": "stream",
     "text": [
      "1it [00:00, 9020.01it/s]\n"
     ]
    },
    {
     "name": "stdout",
     "output_type": "stream",
     "text": [
      "momentum 4 {(4,): {'individual importance': 0.06300363933993314, 'total importance': 0.06300363933993314, 'individual std': 0.05310731799450625, 'total std': 0.05310731799450625}}\n",
      "compute marginals\n",
      "compute marginals iterating over trees\n"
     ]
    },
    {
     "name": "stderr",
     "output_type": "stream",
     "text": [
      "100%|██████████| 16/16 [00:00<00:00, 244.82it/s]\n"
     ]
    },
    {
     "name": "stdout",
     "output_type": "stream",
     "text": [
      "compute marginals done\n"
     ]
    },
    {
     "name": "stderr",
     "output_type": "stream",
     "text": [
      "1it [00:00, 8112.77it/s]\n"
     ]
    },
    {
     "name": "stdout",
     "output_type": "stream",
     "text": [
      "num_layers 5 {(5,): {'individual importance': 0.07353786603804995, 'total importance': 0.07353786603804995, 'individual std': 0.052089585212350804, 'total std': 0.052089585212350804}}\n",
      "compute marginals\n",
      "compute marginals iterating over trees\n"
     ]
    },
    {
     "name": "stderr",
     "output_type": "stream",
     "text": [
      "100%|██████████| 16/16 [00:00<00:00, 65.51it/s]\n"
     ]
    },
    {
     "name": "stdout",
     "output_type": "stream",
     "text": [
      "compute marginals done\n"
     ]
    },
    {
     "name": "stderr",
     "output_type": "stream",
     "text": [
      "1it [00:00, 9709.04it/s]\n"
     ]
    },
    {
     "name": "stdout",
     "output_type": "stream",
     "text": [
      "weight_decay 6 {(6,): {'individual importance': 0.010807058335652805, 'total importance': 0.010807058335652805, 'individual std': 0.01997169698218628, 'total std': 0.01997169698218628}}\n",
      "{'batch_size': 0.06073572291639097, 'learning_rate': 0.13898361408836846, 'max_dropout': 0.02781084238101924, 'max_units': 0.012722589534066379, 'momentum': 0.06300363933993314, 'num_layers': 0.07353786603804995, 'weight_decay': 0.010807058335652805}\n",
      "Please make sure to also cite:\n",
      "Zimmer, L., Lindauer, M., & Hutter, F. (2021). Auto-Pytorch: Multi-Fidelity Metalearning for Efficient and Robust AutoDL. IEEE Transactions on Pattern Analysis and Machine Intelligence, 43(9), 3079-3090.\n",
      "Zimmer, L. (2020). data_2k_lw.zip. figshare. Dataset. https://doi.org/10.6084/m9.figshare.11662422.v1, Apache License, Version 2.0.\n"
     ]
    },
    {
     "name": "stderr",
     "output_type": "stream",
     "text": [
      "WARNING:hypershap.baseline.original_fanova.fANOVA:Note that fANOVA expects data to be ordered like the return of ConfigSpace's 'get_hyperparameters'-method. We recommend to use labeled pandas dataframes to avoid any problems.\n"
     ]
    },
    {
     "name": "stdout",
     "output_type": "stream",
     "text": [
      "CP1\n",
      "CP2\n",
      "CP3\n",
      "CP4\n",
      "CP5\n",
      "CP6\n",
      "CP7\n"
     ]
    },
    {
     "name": "stderr",
     "output_type": "stream",
     "text": [
      "100%|██████████| 16/16 [00:00<00:00, 28411.88it/s]\n"
     ]
    },
    {
     "name": "stdout",
     "output_type": "stream",
     "text": [
      "CP8\n",
      "compute marginals\n",
      "compute marginals iterating over trees\n"
     ]
    },
    {
     "name": "stderr",
     "output_type": "stream",
     "text": [
      "100%|██████████| 16/16 [00:00<00:00, 95.67it/s]\n"
     ]
    },
    {
     "name": "stdout",
     "output_type": "stream",
     "text": [
      "compute marginals done\n"
     ]
    },
    {
     "name": "stderr",
     "output_type": "stream",
     "text": [
      "1it [00:00, 9425.40it/s]\n"
     ]
    },
    {
     "name": "stdout",
     "output_type": "stream",
     "text": [
      "batch_size 0 {(0,): {'individual importance': 0.0409479201657492, 'total importance': 0.0409479201657492, 'individual std': 0.05267282102611601, 'total std': 0.05267282102611601}}\n",
      "compute marginals\n",
      "compute marginals iterating over trees\n"
     ]
    },
    {
     "name": "stderr",
     "output_type": "stream",
     "text": [
      "100%|██████████| 16/16 [00:00<00:00, 153.60it/s]\n"
     ]
    },
    {
     "name": "stdout",
     "output_type": "stream",
     "text": [
      "compute marginals done\n"
     ]
    },
    {
     "name": "stderr",
     "output_type": "stream",
     "text": [
      "1it [00:00, 11214.72it/s]\n"
     ]
    },
    {
     "name": "stdout",
     "output_type": "stream",
     "text": [
      "learning_rate 1 {(1,): {'individual importance': 0.12173365065014768, 'total importance': 0.12173365065014768, 'individual std': 0.04140534214468134, 'total std': 0.04140534214468134}}\n",
      "compute marginals\n",
      "compute marginals iterating over trees\n"
     ]
    },
    {
     "name": "stderr",
     "output_type": "stream",
     "text": [
      "100%|██████████| 16/16 [00:00<00:00, 66.00it/s]\n"
     ]
    },
    {
     "name": "stdout",
     "output_type": "stream",
     "text": [
      "compute marginals done\n"
     ]
    },
    {
     "name": "stderr",
     "output_type": "stream",
     "text": [
      "1it [00:00, 8144.28it/s]\n"
     ]
    },
    {
     "name": "stdout",
     "output_type": "stream",
     "text": [
      "max_dropout 2 {(2,): {'individual importance': 0.02367477039055159, 'total importance': 0.02367477039055159, 'individual std': 0.01936972366612818, 'total std': 0.01936972366612818}}\n",
      "compute marginals\n",
      "compute marginals iterating over trees\n"
     ]
    },
    {
     "name": "stderr",
     "output_type": "stream",
     "text": [
      "100%|██████████| 16/16 [00:00<00:00, 71.12it/s]\n"
     ]
    },
    {
     "name": "stdout",
     "output_type": "stream",
     "text": [
      "compute marginals done\n"
     ]
    },
    {
     "name": "stderr",
     "output_type": "stream",
     "text": [
      "1it [00:00, 8542.37it/s]\n"
     ]
    },
    {
     "name": "stdout",
     "output_type": "stream",
     "text": [
      "max_units 3 {(3,): {'individual importance': 0.04198175196437463, 'total importance': 0.04198175196437463, 'individual std': 0.03399347677660414, 'total std': 0.03399347677660414}}\n",
      "compute marginals\n",
      "compute marginals iterating over trees\n"
     ]
    },
    {
     "name": "stderr",
     "output_type": "stream",
     "text": [
      "100%|██████████| 16/16 [00:00<00:00, 68.07it/s]\n"
     ]
    },
    {
     "name": "stdout",
     "output_type": "stream",
     "text": [
      "compute marginals done\n"
     ]
    },
    {
     "name": "stderr",
     "output_type": "stream",
     "text": [
      "1it [00:00, 9619.96it/s]\n"
     ]
    },
    {
     "name": "stdout",
     "output_type": "stream",
     "text": [
      "momentum 4 {(4,): {'individual importance': 0.03130617156726814, 'total importance': 0.03130617156726814, 'individual std': 0.03586318523139214, 'total std': 0.03586318523139214}}\n",
      "compute marginals\n",
      "compute marginals iterating over trees\n"
     ]
    },
    {
     "name": "stderr",
     "output_type": "stream",
     "text": [
      "100%|██████████| 16/16 [00:00<00:00, 376.15it/s]\n"
     ]
    },
    {
     "name": "stdout",
     "output_type": "stream",
     "text": [
      "compute marginals done\n"
     ]
    },
    {
     "name": "stderr",
     "output_type": "stream",
     "text": [
      "1it [00:00, 8867.45it/s]\n"
     ]
    },
    {
     "name": "stdout",
     "output_type": "stream",
     "text": [
      "num_layers 5 {(5,): {'individual importance': 0.17716299596586266, 'total importance': 0.17716299596586266, 'individual std': 0.06779237820977234, 'total std': 0.06779237820977234}}\n",
      "compute marginals\n",
      "compute marginals iterating over trees\n"
     ]
    },
    {
     "name": "stderr",
     "output_type": "stream",
     "text": [
      "100%|██████████| 16/16 [00:00<00:00, 67.32it/s]\n"
     ]
    },
    {
     "name": "stdout",
     "output_type": "stream",
     "text": [
      "compute marginals done\n"
     ]
    },
    {
     "name": "stderr",
     "output_type": "stream",
     "text": [
      "1it [00:00, 8272.79it/s]\n"
     ]
    },
    {
     "name": "stdout",
     "output_type": "stream",
     "text": [
      "weight_decay 6 {(6,): {'individual importance': 0.0220182966957981, 'total importance': 0.0220182966957981, 'individual std': 0.010635813759736367, 'total std': 0.010635813759736367}}\n",
      "{'batch_size': 0.0409479201657492, 'learning_rate': 0.12173365065014768, 'max_dropout': 0.02367477039055159, 'max_units': 0.04198175196437463, 'momentum': 0.03130617156726814, 'num_layers': 0.17716299596586266, 'weight_decay': 0.0220182966957981}\n",
      "Please make sure to also cite:\n",
      "Zimmer, L., Lindauer, M., & Hutter, F. (2021). Auto-Pytorch: Multi-Fidelity Metalearning for Efficient and Robust AutoDL. IEEE Transactions on Pattern Analysis and Machine Intelligence, 43(9), 3079-3090.\n",
      "Zimmer, L. (2020). data_2k_lw.zip. figshare. Dataset. https://doi.org/10.6084/m9.figshare.11662422.v1, Apache License, Version 2.0.\n"
     ]
    },
    {
     "name": "stderr",
     "output_type": "stream",
     "text": [
      "WARNING:hypershap.baseline.original_fanova.fANOVA:Note that fANOVA expects data to be ordered like the return of ConfigSpace's 'get_hyperparameters'-method. We recommend to use labeled pandas dataframes to avoid any problems.\n"
     ]
    },
    {
     "name": "stdout",
     "output_type": "stream",
     "text": [
      "CP1\n",
      "CP2\n",
      "CP3\n",
      "CP4\n",
      "CP5\n",
      "CP6\n",
      "CP7\n"
     ]
    },
    {
     "name": "stderr",
     "output_type": "stream",
     "text": [
      "100%|██████████| 16/16 [00:00<00:00, 25410.40it/s]\n"
     ]
    },
    {
     "name": "stdout",
     "output_type": "stream",
     "text": [
      "CP8\n",
      "compute marginals\n",
      "compute marginals iterating over trees\n"
     ]
    },
    {
     "name": "stderr",
     "output_type": "stream",
     "text": [
      "100%|██████████| 16/16 [00:00<00:00, 66.03it/s]\n"
     ]
    },
    {
     "name": "stdout",
     "output_type": "stream",
     "text": [
      "compute marginals done\n"
     ]
    },
    {
     "name": "stderr",
     "output_type": "stream",
     "text": [
      "1it [00:00, 8473.34it/s]\n"
     ]
    },
    {
     "name": "stdout",
     "output_type": "stream",
     "text": [
      "batch_size 0 {(0,): {'individual importance': 0.005689869649790766, 'total importance': 0.005689869649790766, 'individual std': 0.006477258021285886, 'total std': 0.006477258021285886}}\n",
      "compute marginals\n",
      "compute marginals iterating over trees\n"
     ]
    },
    {
     "name": "stderr",
     "output_type": "stream",
     "text": [
      "100%|██████████| 16/16 [00:00<00:00, 73.46it/s]\n"
     ]
    },
    {
     "name": "stdout",
     "output_type": "stream",
     "text": [
      "compute marginals done\n"
     ]
    },
    {
     "name": "stderr",
     "output_type": "stream",
     "text": [
      "1it [00:00, 7145.32it/s]\n"
     ]
    },
    {
     "name": "stdout",
     "output_type": "stream",
     "text": [
      "learning_rate 1 {(1,): {'individual importance': 0.0065825905582196104, 'total importance': 0.0065825905582196104, 'individual std': 0.012724930499827189, 'total std': 0.012724930499827189}}\n",
      "compute marginals\n",
      "compute marginals iterating over trees\n"
     ]
    },
    {
     "name": "stderr",
     "output_type": "stream",
     "text": [
      "100%|██████████| 16/16 [00:00<00:00, 62.08it/s]\n"
     ]
    },
    {
     "name": "stdout",
     "output_type": "stream",
     "text": [
      "compute marginals done\n"
     ]
    },
    {
     "name": "stderr",
     "output_type": "stream",
     "text": [
      "1it [00:00, 7037.42it/s]\n"
     ]
    },
    {
     "name": "stdout",
     "output_type": "stream",
     "text": [
      "max_dropout 2 {(2,): {'individual importance': 0.006443259183708362, 'total importance': 0.006443259183708362, 'individual std': 0.008017767651687322, 'total std': 0.008017767651687322}}\n",
      "compute marginals\n",
      "compute marginals iterating over trees\n"
     ]
    },
    {
     "name": "stderr",
     "output_type": "stream",
     "text": [
      "100%|██████████| 16/16 [00:00<00:00, 59.31it/s]\n"
     ]
    },
    {
     "name": "stdout",
     "output_type": "stream",
     "text": [
      "compute marginals done\n"
     ]
    },
    {
     "name": "stderr",
     "output_type": "stream",
     "text": [
      "1it [00:00, 9731.56it/s]\n"
     ]
    },
    {
     "name": "stdout",
     "output_type": "stream",
     "text": [
      "max_units 3 {(3,): {'individual importance': 0.012023648659158517, 'total importance': 0.012023648659158517, 'individual std': 0.011697346594412211, 'total std': 0.011697346594412211}}\n",
      "compute marginals\n",
      "compute marginals iterating over trees\n"
     ]
    },
    {
     "name": "stderr",
     "output_type": "stream",
     "text": [
      "100%|██████████| 16/16 [00:00<00:00, 60.09it/s]\n"
     ]
    },
    {
     "name": "stdout",
     "output_type": "stream",
     "text": [
      "compute marginals done\n"
     ]
    },
    {
     "name": "stderr",
     "output_type": "stream",
     "text": [
      "1it [00:00, 7410.43it/s]\n"
     ]
    },
    {
     "name": "stdout",
     "output_type": "stream",
     "text": [
      "momentum 4 {(4,): {'individual importance': 0.004890665178653712, 'total importance': 0.004890665178653712, 'individual std': 0.004889939147684922, 'total std': 0.004889939147684922}}\n",
      "compute marginals\n",
      "compute marginals iterating over trees\n"
     ]
    },
    {
     "name": "stderr",
     "output_type": "stream",
     "text": [
      "100%|██████████| 16/16 [00:00<00:00, 1270.45it/s]\n"
     ]
    },
    {
     "name": "stdout",
     "output_type": "stream",
     "text": [
      "compute marginals done\n"
     ]
    },
    {
     "name": "stderr",
     "output_type": "stream",
     "text": [
      "1it [00:00, 8756.38it/s]\n"
     ]
    },
    {
     "name": "stdout",
     "output_type": "stream",
     "text": [
      "num_layers 5 {(5,): {'individual importance': 0.4150512612959242, 'total importance': 0.4150512612959242, 'individual std': 0.09739673675091975, 'total std': 0.09739673675091975}}\n",
      "compute marginals\n",
      "compute marginals iterating over trees\n"
     ]
    },
    {
     "name": "stderr",
     "output_type": "stream",
     "text": [
      "100%|██████████| 16/16 [00:00<00:00, 103.37it/s]\n"
     ]
    },
    {
     "name": "stdout",
     "output_type": "stream",
     "text": [
      "compute marginals done\n"
     ]
    },
    {
     "name": "stderr",
     "output_type": "stream",
     "text": [
      "1it [00:00, 7530.17it/s]\n"
     ]
    },
    {
     "name": "stdout",
     "output_type": "stream",
     "text": [
      "weight_decay 6 {(6,): {'individual importance': 0.18436924427380558, 'total importance': 0.18436924427380558, 'individual std': 0.056734542882308135, 'total std': 0.056734542882308135}}\n",
      "{'batch_size': 0.005689869649790766, 'learning_rate': 0.0065825905582196104, 'max_dropout': 0.006443259183708362, 'max_units': 0.012023648659158517, 'momentum': 0.004890665178653712, 'num_layers': 0.4150512612959242, 'weight_decay': 0.18436924427380558}\n",
      "Please make sure to also cite:\n",
      "Zimmer, L., Lindauer, M., & Hutter, F. (2021). Auto-Pytorch: Multi-Fidelity Metalearning for Efficient and Robust AutoDL. IEEE Transactions on Pattern Analysis and Machine Intelligence, 43(9), 3079-3090.\n",
      "Zimmer, L. (2020). data_2k_lw.zip. figshare. Dataset. https://doi.org/10.6084/m9.figshare.11662422.v1, Apache License, Version 2.0.\n"
     ]
    },
    {
     "name": "stderr",
     "output_type": "stream",
     "text": [
      "WARNING:hypershap.baseline.original_fanova.fANOVA:Note that fANOVA expects data to be ordered like the return of ConfigSpace's 'get_hyperparameters'-method. We recommend to use labeled pandas dataframes to avoid any problems.\n"
     ]
    },
    {
     "name": "stdout",
     "output_type": "stream",
     "text": [
      "CP1\n",
      "CP2\n",
      "CP3\n",
      "CP4\n",
      "CP5\n",
      "CP6\n",
      "CP7\n"
     ]
    },
    {
     "name": "stderr",
     "output_type": "stream",
     "text": [
      "100%|██████████| 16/16 [00:00<00:00, 28268.27it/s]\n"
     ]
    },
    {
     "name": "stdout",
     "output_type": "stream",
     "text": [
      "CP8\n",
      "compute marginals\n",
      "compute marginals iterating over trees\n"
     ]
    },
    {
     "name": "stderr",
     "output_type": "stream",
     "text": [
      "100%|██████████| 16/16 [00:00<00:00, 67.95it/s]\n"
     ]
    },
    {
     "name": "stdout",
     "output_type": "stream",
     "text": [
      "compute marginals done\n"
     ]
    },
    {
     "name": "stderr",
     "output_type": "stream",
     "text": [
      "1it [00:00, 9118.05it/s]\n"
     ]
    },
    {
     "name": "stdout",
     "output_type": "stream",
     "text": [
      "batch_size 0 {(0,): {'individual importance': 0.003956507848463219, 'total importance': 0.003956507848463219, 'individual std': 0.004552146584320263, 'total std': 0.004552146584320263}}\n",
      "compute marginals\n",
      "compute marginals iterating over trees\n"
     ]
    },
    {
     "name": "stderr",
     "output_type": "stream",
     "text": [
      "100%|██████████| 16/16 [00:00<00:00, 85.02it/s]\n"
     ]
    },
    {
     "name": "stdout",
     "output_type": "stream",
     "text": [
      "compute marginals done\n"
     ]
    },
    {
     "name": "stderr",
     "output_type": "stream",
     "text": [
      "1it [00:00, 9915.61it/s]\n"
     ]
    },
    {
     "name": "stdout",
     "output_type": "stream",
     "text": [
      "learning_rate 1 {(1,): {'individual importance': 0.011358980418579027, 'total importance': 0.011358980418579027, 'individual std': 0.019692494169579144, 'total std': 0.019692494169579144}}\n",
      "compute marginals\n",
      "compute marginals iterating over trees\n"
     ]
    },
    {
     "name": "stderr",
     "output_type": "stream",
     "text": [
      "100%|██████████| 16/16 [00:00<00:00, 58.36it/s]\n"
     ]
    },
    {
     "name": "stdout",
     "output_type": "stream",
     "text": [
      "compute marginals done\n"
     ]
    },
    {
     "name": "stderr",
     "output_type": "stream",
     "text": [
      "1it [00:00, 9868.95it/s]\n"
     ]
    },
    {
     "name": "stdout",
     "output_type": "stream",
     "text": [
      "max_dropout 2 {(2,): {'individual importance': 0.0027368149937872293, 'total importance': 0.0027368149937872293, 'individual std': 0.005613667930934766, 'total std': 0.005613667930934766}}\n",
      "compute marginals\n",
      "compute marginals iterating over trees\n"
     ]
    },
    {
     "name": "stderr",
     "output_type": "stream",
     "text": [
      "100%|██████████| 16/16 [00:00<00:00, 69.71it/s]\n"
     ]
    },
    {
     "name": "stdout",
     "output_type": "stream",
     "text": [
      "compute marginals done\n"
     ]
    },
    {
     "name": "stderr",
     "output_type": "stream",
     "text": [
      "1it [00:00, 8192.00it/s]\n"
     ]
    },
    {
     "name": "stdout",
     "output_type": "stream",
     "text": [
      "max_units 3 {(3,): {'individual importance': 0.002938186890191266, 'total importance': 0.002938186890191266, 'individual std': 0.0031728585248700777, 'total std': 0.0031728585248700777}}\n",
      "compute marginals\n",
      "compute marginals iterating over trees\n"
     ]
    },
    {
     "name": "stderr",
     "output_type": "stream",
     "text": [
      "100%|██████████| 16/16 [00:00<00:00, 61.75it/s]\n"
     ]
    },
    {
     "name": "stdout",
     "output_type": "stream",
     "text": [
      "compute marginals done\n"
     ]
    },
    {
     "name": "stderr",
     "output_type": "stream",
     "text": [
      "1it [00:00, 9892.23it/s]\n"
     ]
    },
    {
     "name": "stdout",
     "output_type": "stream",
     "text": [
      "momentum 4 {(4,): {'individual importance': 0.0018374855328910696, 'total importance': 0.0018374855328910696, 'individual std': 0.002192159109499357, 'total std': 0.002192159109499357}}\n",
      "compute marginals\n",
      "compute marginals iterating over trees\n"
     ]
    },
    {
     "name": "stderr",
     "output_type": "stream",
     "text": [
      "100%|██████████| 16/16 [00:00<00:00, 1310.08it/s]\n"
     ]
    },
    {
     "name": "stdout",
     "output_type": "stream",
     "text": [
      "compute marginals done\n"
     ]
    },
    {
     "name": "stderr",
     "output_type": "stream",
     "text": [
      "1it [00:00, 10754.63it/s]\n"
     ]
    },
    {
     "name": "stdout",
     "output_type": "stream",
     "text": [
      "num_layers 5 {(5,): {'individual importance': 0.30570119081683006, 'total importance': 0.30570119081683006, 'individual std': 0.14224724585401718, 'total std': 0.14224724585401718}}\n",
      "compute marginals\n",
      "compute marginals iterating over trees\n"
     ]
    },
    {
     "name": "stderr",
     "output_type": "stream",
     "text": [
      "100%|██████████| 16/16 [00:00<00:00, 82.06it/s]\n"
     ]
    },
    {
     "name": "stdout",
     "output_type": "stream",
     "text": [
      "compute marginals done\n"
     ]
    },
    {
     "name": "stderr",
     "output_type": "stream",
     "text": [
      "1it [00:00, 8830.11it/s]\n"
     ]
    },
    {
     "name": "stdout",
     "output_type": "stream",
     "text": [
      "weight_decay 6 {(6,): {'individual importance': 0.3588766969088084, 'total importance': 0.3588766969088084, 'individual std': 0.10820535822043505, 'total std': 0.10820535822043505}}\n",
      "{'batch_size': 0.003956507848463219, 'learning_rate': 0.011358980418579027, 'max_dropout': 0.0027368149937872293, 'max_units': 0.002938186890191266, 'momentum': 0.0018374855328910696, 'num_layers': 0.30570119081683006, 'weight_decay': 0.3588766969088084}\n",
      "Please make sure to also cite:\n",
      "Zimmer, L., Lindauer, M., & Hutter, F. (2021). Auto-Pytorch: Multi-Fidelity Metalearning for Efficient and Robust AutoDL. IEEE Transactions on Pattern Analysis and Machine Intelligence, 43(9), 3079-3090.\n",
      "Zimmer, L. (2020). data_2k_lw.zip. figshare. Dataset. https://doi.org/10.6084/m9.figshare.11662422.v1, Apache License, Version 2.0.\n"
     ]
    },
    {
     "name": "stderr",
     "output_type": "stream",
     "text": [
      "WARNING:hypershap.baseline.original_fanova.fANOVA:Note that fANOVA expects data to be ordered like the return of ConfigSpace's 'get_hyperparameters'-method. We recommend to use labeled pandas dataframes to avoid any problems.\n"
     ]
    },
    {
     "name": "stdout",
     "output_type": "stream",
     "text": [
      "CP1\n",
      "CP2\n",
      "CP3\n",
      "CP4\n",
      "CP5\n",
      "CP6\n",
      "CP7\n"
     ]
    },
    {
     "name": "stderr",
     "output_type": "stream",
     "text": [
      "100%|██████████| 16/16 [00:00<00:00, 27834.45it/s]\n"
     ]
    },
    {
     "name": "stdout",
     "output_type": "stream",
     "text": [
      "CP8\n",
      "compute marginals\n",
      "compute marginals iterating over trees\n"
     ]
    },
    {
     "name": "stderr",
     "output_type": "stream",
     "text": [
      "100%|██████████| 16/16 [00:00<00:00, 112.51it/s]\n"
     ]
    },
    {
     "name": "stdout",
     "output_type": "stream",
     "text": [
      "compute marginals done\n"
     ]
    },
    {
     "name": "stderr",
     "output_type": "stream",
     "text": [
      "1it [00:00, 5882.61it/s]\n"
     ]
    },
    {
     "name": "stdout",
     "output_type": "stream",
     "text": [
      "batch_size 0 {(0,): {'individual importance': 0.06667917633964043, 'total importance': 0.06667917633964043, 'individual std': 0.06471221752119545, 'total std': 0.06471221752119545}}\n",
      "compute marginals\n",
      "compute marginals iterating over trees\n"
     ]
    },
    {
     "name": "stderr",
     "output_type": "stream",
     "text": [
      "100%|██████████| 16/16 [00:00<00:00, 149.70it/s]\n"
     ]
    },
    {
     "name": "stdout",
     "output_type": "stream",
     "text": [
      "compute marginals done\n"
     ]
    },
    {
     "name": "stderr",
     "output_type": "stream",
     "text": [
      "1it [00:00, 10512.04it/s]\n"
     ]
    },
    {
     "name": "stdout",
     "output_type": "stream",
     "text": [
      "learning_rate 1 {(1,): {'individual importance': 0.17796906681228786, 'total importance': 0.17796906681228786, 'individual std': 0.06338218458972263, 'total std': 0.06338218458972263}}\n",
      "compute marginals\n",
      "compute marginals iterating over trees\n"
     ]
    },
    {
     "name": "stderr",
     "output_type": "stream",
     "text": [
      "100%|██████████| 16/16 [00:00<00:00, 65.22it/s]\n"
     ]
    },
    {
     "name": "stdout",
     "output_type": "stream",
     "text": [
      "compute marginals done\n"
     ]
    },
    {
     "name": "stderr",
     "output_type": "stream",
     "text": [
      "1it [00:00, 9619.96it/s]\n"
     ]
    },
    {
     "name": "stdout",
     "output_type": "stream",
     "text": [
      "max_dropout 2 {(2,): {'individual importance': 0.020655525771821254, 'total importance': 0.020655525771821254, 'individual std': 0.029391277542202093, 'total std': 0.029391277542202093}}\n",
      "compute marginals\n",
      "compute marginals iterating over trees\n"
     ]
    },
    {
     "name": "stderr",
     "output_type": "stream",
     "text": [
      "100%|██████████| 16/16 [00:00<00:00, 74.45it/s]\n"
     ]
    },
    {
     "name": "stdout",
     "output_type": "stream",
     "text": [
      "compute marginals done\n"
     ]
    },
    {
     "name": "stderr",
     "output_type": "stream",
     "text": [
      "1it [00:00, 9915.61it/s]\n"
     ]
    },
    {
     "name": "stdout",
     "output_type": "stream",
     "text": [
      "max_units 3 {(3,): {'individual importance': 0.08426813624650388, 'total importance': 0.08426813624650388, 'individual std': 0.07966544124796963, 'total std': 0.07966544124796963}}\n",
      "compute marginals\n",
      "compute marginals iterating over trees\n"
     ]
    },
    {
     "name": "stderr",
     "output_type": "stream",
     "text": [
      "100%|██████████| 16/16 [00:00<00:00, 70.12it/s]\n"
     ]
    },
    {
     "name": "stdout",
     "output_type": "stream",
     "text": [
      "compute marginals done\n"
     ]
    },
    {
     "name": "stderr",
     "output_type": "stream",
     "text": [
      "1it [00:00, 9341.43it/s]\n"
     ]
    },
    {
     "name": "stdout",
     "output_type": "stream",
     "text": [
      "momentum 4 {(4,): {'individual importance': 0.04914247028572294, 'total importance': 0.04914247028572294, 'individual std': 0.04953772044775166, 'total std': 0.04953772044775166}}\n",
      "compute marginals\n",
      "compute marginals iterating over trees\n"
     ]
    },
    {
     "name": "stderr",
     "output_type": "stream",
     "text": [
      "100%|██████████| 16/16 [00:00<00:00, 249.66it/s]\n"
     ]
    },
    {
     "name": "stdout",
     "output_type": "stream",
     "text": [
      "compute marginals done\n"
     ]
    },
    {
     "name": "stderr",
     "output_type": "stream",
     "text": [
      "1it [00:00, 9986.44it/s]\n"
     ]
    },
    {
     "name": "stdout",
     "output_type": "stream",
     "text": [
      "num_layers 5 {(5,): {'individual importance': 0.08814170978461494, 'total importance': 0.08814170978461494, 'individual std': 0.07418228043755798, 'total std': 0.07418228043755798}}\n",
      "compute marginals\n",
      "compute marginals iterating over trees\n"
     ]
    },
    {
     "name": "stderr",
     "output_type": "stream",
     "text": [
      "100%|██████████| 16/16 [00:00<00:00, 66.26it/s]\n"
     ]
    },
    {
     "name": "stdout",
     "output_type": "stream",
     "text": [
      "compute marginals done\n"
     ]
    },
    {
     "name": "stderr",
     "output_type": "stream",
     "text": [
      "1it [00:00, 9341.43it/s]\n"
     ]
    },
    {
     "name": "stdout",
     "output_type": "stream",
     "text": [
      "weight_decay 6 {(6,): {'individual importance': 0.01103978234687802, 'total importance': 0.01103978234687802, 'individual std': 0.010261794756268202, 'total std': 0.010261794756268202}}\n",
      "{'batch_size': 0.06667917633964043, 'learning_rate': 0.17796906681228786, 'max_dropout': 0.020655525771821254, 'max_units': 0.08426813624650388, 'momentum': 0.04914247028572294, 'num_layers': 0.08814170978461494, 'weight_decay': 0.01103978234687802}\n",
      "Please make sure to also cite:\n",
      "Zimmer, L., Lindauer, M., & Hutter, F. (2021). Auto-Pytorch: Multi-Fidelity Metalearning for Efficient and Robust AutoDL. IEEE Transactions on Pattern Analysis and Machine Intelligence, 43(9), 3079-3090.\n",
      "Zimmer, L. (2020). data_2k_lw.zip. figshare. Dataset. https://doi.org/10.6084/m9.figshare.11662422.v1, Apache License, Version 2.0.\n"
     ]
    },
    {
     "name": "stderr",
     "output_type": "stream",
     "text": [
      "WARNING:hypershap.baseline.original_fanova.fANOVA:Note that fANOVA expects data to be ordered like the return of ConfigSpace's 'get_hyperparameters'-method. We recommend to use labeled pandas dataframes to avoid any problems.\n"
     ]
    },
    {
     "name": "stdout",
     "output_type": "stream",
     "text": [
      "CP1\n",
      "CP2\n",
      "CP3\n",
      "CP4\n",
      "CP5\n",
      "CP6\n",
      "CP7\n"
     ]
    },
    {
     "name": "stderr",
     "output_type": "stream",
     "text": [
      "100%|██████████| 16/16 [00:00<00:00, 27811.38it/s]\n"
     ]
    },
    {
     "name": "stdout",
     "output_type": "stream",
     "text": [
      "CP8\n",
      "compute marginals\n",
      "compute marginals iterating over trees\n"
     ]
    },
    {
     "name": "stderr",
     "output_type": "stream",
     "text": [
      "100%|██████████| 16/16 [00:00<00:00, 91.93it/s]\n"
     ]
    },
    {
     "name": "stdout",
     "output_type": "stream",
     "text": [
      "compute marginals done\n"
     ]
    },
    {
     "name": "stderr",
     "output_type": "stream",
     "text": [
      "1it [00:00, 9619.96it/s]\n"
     ]
    },
    {
     "name": "stdout",
     "output_type": "stream",
     "text": [
      "batch_size 0 {(0,): {'individual importance': 0.024292212566443885, 'total importance': 0.024292212566443885, 'individual std': 0.016449966103516546, 'total std': 0.016449966103516546}}\n",
      "compute marginals\n",
      "compute marginals iterating over trees\n"
     ]
    },
    {
     "name": "stderr",
     "output_type": "stream",
     "text": [
      "100%|██████████| 16/16 [00:00<00:00, 143.74it/s]\n"
     ]
    },
    {
     "name": "stdout",
     "output_type": "stream",
     "text": [
      "compute marginals done\n"
     ]
    },
    {
     "name": "stderr",
     "output_type": "stream",
     "text": [
      "1it [00:00, 8612.53it/s]\n"
     ]
    },
    {
     "name": "stdout",
     "output_type": "stream",
     "text": [
      "learning_rate 1 {(1,): {'individual importance': 0.10216094980537067, 'total importance': 0.10216094980537067, 'individual std': 0.03999834508639757, 'total std': 0.03999834508639757}}\n",
      "compute marginals\n",
      "compute marginals iterating over trees\n"
     ]
    },
    {
     "name": "stderr",
     "output_type": "stream",
     "text": [
      "100%|██████████| 16/16 [00:00<00:00, 63.74it/s]\n"
     ]
    },
    {
     "name": "stdout",
     "output_type": "stream",
     "text": [
      "compute marginals done\n"
     ]
    },
    {
     "name": "stderr",
     "output_type": "stream",
     "text": [
      "1it [00:00, 10330.80it/s]\n"
     ]
    },
    {
     "name": "stdout",
     "output_type": "stream",
     "text": [
      "max_dropout 2 {(2,): {'individual importance': 0.013184592384318178, 'total importance': 0.013184592384318178, 'individual std': 0.013151538000533506, 'total std': 0.013151538000533506}}\n",
      "compute marginals\n",
      "compute marginals iterating over trees\n"
     ]
    },
    {
     "name": "stderr",
     "output_type": "stream",
     "text": [
      "100%|██████████| 16/16 [00:00<00:00, 73.32it/s]\n"
     ]
    },
    {
     "name": "stdout",
     "output_type": "stream",
     "text": [
      "compute marginals done\n"
     ]
    },
    {
     "name": "stderr",
     "output_type": "stream",
     "text": [
      "1it [00:00, 10106.76it/s]\n"
     ]
    },
    {
     "name": "stdout",
     "output_type": "stream",
     "text": [
      "max_units 3 {(3,): {'individual importance': 0.03488762317521364, 'total importance': 0.03488762317521364, 'individual std': 0.0337163378186848, 'total std': 0.0337163378186848}}\n",
      "compute marginals\n",
      "compute marginals iterating over trees\n"
     ]
    },
    {
     "name": "stderr",
     "output_type": "stream",
     "text": [
      "100%|██████████| 16/16 [00:00<00:00, 68.64it/s]\n"
     ]
    },
    {
     "name": "stdout",
     "output_type": "stream",
     "text": [
      "compute marginals done\n"
     ]
    },
    {
     "name": "stderr",
     "output_type": "stream",
     "text": [
      "1it [00:00, 8905.10it/s]\n"
     ]
    },
    {
     "name": "stdout",
     "output_type": "stream",
     "text": [
      "momentum 4 {(4,): {'individual importance': 0.015537423076696281, 'total importance': 0.015537423076696281, 'individual std': 0.017417324583098966, 'total std': 0.017417324583098966}}\n",
      "compute marginals\n",
      "compute marginals iterating over trees\n"
     ]
    },
    {
     "name": "stderr",
     "output_type": "stream",
     "text": [
      "100%|██████████| 16/16 [00:00<00:00, 465.57it/s]\n"
     ]
    },
    {
     "name": "stdout",
     "output_type": "stream",
     "text": [
      "compute marginals done\n"
     ]
    },
    {
     "name": "stderr",
     "output_type": "stream",
     "text": [
      "1it [00:00, 9341.43it/s]\n"
     ]
    },
    {
     "name": "stdout",
     "output_type": "stream",
     "text": [
      "num_layers 5 {(5,): {'individual importance': 0.3839309837748828, 'total importance': 0.3839309837748828, 'individual std': 0.09798623356953133, 'total std': 0.09798623356953133}}\n",
      "compute marginals\n",
      "compute marginals iterating over trees\n"
     ]
    },
    {
     "name": "stderr",
     "output_type": "stream",
     "text": [
      "100%|██████████| 16/16 [00:00<00:00, 66.44it/s]\n"
     ]
    },
    {
     "name": "stdout",
     "output_type": "stream",
     "text": [
      "compute marginals done\n"
     ]
    },
    {
     "name": "stderr",
     "output_type": "stream",
     "text": [
      "1it [00:00, 9446.63it/s]\n"
     ]
    },
    {
     "name": "stdout",
     "output_type": "stream",
     "text": [
      "weight_decay 6 {(6,): {'individual importance': 0.0340191065043228, 'total importance': 0.0340191065043228, 'individual std': 0.019858691513249878, 'total std': 0.019858691513249878}}\n",
      "{'batch_size': 0.024292212566443885, 'learning_rate': 0.10216094980537067, 'max_dropout': 0.013184592384318178, 'max_units': 0.03488762317521364, 'momentum': 0.015537423076696281, 'num_layers': 0.3839309837748828, 'weight_decay': 0.0340191065043228}\n",
      "Please make sure to also cite:\n",
      "Zimmer, L., Lindauer, M., & Hutter, F. (2021). Auto-Pytorch: Multi-Fidelity Metalearning for Efficient and Robust AutoDL. IEEE Transactions on Pattern Analysis and Machine Intelligence, 43(9), 3079-3090.\n",
      "Zimmer, L. (2020). data_2k_lw.zip. figshare. Dataset. https://doi.org/10.6084/m9.figshare.11662422.v1, Apache License, Version 2.0.\n"
     ]
    },
    {
     "name": "stderr",
     "output_type": "stream",
     "text": [
      "WARNING:hypershap.baseline.original_fanova.fANOVA:Note that fANOVA expects data to be ordered like the return of ConfigSpace's 'get_hyperparameters'-method. We recommend to use labeled pandas dataframes to avoid any problems.\n"
     ]
    },
    {
     "name": "stdout",
     "output_type": "stream",
     "text": [
      "CP1\n",
      "CP2\n",
      "CP3\n",
      "CP4\n",
      "CP5\n",
      "CP6\n",
      "CP7\n"
     ]
    },
    {
     "name": "stderr",
     "output_type": "stream",
     "text": [
      "100%|██████████| 16/16 [00:00<00:00, 28569.12it/s]\n"
     ]
    },
    {
     "name": "stdout",
     "output_type": "stream",
     "text": [
      "CP8\n",
      "compute marginals\n",
      "compute marginals iterating over trees\n"
     ]
    },
    {
     "name": "stderr",
     "output_type": "stream",
     "text": [
      "100%|██████████| 16/16 [00:00<00:00, 81.60it/s]\n"
     ]
    },
    {
     "name": "stdout",
     "output_type": "stream",
     "text": [
      "compute marginals done\n"
     ]
    },
    {
     "name": "stderr",
     "output_type": "stream",
     "text": [
      "1it [00:00, 9532.51it/s]\n"
     ]
    },
    {
     "name": "stdout",
     "output_type": "stream",
     "text": [
      "batch_size 0 {(0,): {'individual importance': 0.03617026468626729, 'total importance': 0.03617026468626729, 'individual std': 0.03844701054364616, 'total std': 0.03844701054364616}}\n",
      "compute marginals\n",
      "compute marginals iterating over trees\n"
     ]
    },
    {
     "name": "stderr",
     "output_type": "stream",
     "text": [
      "100%|██████████| 16/16 [00:00<00:00, 89.86it/s]\n"
     ]
    },
    {
     "name": "stdout",
     "output_type": "stream",
     "text": [
      "compute marginals done\n"
     ]
    },
    {
     "name": "stderr",
     "output_type": "stream",
     "text": [
      "1it [00:00, 10727.12it/s]\n"
     ]
    },
    {
     "name": "stdout",
     "output_type": "stream",
     "text": [
      "learning_rate 1 {(1,): {'individual importance': 0.014969344210730647, 'total importance': 0.014969344210730647, 'individual std': 0.009188792292705968, 'total std': 0.009188792292705968}}\n",
      "compute marginals\n",
      "compute marginals iterating over trees\n"
     ]
    },
    {
     "name": "stderr",
     "output_type": "stream",
     "text": [
      "100%|██████████| 16/16 [00:00<00:00, 70.91it/s]\n"
     ]
    },
    {
     "name": "stdout",
     "output_type": "stream",
     "text": [
      "compute marginals done\n"
     ]
    },
    {
     "name": "stderr",
     "output_type": "stream",
     "text": [
      "1it [00:00, 9731.56it/s]\n"
     ]
    },
    {
     "name": "stdout",
     "output_type": "stream",
     "text": [
      "max_dropout 2 {(2,): {'individual importance': 0.046528122400818404, 'total importance': 0.046528122400818404, 'individual std': 0.031995758329808256, 'total std': 0.031995758329808256}}\n",
      "compute marginals\n",
      "compute marginals iterating over trees\n"
     ]
    },
    {
     "name": "stderr",
     "output_type": "stream",
     "text": [
      "100%|██████████| 16/16 [00:00<00:00, 63.76it/s]\n"
     ]
    },
    {
     "name": "stdout",
     "output_type": "stream",
     "text": [
      "compute marginals done\n"
     ]
    },
    {
     "name": "stderr",
     "output_type": "stream",
     "text": [
      "1it [00:00, 8490.49it/s]\n"
     ]
    },
    {
     "name": "stdout",
     "output_type": "stream",
     "text": [
      "max_units 3 {(3,): {'individual importance': 0.002601524408818492, 'total importance': 0.002601524408818492, 'individual std': 0.0025061530838915843, 'total std': 0.0025061530838915843}}\n",
      "compute marginals\n",
      "compute marginals iterating over trees\n"
     ]
    },
    {
     "name": "stderr",
     "output_type": "stream",
     "text": [
      "100%|██████████| 16/16 [00:00<00:00, 63.46it/s]\n"
     ]
    },
    {
     "name": "stdout",
     "output_type": "stream",
     "text": [
      "compute marginals done\n"
     ]
    },
    {
     "name": "stderr",
     "output_type": "stream",
     "text": [
      "1it [00:00, 8559.80it/s]\n"
     ]
    },
    {
     "name": "stdout",
     "output_type": "stream",
     "text": [
      "momentum 4 {(4,): {'individual importance': 0.028875308075017446, 'total importance': 0.028875308075017446, 'individual std': 0.03873283132899017, 'total std': 0.03873283132899017}}\n",
      "compute marginals\n",
      "compute marginals iterating over trees\n"
     ]
    },
    {
     "name": "stderr",
     "output_type": "stream",
     "text": [
      "100%|██████████| 16/16 [00:00<00:00, 502.61it/s]\n"
     ]
    },
    {
     "name": "stdout",
     "output_type": "stream",
     "text": [
      "compute marginals done\n"
     ]
    },
    {
     "name": "stderr",
     "output_type": "stream",
     "text": [
      "1it [00:00, 7084.97it/s]\n"
     ]
    },
    {
     "name": "stdout",
     "output_type": "stream",
     "text": [
      "num_layers 5 {(5,): {'individual importance': 0.13774051462079312, 'total importance': 0.13774051462079312, 'individual std': 0.0719374635498438, 'total std': 0.0719374635498438}}\n",
      "compute marginals\n",
      "compute marginals iterating over trees\n"
     ]
    },
    {
     "name": "stderr",
     "output_type": "stream",
     "text": [
      "100%|██████████| 16/16 [00:00<00:00, 96.25it/s]\n"
     ]
    },
    {
     "name": "stdout",
     "output_type": "stream",
     "text": [
      "compute marginals done\n"
     ]
    },
    {
     "name": "stderr",
     "output_type": "stream",
     "text": [
      "1it [00:00, 10205.12it/s]\n"
     ]
    },
    {
     "name": "stdout",
     "output_type": "stream",
     "text": [
      "weight_decay 6 {(6,): {'individual importance': 0.1102875470656001, 'total importance': 0.1102875470656001, 'individual std': 0.05948258906303532, 'total std': 0.05948258906303532}}\n",
      "{'batch_size': 0.03617026468626729, 'learning_rate': 0.014969344210730647, 'max_dropout': 0.046528122400818404, 'max_units': 0.002601524408818492, 'momentum': 0.028875308075017446, 'num_layers': 0.13774051462079312, 'weight_decay': 0.1102875470656001}\n",
      "Please make sure to also cite:\n",
      "Zimmer, L., Lindauer, M., & Hutter, F. (2021). Auto-Pytorch: Multi-Fidelity Metalearning for Efficient and Robust AutoDL. IEEE Transactions on Pattern Analysis and Machine Intelligence, 43(9), 3079-3090.\n",
      "Zimmer, L. (2020). data_2k_lw.zip. figshare. Dataset. https://doi.org/10.6084/m9.figshare.11662422.v1, Apache License, Version 2.0.\n"
     ]
    },
    {
     "name": "stderr",
     "output_type": "stream",
     "text": [
      "WARNING:hypershap.baseline.original_fanova.fANOVA:Note that fANOVA expects data to be ordered like the return of ConfigSpace's 'get_hyperparameters'-method. We recommend to use labeled pandas dataframes to avoid any problems.\n"
     ]
    },
    {
     "name": "stdout",
     "output_type": "stream",
     "text": [
      "CP1\n",
      "CP2\n",
      "CP3\n",
      "CP4\n",
      "CP5\n",
      "CP6\n",
      "CP7\n"
     ]
    },
    {
     "name": "stderr",
     "output_type": "stream",
     "text": [
      "100%|██████████| 16/16 [00:00<00:00, 28988.71it/s]\n"
     ]
    },
    {
     "name": "stdout",
     "output_type": "stream",
     "text": [
      "CP8\n",
      "compute marginals\n",
      "compute marginals iterating over trees\n"
     ]
    },
    {
     "name": "stderr",
     "output_type": "stream",
     "text": [
      "100%|██████████| 16/16 [00:00<00:00, 70.28it/s]\n"
     ]
    },
    {
     "name": "stdout",
     "output_type": "stream",
     "text": [
      "compute marginals done\n"
     ]
    },
    {
     "name": "stderr",
     "output_type": "stream",
     "text": [
      "1it [00:00, 9709.04it/s]\n"
     ]
    },
    {
     "name": "stdout",
     "output_type": "stream",
     "text": [
      "batch_size 0 {(0,): {'individual importance': 0.012890272848390017, 'total importance': 0.012890272848390017, 'individual std': 0.012050188554850218, 'total std': 0.012050188554850218}}\n",
      "compute marginals\n",
      "compute marginals iterating over trees\n"
     ]
    },
    {
     "name": "stderr",
     "output_type": "stream",
     "text": [
      "100%|██████████| 16/16 [00:00<00:00, 91.87it/s]\n"
     ]
    },
    {
     "name": "stdout",
     "output_type": "stream",
     "text": [
      "compute marginals done\n"
     ]
    },
    {
     "name": "stderr",
     "output_type": "stream",
     "text": [
      "1it [00:00, 8630.26it/s]\n"
     ]
    },
    {
     "name": "stdout",
     "output_type": "stream",
     "text": [
      "learning_rate 1 {(1,): {'individual importance': 0.027764081056993496, 'total importance': 0.027764081056993496, 'individual std': 0.03062431962535102, 'total std': 0.03062431962535102}}\n",
      "compute marginals\n",
      "compute marginals iterating over trees\n"
     ]
    },
    {
     "name": "stderr",
     "output_type": "stream",
     "text": [
      "100%|██████████| 16/16 [00:00<00:00, 79.32it/s]\n"
     ]
    },
    {
     "name": "stdout",
     "output_type": "stream",
     "text": [
      "compute marginals done\n"
     ]
    },
    {
     "name": "stderr",
     "output_type": "stream",
     "text": [
      "1it [00:00, 8630.26it/s]\n"
     ]
    },
    {
     "name": "stdout",
     "output_type": "stream",
     "text": [
      "max_dropout 2 {(2,): {'individual importance': 0.05309795349497537, 'total importance': 0.05309795349497537, 'individual std': 0.02100673390353654, 'total std': 0.02100673390353654}}\n",
      "compute marginals\n",
      "compute marginals iterating over trees\n"
     ]
    },
    {
     "name": "stderr",
     "output_type": "stream",
     "text": [
      "100%|██████████| 16/16 [00:00<00:00, 76.40it/s]\n"
     ]
    },
    {
     "name": "stdout",
     "output_type": "stream",
     "text": [
      "compute marginals done\n"
     ]
    },
    {
     "name": "stderr",
     "output_type": "stream",
     "text": [
      "1it [00:00, 11125.47it/s]\n"
     ]
    },
    {
     "name": "stdout",
     "output_type": "stream",
     "text": [
      "max_units 3 {(3,): {'individual importance': 0.026139084828005275, 'total importance': 0.026139084828005275, 'individual std': 0.027052073142611738, 'total std': 0.027052073142611738}}\n",
      "compute marginals\n",
      "compute marginals iterating over trees\n"
     ]
    },
    {
     "name": "stderr",
     "output_type": "stream",
     "text": [
      "100%|██████████| 16/16 [00:00<00:00, 64.97it/s]\n"
     ]
    },
    {
     "name": "stdout",
     "output_type": "stream",
     "text": [
      "compute marginals done\n"
     ]
    },
    {
     "name": "stderr",
     "output_type": "stream",
     "text": [
      "1it [00:00, 10305.42it/s]\n"
     ]
    },
    {
     "name": "stdout",
     "output_type": "stream",
     "text": [
      "momentum 4 {(4,): {'individual importance': 0.008594290815675636, 'total importance': 0.008594290815675636, 'individual std': 0.009813256698863633, 'total std': 0.009813256698863633}}\n",
      "compute marginals\n",
      "compute marginals iterating over trees\n"
     ]
    },
    {
     "name": "stderr",
     "output_type": "stream",
     "text": [
      "100%|██████████| 16/16 [00:00<00:00, 402.74it/s]\n"
     ]
    },
    {
     "name": "stdout",
     "output_type": "stream",
     "text": [
      "compute marginals done\n"
     ]
    },
    {
     "name": "stderr",
     "output_type": "stream",
     "text": [
      "1it [00:00, 11748.75it/s]\n"
     ]
    },
    {
     "name": "stdout",
     "output_type": "stream",
     "text": [
      "num_layers 5 {(5,): {'individual importance': 0.07462556229540389, 'total importance': 0.07462556229540389, 'individual std': 0.04166013772974316, 'total std': 0.04166013772974316}}\n",
      "compute marginals\n",
      "compute marginals iterating over trees\n"
     ]
    },
    {
     "name": "stderr",
     "output_type": "stream",
     "text": [
      "100%|██████████| 16/16 [00:00<00:00, 84.93it/s]\n"
     ]
    },
    {
     "name": "stdout",
     "output_type": "stream",
     "text": [
      "compute marginals done\n"
     ]
    },
    {
     "name": "stderr",
     "output_type": "stream",
     "text": [
      "1it [00:00, 8848.74it/s]"
     ]
    },
    {
     "name": "stdout",
     "output_type": "stream",
     "text": [
      "weight_decay 6 {(6,): {'individual importance': 0.18860052175222516, 'total importance': 0.18860052175222516, 'individual std': 0.07075815179869335, 'total std': 0.07075815179869335}}\n",
      "{'batch_size': 0.012890272848390017, 'learning_rate': 0.027764081056993496, 'max_dropout': 0.05309795349497537, 'max_units': 0.026139084828005275, 'momentum': 0.008594290815675636, 'num_layers': 0.07462556229540389, 'weight_decay': 0.18860052175222516}\n"
     ]
    },
    {
     "name": "stderr",
     "output_type": "stream",
     "text": [
      "\n"
     ]
    }
   ],
   "execution_count": 20
  },
  {
   "metadata": {},
   "cell_type": "code",
   "outputs": [],
   "execution_count": null,
   "source": "",
   "id": "9d5b03622ec0d0ea"
  }
 ],
 "metadata": {
  "kernelspec": {
   "display_name": "Python 3",
   "language": "python",
   "name": "python3"
  },
  "language_info": {
   "codemirror_mode": {
    "name": "ipython",
    "version": 2
   },
   "file_extension": ".py",
   "mimetype": "text/x-python",
   "name": "python",
   "nbconvert_exporter": "python",
   "pygments_lexer": "ipython2",
   "version": "2.7.6"
  }
 },
 "nbformat": 4,
 "nbformat_minor": 5
}
